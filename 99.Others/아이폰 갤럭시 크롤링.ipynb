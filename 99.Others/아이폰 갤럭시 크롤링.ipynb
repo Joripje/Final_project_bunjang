{
 "cells": [
  {
   "cell_type": "code",
   "execution_count": 3,
   "id": "bb372ec3",
   "metadata": {
    "ExecuteTime": {
     "end_time": "2021-12-23T09:11:11.504819Z",
     "start_time": "2021-12-23T09:11:11.495844Z"
    }
   },
   "outputs": [],
   "source": [
    "import pandas as pd\n",
    "import numpy as np\n",
    "import matplotlib.pyplot as plt\n",
    "import seaborn as sns\n",
    "import requests\n",
    "import json\n",
    "import time\n",
    "import datetime\n",
    "\n",
    "from pandas.io.json import json_normalize\n",
    "from bs4 import BeautifulSoup\n",
    "pd.options.display.max_info_columns =200\n",
    "pd.options.display.max_columns = 200\n",
    "pd.options.display.max_info_rows =100\n",
    "pd.options.display.max_rows = 100\n",
    "\n",
    "import os\n",
    "from tqdm import tqdm_notebook"
   ]
  },
  {
   "cell_type": "markdown",
   "id": "170c00c3",
   "metadata": {},
   "source": [
    "# 번개장터 이미지크롤링"
   ]
  },
  {
   "cell_type": "markdown",
   "id": "18801783",
   "metadata": {},
   "source": [
    "### 주요상품\n",
    "- 310\t여성의류\tw_wear\n",
    "- 320\t남성의류\tm_wear\n",
    "- 400\t패션액세서리\tacc\n",
    "- 405\t신발\tshoes\n",
    "- 420\t시계_쥬얼리\tjewelry\n",
    "- 430\t가방\tbag\n",
    "- 600\t디지털_가전\telectronic\n",
    "- 700\t스포츠_레저\tsports\n",
    "- 750\t차량_오토바이\tcar\n",
    "\n",
    "\n",
    "### 비주류상품\n",
    "- 410\t뷰티\tbeauty\n",
    "- 500\t유아\tbaby\n",
    "- 800\t생활_가공식품\tliving\n",
    "- 810\t가구_인테리어\tinterior\n",
    "- 900\t도서_티켓_문구\tbook_stationery\n",
    "- 910\t스타굿즈\tstargoods\n",
    "- 920\t음반_악기\tmusic\n",
    "- 930\t키덜트\tkidult\n",
    "- 980\t반려동물\tpet\n",
    "- 990\t수집품\tcollect\n",
    "- 999\t기타\tothers"
   ]
  },
  {
   "cell_type": "code",
   "execution_count": 4,
   "id": "b1195972",
   "metadata": {
    "ExecuteTime": {
     "end_time": "2021-12-23T09:11:13.307648Z",
     "start_time": "2021-12-23T09:11:13.091307Z"
    }
   },
   "outputs": [],
   "source": [
    "from selenium import webdriver\n",
    "from selenium.webdriver.common.keys import Keys"
   ]
  },
  {
   "cell_type": "code",
   "execution_count": 5,
   "id": "dc56450f",
   "metadata": {
    "ExecuteTime": {
     "end_time": "2021-12-23T09:11:18.425680Z",
     "start_time": "2021-12-23T09:11:16.194429Z"
    }
   },
   "outputs": [],
   "source": [
    "# 드라이버 실행\n",
    "driver = webdriver.Chrome()"
   ]
  },
  {
   "cell_type": "code",
   "execution_count": null,
   "id": "1a5bdf01",
   "metadata": {},
   "outputs": [],
   "source": [
    "//*[@id=\"root\"]/div/div/div[4]/div/div[3]/div/div[2]/a/div[1]/img"
   ]
  },
  {
   "cell_type": "code",
   "execution_count": null,
   "id": "151ecf69",
   "metadata": {},
   "outputs": [],
   "source": [
    "//*[@id=\"root\"]/div/div/div[4]/div/div[3]/div/div[1]/a/div[1]/img"
   ]
  },
  {
   "cell_type": "code",
   "execution_count": null,
   "id": "7ca1bee4",
   "metadata": {},
   "outputs": [],
   "source": []
  },
  {
   "cell_type": "code",
   "execution_count": 17,
   "id": "b044a4c0",
   "metadata": {
    "ExecuteTime": {
     "end_time": "2021-12-23T09:25:00.691162Z",
     "start_time": "2021-12-23T09:22:13.603709Z"
    }
   },
   "outputs": [
    {
     "name": "stdout",
     "output_type": "stream",
     "text": [
      "app항목 1페이지 완료\n",
      "app항목 2페이지 완료\n",
      "app항목 3페이지 완료\n",
      "app항목 4페이지 완료\n",
      "app항목 5페이지 완료\n",
      "app항목 6페이지 완료\n",
      "app항목 7페이지 완료\n",
      "app항목 8페이지 완료\n",
      "app항목 9페이지 완료\n",
      "app항목 10페이지 완료\n",
      "app항목 11페이지 완료\n",
      "app항목 12페이지 완료\n",
      "app항목 13페이지 완료\n",
      "app항목 14페이지 완료\n",
      "app항목 15페이지 완료\n",
      "app항목 작업 완료\n",
      "\n",
      "sam항목 1페이지 완료\n",
      "sam항목 2페이지 완료\n",
      "sam항목 3페이지 완료\n",
      "sam항목 4페이지 완료\n",
      "sam항목 5페이지 완료\n",
      "sam항목 6페이지 완료\n",
      "sam항목 7페이지 완료\n",
      "sam항목 8페이지 완료\n",
      "sam항목 9페이지 완료\n",
      "sam항목 10페이지 완료\n",
      "sam항목 11페이지 완료\n",
      "sam항목 12페이지 완료\n",
      "sam항목 13페이지 완료\n",
      "sam항목 14페이지 완료\n",
      "sam항목 15페이지 완료\n",
      "sam항목 작업 완료\n",
      "\n",
      "전체작업 완료\n"
     ]
    }
   ],
   "source": [
    "# cat 별 링크 들어가게 세팅\n",
    "cat_list = ['아이폰', '갤럭시']\n",
    "cat_name = ['app','sam']\n",
    "pages = [1,2,3,4,5,6,7,8,9,10,11,12,13,14,15]\n",
    "# 카테고리별 링크 담기\n",
    "total_df = []\n",
    "\n",
    "for cat in cat_list:\n",
    "    # category별 dataframe 생성\n",
    "    cat_df=pd.DataFrame()\n",
    "    link=[]    \n",
    "    for page in pages:\n",
    "        url = f'https://m.bunjang.co.kr/search/products?q={cat}&order=score&page={page}&category_id=600700001'\n",
    "        driver.get(url)\n",
    "        time.sleep(2)\n",
    "    \n",
    "        # 페이지마다 사진 100장씩\n",
    "        for i in range(1,101):\n",
    "            try:\n",
    "                link.append(driver.find_element_by_xpath(f'//*[@id=\"root\"]/div/div/div[4]/div/div[3]/div/div[{i}]/a/div[1]/img').get_attribute('src'))\n",
    "            except: pass\n",
    "        print(f'{cat_name[cat_list.index(cat)]}항목 {page}페이지 완료')\n",
    "        \n",
    "    cat_df['link'] = link\n",
    "    cat_df['category'] = cat_name[cat_list.index(cat)]\n",
    "    total_df.append(cat_df)\n",
    "    print(f'{cat_name[cat_list.index(cat)]}항목 작업 완료\\n')\n",
    "    \n",
    "print('전체작업 완료')"
   ]
  },
  {
   "cell_type": "code",
   "execution_count": 18,
   "id": "11c48a40",
   "metadata": {
    "ExecuteTime": {
     "end_time": "2021-12-23T09:25:44.445470Z",
     "start_time": "2021-12-23T09:25:44.407998Z"
    }
   },
   "outputs": [],
   "source": [
    "# 각 작업 파일 저장\n",
    "for i in range(len(cat_list)):\n",
    "    total_df[0].to_csv(f'C:\\\\workspace_python\\\\final\\\\image\\\\test\\\\{cat_name[0]}.csv',index=False)\n",
    "    total_df[i].to_csv(f'C:\\\\workspace_python\\\\final\\\\image\\\\test\\\\{cat_name[i]}.csv',index=False)"
   ]
  },
  {
   "cell_type": "markdown",
   "id": "d89b17c2",
   "metadata": {},
   "source": [
    "# 번개장터 크롤링 이미지 저장"
   ]
  },
  {
   "cell_type": "code",
   "execution_count": 19,
   "id": "deabac95",
   "metadata": {
    "ExecuteTime": {
     "end_time": "2021-12-23T09:25:45.540094Z",
     "start_time": "2021-12-23T09:25:45.496501Z"
    }
   },
   "outputs": [],
   "source": [
    "# 파일 불러오기\n",
    "cat_name = ['app','sam']\n",
    "total_df=[]\n",
    "\n",
    "for cat in cat_name:\n",
    "    temp = pd.read_csv(f'C:\\\\workspace_python\\\\final\\\\image\\\\test\\\\{cat}.csv')\n",
    "    total_df.append(temp)\n"
   ]
  },
  {
   "cell_type": "code",
   "execution_count": 20,
   "id": "2df6baa8",
   "metadata": {
    "ExecuteTime": {
     "end_time": "2021-12-23T09:25:45.967620Z",
     "start_time": "2021-12-23T09:25:45.944189Z"
    }
   },
   "outputs": [
    {
     "data": {
      "text/plain": [
       "[                                                   link category\n",
       " 0     https://media.bunjang.co.kr/product/173004801_...      app\n",
       " 1     https://media.bunjang.co.kr/product/173966602_...      app\n",
       " 2     https://media.bunjang.co.kr/product/173966578_...      app\n",
       " 3     https://media.bunjang.co.kr/product/173966631_...      app\n",
       " 4     https://media.bunjang.co.kr/product/173966427_...      app\n",
       " ...                                                 ...      ...\n",
       " 1495  https://media.bunjang.co.kr/product/170157961_...      app\n",
       " 1496  https://media.bunjang.co.kr/product/173924949_...      app\n",
       " 1497  https://media.bunjang.co.kr/product/173754033_...      app\n",
       " 1498  https://media.bunjang.co.kr/product/173917504_...      app\n",
       " 1499  https://media.bunjang.co.kr/product/173094262_...      app\n",
       " \n",
       " [1500 rows x 2 columns],\n",
       "                                                    link category\n",
       " 0     https://media.bunjang.co.kr/product/173079810_...      sam\n",
       " 1     https://media.bunjang.co.kr/product/173966721_...      sam\n",
       " 2     https://media.bunjang.co.kr/product/173966754_...      sam\n",
       " 3     https://media.bunjang.co.kr/product/173966734_...      sam\n",
       " 4     https://media.bunjang.co.kr/product/173966627_...      sam\n",
       " ...                                                 ...      ...\n",
       " 1495  https://media.bunjang.co.kr/product/170070628_...      sam\n",
       " 1496  https://media.bunjang.co.kr/product/173937277_...      sam\n",
       " 1497  https://media.bunjang.co.kr/product/173937014_...      sam\n",
       " 1498  https://media.bunjang.co.kr/product/173936059_...      sam\n",
       " 1499  https://media.bunjang.co.kr/product/173936057_...      sam\n",
       " \n",
       " [1500 rows x 2 columns]]"
      ]
     },
     "execution_count": 20,
     "metadata": {},
     "output_type": "execute_result"
    }
   ],
   "source": [
    "total_df"
   ]
  },
  {
   "cell_type": "code",
   "execution_count": 71,
   "id": "b419098d",
   "metadata": {
    "ExecuteTime": {
     "end_time": "2021-12-23T04:42:55.852123Z",
     "start_time": "2021-12-23T04:42:55.821582Z"
    }
   },
   "outputs": [
    {
     "data": {
      "text/plain": [
       "'\\nfrom PIL import Image\\n\\nfor cat in range(len(total_df)):\\n    for i in tqdm_notebook(range(len(total_df[cat])),desc=\"Image download\"):\\n        url = total_df[cat][\\'link\\'].iloc[i]\\n        os.system(\"curl \" + url + f\" > C:\\\\workspace_python\\\\final\\\\image\\\\image\\\\{cat_name[cat]}\\\\c_{i}.jpg\")\\n'"
      ]
     },
     "execution_count": 71,
     "metadata": {},
     "output_type": "execute_result"
    }
   ],
   "source": [
    "'''\n",
    "from PIL import Image\n",
    "\n",
    "for cat in range(len(total_df)):\n",
    "    for i in tqdm_notebook(range(len(total_df[cat])),desc=\"Image download\"):\n",
    "        url = total_df[cat]['link'].iloc[i]\n",
    "        os.system(\"curl \" + url + f\" > C:\\\\workspace_python\\\\final\\\\image\\\\image\\\\{cat_name[cat]}\\\\c_{i}.jpg\")\n",
    "'''"
   ]
  },
  {
   "cell_type": "code",
   "execution_count": 22,
   "id": "893f25ca",
   "metadata": {
    "ExecuteTime": {
     "end_time": "2021-12-23T09:34:37.444608Z",
     "start_time": "2021-12-23T09:26:39.772399Z"
    }
   },
   "outputs": [
    {
     "name": "stderr",
     "output_type": "stream",
     "text": [
      "<ipython-input-22-ae0acd88616d>:4: TqdmDeprecationWarning: This function will be removed in tqdm==5.0.0\n",
      "Please use `tqdm.notebook.tqdm` instead of `tqdm.tqdm_notebook`\n",
      "  for i in tqdm_notebook(range(len(total_df[cat])),desc=\"Image download\"):\n"
     ]
    },
    {
     "data": {
      "application/vnd.jupyter.widget-view+json": {
       "model_id": "7ab7cb91d854404d84c819b131426336",
       "version_major": 2,
       "version_minor": 0
      },
      "text/plain": [
       "Image download:   0%|          | 0/1500 [00:00<?, ?it/s]"
      ]
     },
     "metadata": {},
     "output_type": "display_data"
    },
    {
     "data": {
      "application/vnd.jupyter.widget-view+json": {
       "model_id": "43bc2ec030aa44b99622fa5e0160624e",
       "version_major": 2,
       "version_minor": 0
      },
      "text/plain": [
       "Image download:   0%|          | 0/1500 [00:00<?, ?it/s]"
      ]
     },
     "metadata": {},
     "output_type": "display_data"
    }
   ],
   "source": [
    "from PIL import Image\n",
    "\n",
    "for cat in range(len(total_df)):\n",
    "    for i in tqdm_notebook(range(len(total_df[cat])),desc=\"Image download\"):\n",
    "        url = total_df[cat]['link'].iloc[i]\n",
    "        os.system(\"curl \" + url + f\" > C:\\\\workspace_python\\\\final\\\\image\\\\test\\\\{cat_name[cat]}\\\\c_{i}.jpg\")"
   ]
  },
  {
   "cell_type": "code",
   "execution_count": null,
   "id": "a69dc813",
   "metadata": {},
   "outputs": [],
   "source": []
  }
 ],
 "metadata": {
  "kernelspec": {
   "display_name": "Python 3",
   "language": "python",
   "name": "python3"
  },
  "language_info": {
   "codemirror_mode": {
    "name": "ipython",
    "version": 3
   },
   "file_extension": ".py",
   "mimetype": "text/x-python",
   "name": "python",
   "nbconvert_exporter": "python",
   "pygments_lexer": "ipython3",
   "version": "3.8.8"
  },
  "toc": {
   "base_numbering": 1,
   "nav_menu": {},
   "number_sections": true,
   "sideBar": true,
   "skip_h1_title": false,
   "title_cell": "Table of Contents",
   "title_sidebar": "Contents",
   "toc_cell": false,
   "toc_position": {},
   "toc_section_display": true,
   "toc_window_display": false
  },
  "varInspector": {
   "cols": {
    "lenName": 16,
    "lenType": 16,
    "lenVar": 40
   },
   "kernels_config": {
    "python": {
     "delete_cmd_postfix": "",
     "delete_cmd_prefix": "del ",
     "library": "var_list.py",
     "varRefreshCmd": "print(var_dic_list())"
    },
    "r": {
     "delete_cmd_postfix": ") ",
     "delete_cmd_prefix": "rm(",
     "library": "var_list.r",
     "varRefreshCmd": "cat(var_dic_list()) "
    }
   },
   "types_to_exclude": [
    "module",
    "function",
    "builtin_function_or_method",
    "instance",
    "_Feature"
   ],
   "window_display": false
  }
 },
 "nbformat": 4,
 "nbformat_minor": 5
}
