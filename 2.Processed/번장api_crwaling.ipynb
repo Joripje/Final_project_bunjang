{
 "cells": [
  {
   "cell_type": "code",
   "execution_count": 1,
   "id": "6261bfa6",
   "metadata": {
    "ExecuteTime": {
     "end_time": "2021-12-30T03:47:23.631447Z",
     "start_time": "2021-12-30T03:47:22.893333Z"
    }
   },
   "outputs": [],
   "source": [
    "import pandas as pd\n",
    "import numpy as np\n",
    "import matplotlib.pyplot as plt\n",
    "import seaborn as sns\n",
    "import requests\n",
    "import json\n",
    "import time\n",
    "import datetime\n",
    "\n",
    "from pandas.io.json import json_normalize\n",
    "from bs4 import BeautifulSoup\n",
    "pd.options.display.max_info_columns =200\n",
    "pd.options.display.max_columns = 200\n",
    "pd.options.display.max_info_rows =100\n",
    "pd.options.display.max_rows = 100\n",
    "\n",
    "import os\n",
    "from tqdm import tqdm_notebook"
   ]
  },
  {
   "cell_type": "code",
   "execution_count": 5,
   "id": "c849d107",
   "metadata": {
    "ExecuteTime": {
     "end_time": "2021-12-30T03:53:00.907054Z",
     "start_time": "2021-12-30T03:53:00.899427Z"
    }
   },
   "outputs": [
    {
     "data": {
      "text/plain": [
       "3"
      ]
     },
     "execution_count": 5,
     "metadata": {},
     "output_type": "execute_result"
    }
   ],
   "source": [
    "# pages = range(1,101)\n",
    "pages = range(1,2)\n",
    "# query_list = ['아디다스','에어컨','에어팟','오토바이','블라우스','팔찌','카메라','코트','컴퓨터','구두','귀걸이','갤럭시',\n",
    "#               '갤럭시케이스','안경','모자','하이힐','후드','아이폰케이스','아이폰','자켓','청바지','점퍼','중고차','키보드','노트북',\n",
    "#               '마우스','목도리','네일','니트','목걸이','나이키','닌텐도','원피스','패딩','바지','향수','냉장고','레고',\n",
    "#               '반지','셔츠','치마','스피커','정장','선글라스','티셔츠','트레이닝','티비','지갑','세탁기','시계']\n",
    "\n",
    "# query_list = ['아디다스','에어컨','에어팟','오토바이','블라우스','팔찌','카메라','코트','컴퓨터','구두','귀걸이','갤럭시']\n",
    "query_list = ['아디다스','에어컨','에어팟']\n",
    "# 외제차 + 국산차 : 중고차로 통일\n",
    "len(query_list)"
   ]
  },
  {
   "cell_type": "code",
   "execution_count": 6,
   "id": "b3fe3803",
   "metadata": {
    "ExecuteTime": {
     "end_time": "2021-12-30T03:53:19.923277Z",
     "start_time": "2021-12-30T03:53:03.245103Z"
    },
    "scrolled": true
   },
   "outputs": [
    {
     "name": "stderr",
     "output_type": "stream",
     "text": [
      "/var/folders/c0/q_ltjrb55gzc5wvhsv7s_vsh0000gn/T/ipykernel_70408/1331840818.py:6: TqdmDeprecationWarning: This function will be removed in tqdm==5.0.0\n",
      "Please use `tqdm.notebook.tqdm` instead of `tqdm.tqdm_notebook`\n",
      "  for page in tqdm_notebook(pages):\n"
     ]
    },
    {
     "data": {
      "application/vnd.jupyter.widget-view+json": {
       "model_id": "cc529099f8e54a3696a36ca68f40e9c9",
       "version_major": 2,
       "version_minor": 0
      },
      "text/plain": [
       "  0%|          | 0/1 [00:00<?, ?it/s]"
      ]
     },
     "metadata": {},
     "output_type": "display_data"
    },
    {
     "data": {
      "application/vnd.jupyter.widget-view+json": {
       "model_id": "45bcce83605c4968a32226e5c75bd6d7",
       "version_major": 2,
       "version_minor": 0
      },
      "text/plain": [
       "  0%|          | 0/1 [00:00<?, ?it/s]"
      ]
     },
     "metadata": {},
     "output_type": "display_data"
    },
    {
     "data": {
      "application/vnd.jupyter.widget-view+json": {
       "model_id": "d827a4e14b6b47408d8c957e19472108",
       "version_major": 2,
       "version_minor": 0
      },
      "text/plain": [
       "  0%|          | 0/1 [00:00<?, ?it/s]"
      ]
     },
     "metadata": {},
     "output_type": "display_data"
    }
   ],
   "source": [
    "total_df =[]\n",
    "\n",
    "for query in query_list:\n",
    "    cat_df = pd.DataFrame()\n",
    "    \n",
    "    for page in tqdm_notebook(pages):\n",
    "        \n",
    "        pid_list = [] # 아이템 리스트 담기\n",
    "        bunjang_url = f'https://api.bunjang.co.kr/api/1/find_v2.json?q={query}&order=date&page={page}&stat_device=w&stat_category_required=1&req_ref=search&version=4'\n",
    "        response = requests.get(bunjang_url.encode('utf-8'))\n",
    "        \n",
    "        try:\n",
    "            item_list = response.json()[\"list\"]\n",
    "            ids = [item[\"pid\"] for item in item_list]\n",
    "            pid_list.extend(ids)\n",
    "        except:\n",
    "            continue\n",
    "        \n",
    "        # 아이템별 데이터 프레임 생성\n",
    "        df = pd.DataFrame()\n",
    "        product_id, image_link, title, keyword, cat1, cat2, cat3, view = [],[],[],[],[],[],[],[]\n",
    "        for pid in pid_list:\n",
    "            url = f\"https://api.bunjang.co.kr/api/1/product/{pid}/detail_info.json?version=4\"\n",
    "            response = requests.get(url)\n",
    "           \n",
    "            try : \n",
    "                product_id.append(response.json()['item_info']['pid'])\n",
    "            except : \n",
    "                product_id.append(0)\n",
    "            try :\n",
    "                image_link.append(response.json()['item_info']['product_image'])\n",
    "            except : \n",
    "                image_link.append(0)\n",
    "            try : \n",
    "                title.append(response.json()['item_info']['name'])\n",
    "            except : \n",
    "                title.append(0)\n",
    "            try : \n",
    "                keyword.append(response.json()['item_info']['keyword'])\n",
    "            except : \n",
    "                keyword.append(0)\n",
    "            try : \n",
    "                cat1.append(list(response.json()['item_info']['category_name'][0].values())[0])\n",
    "            except : \n",
    "                cat1.append(0)\n",
    "            try : \n",
    "                cat2.append(list(response.json()['item_info']['category_name'][1].values())[0])\n",
    "            except : \n",
    "                cat2.append(0)                \n",
    "            try : \n",
    "                cat3.append(list(response.json()['item_info']['category_name'][2].values())[0])\n",
    "            except : \n",
    "                cat3.append(0)\n",
    "            try : \n",
    "                view.append(response.json()['item_info']['num_item_view'])\n",
    "            except : \n",
    "                view.append(0)\n",
    "\n",
    "        df['product_id'] = product_id\n",
    "        df['title'] = title\n",
    "        df['keyword'] = keyword\n",
    "        df['cat1'] = cat1\n",
    "        df['cat2'] = cat2\n",
    "        df['cat3'] = cat3\n",
    "        df['view'] = view\n",
    "        df['image'] = image_link\n",
    "        temp = df\n",
    "        cat_df = pd.concat([cat_df,temp])\n",
    "\n",
    "    total_df.append(cat_df)"
   ]
  },
  {
   "cell_type": "code",
   "execution_count": 8,
   "id": "a9c85ffd",
   "metadata": {
    "ExecuteTime": {
     "end_time": "2021-12-30T03:53:22.569481Z",
     "start_time": "2021-12-30T03:53:22.551687Z"
    }
   },
   "outputs": [],
   "source": [
    "for i in range(len(total_df)):\n",
    "    total_df[i].to_csv(f'/Users/ppangppang/Desktop/ssac/Final_project/2.Processed/info/{query_list[i]}.csv',index=False)"
   ]
  },
  {
   "cell_type": "code",
   "execution_count": null,
   "id": "fbe2e657",
   "metadata": {},
   "outputs": [],
   "source": []
  },
  {
   "cell_type": "code",
   "execution_count": null,
   "id": "679e9cb5",
   "metadata": {},
   "outputs": [],
   "source": []
  },
  {
   "cell_type": "code",
   "execution_count": null,
   "id": "696bf99d",
   "metadata": {},
   "outputs": [],
   "source": []
  },
  {
   "cell_type": "code",
   "execution_count": null,
   "id": "866b24ff",
   "metadata": {},
   "outputs": [],
   "source": []
  },
  {
   "cell_type": "code",
   "execution_count": null,
   "id": "7f106a1a",
   "metadata": {},
   "outputs": [],
   "source": [
    "# response.json()['item_info']['pid']\n",
    "# response.json()['item_info']['product_image']\n",
    "# response.json()['item_info']['name']\n",
    "# response.json()['item_info']['num_item_view']\n",
    "# response.json()['item_info']['keyword']\n",
    "# list(response.json()['item_info']['category_name'][2].values())[0]"
   ]
  }
 ],
 "metadata": {
  "kernelspec": {
   "display_name": "Python 3 (ipykernel)",
   "language": "python",
   "name": "python3"
  },
  "language_info": {
   "codemirror_mode": {
    "name": "ipython",
    "version": 3
   },
   "file_extension": ".py",
   "mimetype": "text/x-python",
   "name": "python",
   "nbconvert_exporter": "python",
   "pygments_lexer": "ipython3",
   "version": "3.9.7"
  },
  "toc": {
   "base_numbering": 1,
   "nav_menu": {},
   "number_sections": true,
   "sideBar": true,
   "skip_h1_title": false,
   "title_cell": "Table of Contents",
   "title_sidebar": "Contents",
   "toc_cell": false,
   "toc_position": {},
   "toc_section_display": true,
   "toc_window_display": false
  },
  "varInspector": {
   "cols": {
    "lenName": 16,
    "lenType": 16,
    "lenVar": 40
   },
   "kernels_config": {
    "python": {
     "delete_cmd_postfix": "",
     "delete_cmd_prefix": "del ",
     "library": "var_list.py",
     "varRefreshCmd": "print(var_dic_list())"
    },
    "r": {
     "delete_cmd_postfix": ") ",
     "delete_cmd_prefix": "rm(",
     "library": "var_list.r",
     "varRefreshCmd": "cat(var_dic_list()) "
    }
   },
   "types_to_exclude": [
    "module",
    "function",
    "builtin_function_or_method",
    "instance",
    "_Feature"
   ],
   "window_display": false
  }
 },
 "nbformat": 4,
 "nbformat_minor": 5
}
