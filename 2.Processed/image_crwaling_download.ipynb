{
 "cells": [
  {
   "cell_type": "code",
   "execution_count": 153,
   "id": "d6277d07",
   "metadata": {
    "ExecuteTime": {
     "end_time": "2021-12-23T02:17:52.400426Z",
     "start_time": "2021-12-23T02:17:52.373927Z"
    }
   },
   "outputs": [],
   "source": [
    "import pandas as pd\n",
    "import numpy as np\n",
    "import matplotlib.pyplot as plt\n",
    "import seaborn as sns\n",
    "import requests\n",
    "import json\n",
    "import time\n",
    "import datetime\n",
    "\n",
    "from pandas.io.json import json_normalize\n",
    "from bs4 import BeautifulSoup\n",
    "pd.options.display.max_info_columns =200\n",
    "pd.options.display.max_columns = 200\n",
    "pd.options.display.max_info_rows =100\n",
    "pd.options.display.max_rows = 100\n",
    "\n",
    "import os\n",
    "from tqdm import tqdm_notebook"
   ]
  },
  {
   "cell_type": "markdown",
   "id": "54dad04c",
   "metadata": {},
   "source": [
    "# 번개장터 이미지크롤링"
   ]
  },
  {
   "cell_type": "markdown",
   "id": "1dcf31a1",
   "metadata": {},
   "source": [
    "### 주요상품\n",
    "- 310\t여성의류\tw_wear\n",
    "- 320\t남성의류\tm_wear\n",
    "- 400\t패션액세서리\tacc\n",
    "- 405\t신발\tshoes\n",
    "- 420\t시계_쥬얼리\tjewelry\n",
    "- 430\t가방\tbag\n",
    "- 600\t디지털_가전\telectronic\n",
    "- 700\t스포츠_레저\tsports\n",
    "- 750\t차량_오토바이\tcar\n",
    "\n",
    "\n",
    "### 비주류상품\n",
    "- 410\t뷰티\tbeauty\n",
    "- 500\t유아\tbaby\n",
    "- 800\t생활_가공식품\tliving\n",
    "- 810\t가구_인테리어\tinterior\n",
    "- 900\t도서_티켓_문구\tbook_stationery\n",
    "- 910\t스타굿즈\tstargoods\n",
    "- 920\t음반_악기\tmusic\n",
    "- 930\t키덜트\tkidult\n",
    "- 980\t반려동물\tpet\n",
    "- 990\t수집품\tcollect\n",
    "- 999\t기타\tothers"
   ]
  },
  {
   "cell_type": "code",
   "execution_count": 58,
   "id": "dafe2bf5",
   "metadata": {
    "ExecuteTime": {
     "end_time": "2021-12-23T01:09:35.924400Z",
     "start_time": "2021-12-23T01:09:35.918621Z"
    }
   },
   "outputs": [],
   "source": [
    "from selenium import webdriver\n",
    "from selenium.webdriver.common.keys import Keys"
   ]
  },
  {
   "cell_type": "code",
   "execution_count": 151,
   "id": "187843a2",
   "metadata": {
    "ExecuteTime": {
     "end_time": "2021-12-23T02:09:22.404452Z",
     "start_time": "2021-12-23T02:09:22.402604Z"
    }
   },
   "outputs": [],
   "source": [
    "# 드라이버 실행\n",
    "driver = webdriver.Chrome('/Users/ppangppang/Desktop/ssac/02.Python_/Python_Basic_Class/chromedriver')"
   ]
  },
  {
   "cell_type": "code",
   "execution_count": 149,
   "id": "74f3dcd0",
   "metadata": {
    "ExecuteTime": {
     "end_time": "2021-12-23T02:09:22.302623Z",
     "start_time": "2021-12-23T02:06:27.184910Z"
    }
   },
   "outputs": [
    {
     "name": "stdout",
     "output_type": "stream",
     "text": [
      "310항목 1페이지 완료\n",
      "310항목 2페이지 완료\n",
      "310항목 3페이지 완료\n",
      "w_wear항목 작업 완료\n",
      "\n",
      "320항목 1페이지 완료\n",
      "320항목 2페이지 완료\n",
      "320항목 3페이지 완료\n",
      "m_wear항목 작업 완료\n",
      "\n",
      "400항목 1페이지 완료\n",
      "400항목 2페이지 완료\n",
      "400항목 3페이지 완료\n",
      "acc항목 작업 완료\n",
      "\n",
      "405항목 1페이지 완료\n",
      "405항목 2페이지 완료\n",
      "405항목 3페이지 완료\n",
      "shoes항목 작업 완료\n",
      "\n",
      "410항목 1페이지 완료\n",
      "410항목 2페이지 완료\n",
      "410항목 3페이지 완료\n",
      "beauty항목 작업 완료\n",
      "\n",
      "420항목 1페이지 완료\n",
      "420항목 2페이지 완료\n",
      "420항목 3페이지 완료\n",
      "jewelry항목 작업 완료\n",
      "\n",
      "430항목 1페이지 완료\n",
      "430항목 2페이지 완료\n",
      "430항목 3페이지 완료\n",
      "bag항목 작업 완료\n",
      "\n",
      "600항목 1페이지 완료\n",
      "600항목 2페이지 완료\n",
      "600항목 3페이지 완료\n",
      "electronic항목 작업 완료\n",
      "\n",
      "700항목 1페이지 완료\n",
      "700항목 2페이지 완료\n",
      "700항목 3페이지 완료\n",
      "sports항목 작업 완료\n",
      "\n",
      "750항목 1페이지 완료\n",
      "750항목 2페이지 완료\n",
      "750항목 3페이지 완료\n",
      "car항목 작업 완료\n",
      "\n",
      "전체작업 완료\n"
     ]
    }
   ],
   "source": [
    "# cat 별 링크 들어가게 세팅\n",
    "cat_list = [310,320,400,405,420,430,600,700,750]\n",
    "cat_name = ['w_wear','m_wear','acc','shoes','jewelry','bag','electronic','sports','car']\n",
    "pages = [1,2,3]\n",
    "# 카테고리별 링크 담기\n",
    "total_df = []\n",
    "\n",
    "for cat in cat_list:\n",
    "    # category별 dataframe 생성\n",
    "    cat_df=pd.DataFrame()\n",
    "    link=[]    \n",
    "    for page in pages:\n",
    "        url = f'https://m.bunjang.co.kr/categories/{cat}?page={page}&req_ref=popular_category'\n",
    "        driver.get(url)\n",
    "        time.sleep(2)\n",
    "    \n",
    "        # 페이지마다 사진 100장씩\n",
    "        for i in range(1,101):\n",
    "            try:\n",
    "                link.append(driver.find_element_by_xpath(f'//*[@id=\"root\"]/div/div/div[4]/div/div[4]/div/div[{i}]/a/div[1]/img').get_attribute('src'))\n",
    "            except: pass\n",
    "        print(f'{cat_name[cat_list.index(cat)]}항목 {page}페이지 완료')\n",
    "        \n",
    "    cat_df['link'] = link\n",
    "    cat_df['category'] = cat_name[cat_list.index(cat)]\n",
    "    total_df.append(cat_df)\n",
    "    print(f'{cat_name[cat_list.index(cat)]}항목 작업 완료\\n')\n",
    "    \n",
    "print('전체작업 완료')"
   ]
  },
  {
   "cell_type": "code",
   "execution_count": 152,
   "id": "13cdb1d5",
   "metadata": {
    "ExecuteTime": {
     "end_time": "2021-12-23T02:09:49.017254Z",
     "start_time": "2021-12-23T02:09:48.971235Z"
    }
   },
   "outputs": [],
   "source": [
    "# 각 작업 파일 저장\n",
    "for i in range(len(cat_list)):\n",
    "    total_df[0].to_csv(f'/Users/ppangppang/Desktop/ssac/Final_project/2.Processed/image/image_df/{cat_name[0]}.csv',index=False)\n",
    "    total_df[i].to_csv(f'/Users/ppangppang/Desktop/ssac/Final_project/2.Processed/image/image_df/{cat_name[i]}.csv',index=False)"
   ]
  },
  {
   "cell_type": "code",
   "execution_count": null,
   "id": "6d5fd9d5",
   "metadata": {},
   "outputs": [],
   "source": []
  },
  {
   "cell_type": "markdown",
   "id": "6ec94a0d",
   "metadata": {},
   "source": [
    "# 번개장터 크롤링 이미지 저장"
   ]
  },
  {
   "cell_type": "code",
   "execution_count": null,
   "id": "1b5fdca7",
   "metadata": {},
   "outputs": [],
   "source": [
    "# 파일 불러오기\n",
    "cat_name = ['w_wear','m_wear','acc','shoes','jewelry','bag','electronic','sports','car']\n",
    "total_df=[]\n",
    "for cat in cat_name:\n",
    "    temp = pd.read_csv(f'/Users/ppangppang/Desktop/ssac/Final_project/2.Processed/image/image_df/{cat_name[0]}.csv')\n",
    "    total_df.append(temp)"
   ]
  },
  {
   "cell_type": "code",
   "execution_count": null,
   "id": "b2e138ea",
   "metadata": {},
   "outputs": [],
   "source": [
    "from PIL import Image\n",
    "\n",
    "for cat in range(len(total_df)):\n",
    "    for i in tqdm_notebook(range(len(total_df[cat])),desc=\"Image download\"):\n",
    "        url = total_df[0]['link'].iloc[i]\n",
    "        os.system(\"curl \" + url + f\" > /Users/ppangppang/Desktop/ssac/Final_project/2.Processed/image/{cat_name[cat]}/c_{i}.jpg\")"
   ]
  },
  {
   "cell_type": "code",
   "execution_count": null,
   "id": "85644edf",
   "metadata": {},
   "outputs": [],
   "source": []
  }
 ],
 "metadata": {
  "kernelspec": {
   "display_name": "Python 3 (ipykernel)",
   "language": "python",
   "name": "python3"
  },
  "language_info": {
   "codemirror_mode": {
    "name": "ipython",
    "version": 3
   },
   "file_extension": ".py",
   "mimetype": "text/x-python",
   "name": "python",
   "nbconvert_exporter": "python",
   "pygments_lexer": "ipython3",
   "version": "3.9.7"
  },
  "toc": {
   "base_numbering": 1,
   "nav_menu": {},
   "number_sections": true,
   "sideBar": true,
   "skip_h1_title": false,
   "title_cell": "Table of Contents",
   "title_sidebar": "Contents",
   "toc_cell": false,
   "toc_position": {},
   "toc_section_display": true,
   "toc_window_display": false
  },
  "varInspector": {
   "cols": {
    "lenName": 16,
    "lenType": 16,
    "lenVar": 40
   },
   "kernels_config": {
    "python": {
     "delete_cmd_postfix": "",
     "delete_cmd_prefix": "del ",
     "library": "var_list.py",
     "varRefreshCmd": "print(var_dic_list())"
    },
    "r": {
     "delete_cmd_postfix": ") ",
     "delete_cmd_prefix": "rm(",
     "library": "var_list.r",
     "varRefreshCmd": "cat(var_dic_list()) "
    }
   },
   "types_to_exclude": [
    "module",
    "function",
    "builtin_function_or_method",
    "instance",
    "_Feature"
   ],
   "window_display": false
  }
 },
 "nbformat": 4,
 "nbformat_minor": 5
}
