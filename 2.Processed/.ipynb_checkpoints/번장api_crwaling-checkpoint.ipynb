{
 "cells": [
  {
   "cell_type": "code",
   "execution_count": 6,
   "id": "c9e946c0",
   "metadata": {
    "ExecuteTime": {
     "end_time": "2022-01-10T00:37:06.890573Z",
     "start_time": "2022-01-10T00:37:05.879479Z"
    }
   },
   "outputs": [],
   "source": [
    "import pandas as pd\n",
    "import numpy as np\n",
    "import matplotlib.pyplot as plt\n",
    "import seaborn as sns\n",
    "import requests\n",
    "import json\n",
    "import time\n",
    "import datetime\n",
    "\n",
    "from pandas.io.json import json_normalize\n",
    "from bs4 import BeautifulSoup\n",
    "pd.options.display.max_info_columns =200\n",
    "pd.options.display.max_columns = 200\n",
    "pd.options.display.max_info_rows =100\n",
    "pd.options.display.max_rows = 100\n",
    "\n",
    "import os\n",
    "from tqdm import tqdm_notebook"
   ]
  },
  {
   "cell_type": "markdown",
   "id": "b8adaabb",
   "metadata": {},
   "source": [
    "#### 크롤링 다시 할 것\n",
    "'데스크탑' : 600100006\n",
    "'안경' : 400080\n",
    "'쥬얼리' : 420200\n",
    "'스니커즈' : 405100\n",
    "'전자제품(세탁기,냉장고)' : 600400002\n",
    "'티비' : 600400001\n",
    "'지갑' : 400060\n",
    "'시계' : 420100\n",
    "\n",
    "#### 기존 검색어 데이터 활용\n",
    "(재경니트)'상의' : 기존 검색어 합치기(후드, 블라우스, 티셔츠, 니트)\n",
    "(재경바지)'바지' : 기존 검색어 합치기(청바지, 바지)\n",
    "(재경패딩)'점퍼' : 기존 검색어 합치기(점퍼, 자켓, 패딩)\n",
    "(완)'구두' : 기존 검색어 합치기(구두, 하이힐)\n",
    "(완)'모자' : 검색어\n",
    "(완)'카메라' : 검색어\n",
    "(완)'노트북' : 검색어\n",
    "(완)'중고차' : 검색어\n",
    "(완)'오토바이' : 검색어\n",
    "(완)'에어컨' : 검색어\n",
    "(완)'에이팟' : 검색어\n",
    "(완)'코트' : 검색어\n",
    "(완)'셔츠' : 검색어\n",
    "(완)'치마' : 검색어\n",
    "(완)'갤럭시' : 검색어\n",
    "(완)'아이폰' : 검색어\n",
    "(완)'키보드' : 검색어\n",
    "(재경)'마우스' : 검색어\n",
    "(재경)'원피스' : 검색어"
   ]
  },
  {
   "cell_type": "code",
   "execution_count": 26,
   "id": "c5aceb55",
   "metadata": {
    "ExecuteTime": {
     "end_time": "2022-01-10T01:30:55.583430Z",
     "start_time": "2022-01-10T01:30:55.579191Z"
    }
   },
   "outputs": [
    {
     "data": {
      "text/plain": [
       "8"
      ]
     },
     "execution_count": 26,
     "metadata": {},
     "output_type": "execute_result"
    }
   ],
   "source": [
    "pages = range(1,101)\n",
    "\n",
    "query_list = ['600100006', '400080', '420200', '405100', '600400001', '400060', '420100','600400002']\n",
    "query_name_list = ['데스크탑', '안경_선글라스', '쥬얼리', '스니커즈', '티비', '지갑', '시계','전자제품(세탁기,냉장고)']\n",
    "len(query_list)"
   ]
  },
  {
   "cell_type": "markdown",
   "id": "10b7cef6",
   "metadata": {},
   "source": [
    "### 카테고리 번호로 취합"
   ]
  },
  {
   "cell_type": "code",
   "execution_count": 27,
   "id": "3b8e10a8",
   "metadata": {
    "ExecuteTime": {
     "end_time": "2022-01-10T03:19:39.046854Z",
     "start_time": "2022-01-10T01:30:56.540616Z"
    }
   },
   "outputs": [
    {
     "name": "stderr",
     "output_type": "stream",
     "text": [
      "/var/folders/c0/q_ltjrb55gzc5wvhsv7s_vsh0000gn/T/ipykernel_52268/376813453.py:6: TqdmDeprecationWarning: This function will be removed in tqdm==5.0.0\n",
      "Please use `tqdm.notebook.tqdm` instead of `tqdm.tqdm_notebook`\n",
      "  for page in tqdm_notebook(pages):\n"
     ]
    },
    {
     "data": {
      "application/vnd.jupyter.widget-view+json": {
       "model_id": "a4140273678e485dbd590b428b33d57d",
       "version_major": 2,
       "version_minor": 0
      },
      "text/plain": [
       "  0%|          | 0/100 [00:00<?, ?it/s]"
      ]
     },
     "metadata": {},
     "output_type": "display_data"
    },
    {
     "data": {
      "application/vnd.jupyter.widget-view+json": {
       "model_id": "d0cd3d5ed7ba4eca8af287726ec4276b",
       "version_major": 2,
       "version_minor": 0
      },
      "text/plain": [
       "  0%|          | 0/100 [00:00<?, ?it/s]"
      ]
     },
     "metadata": {},
     "output_type": "display_data"
    },
    {
     "data": {
      "application/vnd.jupyter.widget-view+json": {
       "model_id": "d4a74bc6efd649cbb7bf8df4ce592b92",
       "version_major": 2,
       "version_minor": 0
      },
      "text/plain": [
       "  0%|          | 0/100 [00:00<?, ?it/s]"
      ]
     },
     "metadata": {},
     "output_type": "display_data"
    },
    {
     "data": {
      "application/vnd.jupyter.widget-view+json": {
       "model_id": "1b00e3ac6b8e4e87a6c6da6e79bc1213",
       "version_major": 2,
       "version_minor": 0
      },
      "text/plain": [
       "  0%|          | 0/100 [00:00<?, ?it/s]"
      ]
     },
     "metadata": {},
     "output_type": "display_data"
    },
    {
     "data": {
      "application/vnd.jupyter.widget-view+json": {
       "model_id": "c65fe41e84904590805755d4c58733fd",
       "version_major": 2,
       "version_minor": 0
      },
      "text/plain": [
       "  0%|          | 0/100 [00:00<?, ?it/s]"
      ]
     },
     "metadata": {},
     "output_type": "display_data"
    },
    {
     "data": {
      "application/vnd.jupyter.widget-view+json": {
       "model_id": "d063059519d3464f8ff7ee8302787755",
       "version_major": 2,
       "version_minor": 0
      },
      "text/plain": [
       "  0%|          | 0/100 [00:00<?, ?it/s]"
      ]
     },
     "metadata": {},
     "output_type": "display_data"
    },
    {
     "data": {
      "application/vnd.jupyter.widget-view+json": {
       "model_id": "090f60388ba54e078bb2533c47116bf4",
       "version_major": 2,
       "version_minor": 0
      },
      "text/plain": [
       "  0%|          | 0/100 [00:00<?, ?it/s]"
      ]
     },
     "metadata": {},
     "output_type": "display_data"
    },
    {
     "data": {
      "application/vnd.jupyter.widget-view+json": {
       "model_id": "7d8f699d9c5a410384c6a6da65954c28",
       "version_major": 2,
       "version_minor": 0
      },
      "text/plain": [
       "  0%|          | 0/100 [00:00<?, ?it/s]"
      ]
     },
     "metadata": {},
     "output_type": "display_data"
    }
   ],
   "source": [
    "total_df =[]\n",
    "\n",
    "for query in query_list:\n",
    "    cat_df = pd.DataFrame()\n",
    "    \n",
    "    for page in tqdm_notebook(pages):\n",
    "        \n",
    "        pid_list = [] # 아이템 리스트 담기\n",
    "        bunjang_url = f'https://api.bunjang.co.kr/api/1/find_v2.json?f_category_id={query}&page={page}&order=date&req_ref=category&stat_device=w&n=100&version=4'\n",
    "        response = requests.get(bunjang_url.encode('utf-8'))\n",
    "        \n",
    "        try:\n",
    "            item_list = response.json()[\"list\"]\n",
    "            ids = [item[\"pid\"] for item in item_list]\n",
    "            pid_list.extend(ids)\n",
    "        except:\n",
    "            continue\n",
    "        \n",
    "        # 아이템별 데이터 프레임 생성\n",
    "        df = pd.DataFrame()\n",
    "        product_id, image_link, title, keyword, cat1, cat2, cat3, view = [],[],[],[],[],[],[],[]\n",
    "        for pid in pid_list:\n",
    "            url = f\"https://api.bunjang.co.kr/api/1/product/{pid}/detail_info.json?version=4\"\n",
    "            response = requests.get(url)\n",
    "           \n",
    "            try : \n",
    "                product_id.append(response.json()['item_info']['pid'])\n",
    "            except : \n",
    "                product_id.append(0)\n",
    "            try :\n",
    "                image_link.append(response.json()['item_info']['product_image'])\n",
    "            except : \n",
    "                image_link.append(0)\n",
    "            try : \n",
    "                title.append(response.json()['item_info']['name'])\n",
    "            except : \n",
    "                title.append(0)\n",
    "            try : \n",
    "                keyword.append(response.json()['item_info']['keyword'])\n",
    "            except : \n",
    "                keyword.append(0)\n",
    "            try : \n",
    "                cat1.append(list(response.json()['item_info']['category_name'][0].values())[0])\n",
    "            except : \n",
    "                cat1.append(0)\n",
    "            try : \n",
    "                cat2.append(list(response.json()['item_info']['category_name'][1].values())[0])\n",
    "            except : \n",
    "                cat2.append(0)                \n",
    "            try : \n",
    "                cat3.append(list(response.json()['item_info']['category_name'][2].values())[0])\n",
    "            except : \n",
    "                cat3.append(0)\n",
    "            try : \n",
    "                view.append(response.json()['item_info']['num_item_view'])\n",
    "            except : \n",
    "                view.append(0)\n",
    "\n",
    "        df['product_id'] = product_id\n",
    "        df['title'] = title\n",
    "        df['keyword'] = keyword\n",
    "        df['cat1'] = cat1\n",
    "        df['cat2'] = cat2\n",
    "        df['cat3'] = cat3\n",
    "        df['view'] = view\n",
    "        df['image'] = image_link\n",
    "        temp = df\n",
    "        cat_df = pd.concat([cat_df,temp])\n",
    "\n",
    "    total_df.append(cat_df)"
   ]
  },
  {
   "cell_type": "code",
   "execution_count": 28,
   "id": "f499659a",
   "metadata": {
    "ExecuteTime": {
     "end_time": "2022-01-10T03:19:39.440681Z",
     "start_time": "2022-01-10T03:19:39.122076Z"
    }
   },
   "outputs": [],
   "source": [
    "for i in range(len(total_df)):\n",
    "    total_df[i].to_csv(f'/Users/ppangppang/Desktop/ssac/Final_project/2.Processed/info/{query_name_list[i]}.csv',index=False)"
   ]
  },
  {
   "cell_type": "code",
   "execution_count": null,
   "id": "4794c211",
   "metadata": {},
   "outputs": [],
   "source": []
  },
  {
   "cell_type": "markdown",
   "id": "e5341583",
   "metadata": {},
   "source": [
    "### 검색어로 취합"
   ]
  },
  {
   "cell_type": "code",
   "execution_count": 10,
   "id": "bc33d7ad",
   "metadata": {
    "ExecuteTime": {
     "end_time": "2021-12-30T05:51:49.139041Z",
     "start_time": "2021-12-30T03:54:44.784790Z"
    },
    "scrolled": true
   },
   "outputs": [
    {
     "name": "stderr",
     "output_type": "stream",
     "text": [
      "/var/folders/c0/q_ltjrb55gzc5wvhsv7s_vsh0000gn/T/ipykernel_70408/1331840818.py:6: TqdmDeprecationWarning: This function will be removed in tqdm==5.0.0\n",
      "Please use `tqdm.notebook.tqdm` instead of `tqdm.tqdm_notebook`\n",
      "  for page in tqdm_notebook(pages):\n"
     ]
    },
    {
     "data": {
      "application/vnd.jupyter.widget-view+json": {
       "model_id": "b3e916fbd2a54b98afe4dd06bc9eb44c",
       "version_major": 2,
       "version_minor": 0
      },
      "text/plain": [
       "  0%|          | 0/100 [00:00<?, ?it/s]"
      ]
     },
     "metadata": {},
     "output_type": "display_data"
    },
    {
     "data": {
      "application/vnd.jupyter.widget-view+json": {
       "model_id": "0de0e1edadd746279f23b75de8bdeb8c",
       "version_major": 2,
       "version_minor": 0
      },
      "text/plain": [
       "  0%|          | 0/100 [00:00<?, ?it/s]"
      ]
     },
     "metadata": {},
     "output_type": "display_data"
    },
    {
     "data": {
      "application/vnd.jupyter.widget-view+json": {
       "model_id": "bc0b6b8f8b9d4e098b457059772f827e",
       "version_major": 2,
       "version_minor": 0
      },
      "text/plain": [
       "  0%|          | 0/100 [00:00<?, ?it/s]"
      ]
     },
     "metadata": {},
     "output_type": "display_data"
    },
    {
     "data": {
      "application/vnd.jupyter.widget-view+json": {
       "model_id": "02eef6115cdb4ced9893581032a57125",
       "version_major": 2,
       "version_minor": 0
      },
      "text/plain": [
       "  0%|          | 0/100 [00:00<?, ?it/s]"
      ]
     },
     "metadata": {},
     "output_type": "display_data"
    },
    {
     "data": {
      "application/vnd.jupyter.widget-view+json": {
       "model_id": "7034946a5a944ded9ac214930128a815",
       "version_major": 2,
       "version_minor": 0
      },
      "text/plain": [
       "  0%|          | 0/100 [00:00<?, ?it/s]"
      ]
     },
     "metadata": {},
     "output_type": "display_data"
    },
    {
     "data": {
      "application/vnd.jupyter.widget-view+json": {
       "model_id": "e64b8588bd9c49649c42d0106f9ccf19",
       "version_major": 2,
       "version_minor": 0
      },
      "text/plain": [
       "  0%|          | 0/100 [00:00<?, ?it/s]"
      ]
     },
     "metadata": {},
     "output_type": "display_data"
    },
    {
     "data": {
      "application/vnd.jupyter.widget-view+json": {
       "model_id": "0dd7a678b39c49db96357869d9816c0d",
       "version_major": 2,
       "version_minor": 0
      },
      "text/plain": [
       "  0%|          | 0/100 [00:00<?, ?it/s]"
      ]
     },
     "metadata": {},
     "output_type": "display_data"
    },
    {
     "data": {
      "application/vnd.jupyter.widget-view+json": {
       "model_id": "b480df19e2b546468b4f55794531bf8d",
       "version_major": 2,
       "version_minor": 0
      },
      "text/plain": [
       "  0%|          | 0/100 [00:00<?, ?it/s]"
      ]
     },
     "metadata": {},
     "output_type": "display_data"
    },
    {
     "data": {
      "application/vnd.jupyter.widget-view+json": {
       "model_id": "30464c19691c4978a3f9c6b77e7f9f3b",
       "version_major": 2,
       "version_minor": 0
      },
      "text/plain": [
       "  0%|          | 0/100 [00:00<?, ?it/s]"
      ]
     },
     "metadata": {},
     "output_type": "display_data"
    },
    {
     "data": {
      "application/vnd.jupyter.widget-view+json": {
       "model_id": "bc46ce267f8f4a6482b2636f73c6f6ac",
       "version_major": 2,
       "version_minor": 0
      },
      "text/plain": [
       "  0%|          | 0/100 [00:00<?, ?it/s]"
      ]
     },
     "metadata": {},
     "output_type": "display_data"
    },
    {
     "data": {
      "application/vnd.jupyter.widget-view+json": {
       "model_id": "6ae62f193f4345d5915c8908da873231",
       "version_major": 2,
       "version_minor": 0
      },
      "text/plain": [
       "  0%|          | 0/100 [00:00<?, ?it/s]"
      ]
     },
     "metadata": {},
     "output_type": "display_data"
    },
    {
     "data": {
      "application/vnd.jupyter.widget-view+json": {
       "model_id": "15d1c42c0e0b4f968e2d3bc692b70445",
       "version_major": 2,
       "version_minor": 0
      },
      "text/plain": [
       "  0%|          | 0/100 [00:00<?, ?it/s]"
      ]
     },
     "metadata": {},
     "output_type": "display_data"
    }
   ],
   "source": [
    "total_df =[]\n",
    "\n",
    "for query in query_list:\n",
    "    cat_df = pd.DataFrame()\n",
    "    \n",
    "    for page in tqdm_notebook(pages):\n",
    "        \n",
    "        pid_list = [] # 아이템 리스트 담기\n",
    "        bunjang_url = f'https://api.bunjang.co.kr/api/1/find_v2.json?q={query}&order=date&page={page}&stat_device=w&stat_category_required=1&req_ref=search&version=4'\n",
    "        response = requests.get(bunjang_url.encode('utf-8'))\n",
    "        \n",
    "        try:\n",
    "            item_list = response.json()[\"list\"]\n",
    "            ids = [item[\"pid\"] for item in item_list]\n",
    "            pid_list.extend(ids)\n",
    "        except:\n",
    "            continue\n",
    "        \n",
    "        # 아이템별 데이터 프레임 생성\n",
    "        df = pd.DataFrame()\n",
    "        product_id, image_link, title, keyword, cat1, cat2, cat3, view = [],[],[],[],[],[],[],[]\n",
    "        for pid in pid_list:\n",
    "            url = f\"https://api.bunjang.co.kr/api/1/product/{pid}/detail_info.json?version=4\"\n",
    "            response = requests.get(url)\n",
    "           \n",
    "            try : \n",
    "                product_id.append(response.json()['item_info']['pid'])\n",
    "            except : \n",
    "                product_id.append(0)\n",
    "            try :\n",
    "                image_link.append(response.json()['item_info']['product_image'])\n",
    "            except : \n",
    "                image_link.append(0)\n",
    "            try : \n",
    "                title.append(response.json()['item_info']['name'])\n",
    "            except : \n",
    "                title.append(0)\n",
    "            try : \n",
    "                keyword.append(response.json()['item_info']['keyword'])\n",
    "            except : \n",
    "                keyword.append(0)\n",
    "            try : \n",
    "                cat1.append(list(response.json()['item_info']['category_name'][0].values())[0])\n",
    "            except : \n",
    "                cat1.append(0)\n",
    "            try : \n",
    "                cat2.append(list(response.json()['item_info']['category_name'][1].values())[0])\n",
    "            except : \n",
    "                cat2.append(0)                \n",
    "            try : \n",
    "                cat3.append(list(response.json()['item_info']['category_name'][2].values())[0])\n",
    "            except : \n",
    "                cat3.append(0)\n",
    "            try : \n",
    "                view.append(response.json()['item_info']['num_item_view'])\n",
    "            except : \n",
    "                view.append(0)\n",
    "\n",
    "        df['product_id'] = product_id\n",
    "        df['title'] = title\n",
    "        df['keyword'] = keyword\n",
    "        df['cat1'] = cat1\n",
    "        df['cat2'] = cat2\n",
    "        df['cat3'] = cat3\n",
    "        df['view'] = view\n",
    "        df['image'] = image_link\n",
    "        temp = df\n",
    "        cat_df = pd.concat([cat_df,temp])\n",
    "\n",
    "    total_df.append(cat_df)"
   ]
  },
  {
   "cell_type": "code",
   "execution_count": 11,
   "id": "19fc145e",
   "metadata": {
    "ExecuteTime": {
     "end_time": "2021-12-30T05:51:49.498385Z",
     "start_time": "2021-12-30T05:51:49.215929Z"
    }
   },
   "outputs": [],
   "source": [
    "for i in range(len(total_df)):\n",
    "    total_df[i].to_csv(f'/Users/ppangppang/Desktop/ssac/Final_project/2.Processed/info/{query_list[i]}.csv',index=False)"
   ]
  }
 ],
 "metadata": {
  "kernelspec": {
   "display_name": "Python 3 (ipykernel)",
   "language": "python",
   "name": "python3"
  },
  "language_info": {
   "codemirror_mode": {
    "name": "ipython",
    "version": 3
   },
   "file_extension": ".py",
   "mimetype": "text/x-python",
   "name": "python",
   "nbconvert_exporter": "python",
   "pygments_lexer": "ipython3",
   "version": "3.9.7"
  },
  "toc": {
   "base_numbering": 1,
   "nav_menu": {},
   "number_sections": true,
   "sideBar": true,
   "skip_h1_title": false,
   "title_cell": "Table of Contents",
   "title_sidebar": "Contents",
   "toc_cell": false,
   "toc_position": {},
   "toc_section_display": true,
   "toc_window_display": false
  },
  "varInspector": {
   "cols": {
    "lenName": 16,
    "lenType": 16,
    "lenVar": 40
   },
   "kernels_config": {
    "python": {
     "delete_cmd_postfix": "",
     "delete_cmd_prefix": "del ",
     "library": "var_list.py",
     "varRefreshCmd": "print(var_dic_list())"
    },
    "r": {
     "delete_cmd_postfix": ") ",
     "delete_cmd_prefix": "rm(",
     "library": "var_list.r",
     "varRefreshCmd": "cat(var_dic_list()) "
    }
   },
   "types_to_exclude": [
    "module",
    "function",
    "builtin_function_or_method",
    "instance",
    "_Feature"
   ],
   "window_display": false
  }
 },
 "nbformat": 4,
 "nbformat_minor": 5
}
