{
 "cells": [
  {
   "cell_type": "code",
   "execution_count": 80,
   "id": "bb18f485",
   "metadata": {
    "ExecuteTime": {
     "end_time": "2021-12-22T04:30:58.415948Z",
     "start_time": "2021-12-22T04:30:58.409834Z"
    }
   },
   "outputs": [],
   "source": [
    "import pandas as pd\n",
    "import numpy as np\n",
    "import seaborn as sns\n",
    "import matplotlib.pyplot as plt\n",
    "import os\n",
    "\n",
    "# row, columns 길게 조회할 수 있게 옵션 걸어두기\n",
    "pd.options.display.max_info_columns =200\n",
    "pd.options.display.max_columns = 200\n",
    "pd.options.display.max_info_rows =999\n",
    "pd.options.display.max_rows = 999\n",
    "\n",
    "# import warnings\n",
    "# warnings.filterwarnings(action='ignore')"
   ]
  },
  {
   "cell_type": "code",
   "execution_count": 114,
   "id": "a53b64bd",
   "metadata": {
    "ExecuteTime": {
     "end_time": "2021-12-22T04:37:47.739078Z",
     "start_time": "2021-12-22T04:37:47.494585Z"
    }
   },
   "outputs": [
    {
     "data": {
      "text/html": [
       "<div>\n",
       "<style scoped>\n",
       "    .dataframe tbody tr th:only-of-type {\n",
       "        vertical-align: middle;\n",
       "    }\n",
       "\n",
       "    .dataframe tbody tr th {\n",
       "        vertical-align: top;\n",
       "    }\n",
       "\n",
       "    .dataframe thead th {\n",
       "        text-align: right;\n",
       "    }\n",
       "</style>\n",
       "<table border=\"1\" class=\"dataframe\">\n",
       "  <thead>\n",
       "    <tr style=\"text-align: right;\">\n",
       "      <th></th>\n",
       "      <th>imp_time</th>\n",
       "      <th>view_time</th>\n",
       "    </tr>\n",
       "  </thead>\n",
       "  <tbody>\n",
       "    <tr>\n",
       "      <th>0</th>\n",
       "      <td>16:48:41.780</td>\n",
       "      <td>16:56:46.013</td>\n",
       "    </tr>\n",
       "    <tr>\n",
       "      <th>1</th>\n",
       "      <td>17:00:45.805</td>\n",
       "      <td>NaN</td>\n",
       "    </tr>\n",
       "    <tr>\n",
       "      <th>2</th>\n",
       "      <td>17:03:49.363</td>\n",
       "      <td>NaN</td>\n",
       "    </tr>\n",
       "    <tr>\n",
       "      <th>3</th>\n",
       "      <td>17:02:48.690</td>\n",
       "      <td>NaN</td>\n",
       "    </tr>\n",
       "    <tr>\n",
       "      <th>4</th>\n",
       "      <td>17:01:51.038</td>\n",
       "      <td>NaN</td>\n",
       "    </tr>\n",
       "    <tr>\n",
       "      <th>...</th>\n",
       "      <td>...</td>\n",
       "      <td>...</td>\n",
       "    </tr>\n",
       "    <tr>\n",
       "      <th>735689</th>\n",
       "      <td>22:01:53.052</td>\n",
       "      <td>NaN</td>\n",
       "    </tr>\n",
       "    <tr>\n",
       "      <th>735690</th>\n",
       "      <td>22:02:49.103</td>\n",
       "      <td>NaN</td>\n",
       "    </tr>\n",
       "    <tr>\n",
       "      <th>735691</th>\n",
       "      <td>23:17:30.388</td>\n",
       "      <td>NaN</td>\n",
       "    </tr>\n",
       "    <tr>\n",
       "      <th>735692</th>\n",
       "      <td>23:34:01.483</td>\n",
       "      <td>NaN</td>\n",
       "    </tr>\n",
       "    <tr>\n",
       "      <th>735693</th>\n",
       "      <td>00:00:42.694</td>\n",
       "      <td>NaN</td>\n",
       "    </tr>\n",
       "  </tbody>\n",
       "</table>\n",
       "<p>735694 rows × 2 columns</p>\n",
       "</div>"
      ],
      "text/plain": [
       "            imp_time     view_time\n",
       "0       16:48:41.780  16:56:46.013\n",
       "1       17:00:45.805           NaN\n",
       "2       17:03:49.363           NaN\n",
       "3       17:02:48.690           NaN\n",
       "4       17:01:51.038           NaN\n",
       "...              ...           ...\n",
       "735689  22:01:53.052           NaN\n",
       "735690  22:02:49.103           NaN\n",
       "735691  23:17:30.388           NaN\n",
       "735692  23:34:01.483           NaN\n",
       "735693  00:00:42.694           NaN\n",
       "\n",
       "[735694 rows x 2 columns]"
      ]
     },
     "execution_count": 114,
     "metadata": {},
     "output_type": "execute_result"
    }
   ],
   "source": [
    "cnt_time = pd.read_csv('/Users/ppangppang/Desktop/ssac/Final_project/2.Processed/data/time.csv')\n",
    "cnt_time"
   ]
  },
  {
   "cell_type": "code",
   "execution_count": 115,
   "id": "cba7146b",
   "metadata": {
    "ExecuteTime": {
     "end_time": "2021-12-22T04:37:47.870906Z",
     "start_time": "2021-12-22T04:37:47.805675Z"
    }
   },
   "outputs": [
    {
     "name": "stderr",
     "output_type": "stream",
     "text": [
      "/var/folders/c0/q_ltjrb55gzc5wvhsv7s_vsh0000gn/T/ipykernel_64016/946707864.py:3: SettingWithCopyWarning: \n",
      "A value is trying to be set on a copy of a slice from a DataFrame.\n",
      "Try using .loc[row_indexer,col_indexer] = value instead\n",
      "\n",
      "See the caveats in the documentation: https://pandas.pydata.org/pandas-docs/stable/user_guide/indexing.html#returning-a-view-versus-a-copy\n",
      "  cnt_F['click'] = 0\n",
      "/var/folders/c0/q_ltjrb55gzc5wvhsv7s_vsh0000gn/T/ipykernel_64016/946707864.py:4: SettingWithCopyWarning: \n",
      "A value is trying to be set on a copy of a slice from a DataFrame.\n",
      "Try using .loc[row_indexer,col_indexer] = value instead\n",
      "\n",
      "See the caveats in the documentation: https://pandas.pydata.org/pandas-docs/stable/user_guide/indexing.html#returning-a-view-versus-a-copy\n",
      "  cnt_F['delay'] = 0\n",
      "/var/folders/c0/q_ltjrb55gzc5wvhsv7s_vsh0000gn/T/ipykernel_64016/946707864.py:6: SettingWithCopyWarning: \n",
      "A value is trying to be set on a copy of a slice from a DataFrame.\n",
      "Try using .loc[row_indexer,col_indexer] = value instead\n",
      "\n",
      "See the caveats in the documentation: https://pandas.pydata.org/pandas-docs/stable/user_guide/indexing.html#returning-a-view-versus-a-copy\n",
      "  cnt_T['click'] = 1\n"
     ]
    }
   ],
   "source": [
    "cnt_F = cnt_time[cnt_time['view_time'].isnull()]\n",
    "cnt_T = cnt_time[cnt_time['view_time'].notnull()]\n",
    "cnt_F['click'] = 0\n",
    "cnt_F['delay'] = 0\n",
    "cnt_F.index=range(len(cnt_F))\n",
    "cnt_T['click'] = 1\n",
    "cnt_T.index=range(len(cnt_T))"
   ]
  },
  {
   "cell_type": "code",
   "execution_count": 116,
   "id": "32b4791d",
   "metadata": {
    "ExecuteTime": {
     "end_time": "2021-12-22T04:37:48.861068Z",
     "start_time": "2021-12-22T04:37:48.852184Z"
    }
   },
   "outputs": [
    {
     "data": {
      "text/plain": [
       "Timestamp('1900-01-01 16:48:41.780000')"
      ]
     },
     "execution_count": 116,
     "metadata": {},
     "output_type": "execute_result"
    }
   ],
   "source": [
    "pd.to_datetime(cnt_T['imp_time'][0], format=\"%H:%M:%S.%f\")"
   ]
  },
  {
   "cell_type": "code",
   "execution_count": 117,
   "id": "5eed63c4",
   "metadata": {
    "ExecuteTime": {
     "end_time": "2021-12-22T04:37:54.726872Z",
     "start_time": "2021-12-22T04:37:49.304194Z"
    }
   },
   "outputs": [
    {
     "name": "stderr",
     "output_type": "stream",
     "text": [
      "/var/folders/c0/q_ltjrb55gzc5wvhsv7s_vsh0000gn/T/ipykernel_64016/3845455492.py:7: SettingWithCopyWarning: \n",
      "A value is trying to be set on a copy of a slice from a DataFrame\n",
      "\n",
      "See the caveats in the documentation: https://pandas.pydata.org/pandas-docs/stable/user_guide/indexing.html#returning-a-view-versus-a-copy\n",
      "  cnt_T['imp_time'][i] = pd.to_datetime(cnt_T['imp_time'][i], format=\"%H:%M:%S.%f\")\n",
      "/var/folders/c0/q_ltjrb55gzc5wvhsv7s_vsh0000gn/T/ipykernel_64016/3845455492.py:5: SettingWithCopyWarning: \n",
      "A value is trying to be set on a copy of a slice from a DataFrame\n",
      "\n",
      "See the caveats in the documentation: https://pandas.pydata.org/pandas-docs/stable/user_guide/indexing.html#returning-a-view-versus-a-copy\n",
      "  cnt_T['imp_time'][i] = pd.to_datetime(cnt_T['imp_time'][i], format=\"%H:%M:%S\")\n",
      "/var/folders/c0/q_ltjrb55gzc5wvhsv7s_vsh0000gn/T/ipykernel_64016/3845455492.py:3: SettingWithCopyWarning: \n",
      "A value is trying to be set on a copy of a slice from a DataFrame\n",
      "\n",
      "See the caveats in the documentation: https://pandas.pydata.org/pandas-docs/stable/user_guide/indexing.html#returning-a-view-versus-a-copy\n",
      "  cnt_T['imp_time'][i] = pd.to_datetime(cnt_T['imp_time'][i], format=\"%H:%M\")\n"
     ]
    }
   ],
   "source": [
    "for i in range(len(cnt_T)):\n",
    "    if len(cnt_T['imp_time'][i]) < 8:\n",
    "        cnt_T['imp_time'][i] = pd.to_datetime(cnt_T['imp_time'][i], format=\"%H:%M\")\n",
    "    elif len(cnt_T['imp_time'][i]) < 12:\n",
    "        cnt_T['imp_time'][i] = pd.to_datetime(cnt_T['imp_time'][i], format=\"%H:%M:%S\")\n",
    "    else:\n",
    "        cnt_T['imp_time'][i] = pd.to_datetime(cnt_T['imp_time'][i], format=\"%H:%M:%S.%f\")"
   ]
  },
  {
   "cell_type": "code",
   "execution_count": 118,
   "id": "f9ab2d09",
   "metadata": {
    "ExecuteTime": {
     "end_time": "2021-12-22T04:37:59.847751Z",
     "start_time": "2021-12-22T04:37:54.787089Z"
    }
   },
   "outputs": [
    {
     "name": "stderr",
     "output_type": "stream",
     "text": [
      "/var/folders/c0/q_ltjrb55gzc5wvhsv7s_vsh0000gn/T/ipykernel_64016/2934145012.py:8: SettingWithCopyWarning: \n",
      "A value is trying to be set on a copy of a slice from a DataFrame\n",
      "\n",
      "See the caveats in the documentation: https://pandas.pydata.org/pandas-docs/stable/user_guide/indexing.html#returning-a-view-versus-a-copy\n",
      "  cnt_T['view_time'][i] = pd.to_datetime(cnt_T['view_time'][i], format=\"%H:%M:%S.%f\")\n",
      "/var/folders/c0/q_ltjrb55gzc5wvhsv7s_vsh0000gn/T/ipykernel_64016/2934145012.py:6: SettingWithCopyWarning: \n",
      "A value is trying to be set on a copy of a slice from a DataFrame\n",
      "\n",
      "See the caveats in the documentation: https://pandas.pydata.org/pandas-docs/stable/user_guide/indexing.html#returning-a-view-versus-a-copy\n",
      "  cnt_T['view_time'][i] = pd.to_datetime(cnt_T['view_time'][i], format=\"%H:%M:%S\")\n"
     ]
    }
   ],
   "source": [
    "for i in range(len(cnt_T)):\n",
    "    if len(cnt_T['view_time'][i]) < 8:\n",
    "        cnt_T['view_time'][i] = pd.to_datetime(cnt_T['view_time'][i], format=\"%H:%M\")\n",
    "\n",
    "    elif len(cnt_T['view_time'][i]) < 12:\n",
    "        cnt_T['view_time'][i] = pd.to_datetime(cnt_T['view_time'][i], format=\"%H:%M:%S\")\n",
    "    else:\n",
    "        cnt_T['view_time'][i] = pd.to_datetime(cnt_T['view_time'][i], format=\"%H:%M:%S.%f\")      "
   ]
  },
  {
   "cell_type": "code",
   "execution_count": 119,
   "id": "c047ac9c",
   "metadata": {
    "ExecuteTime": {
     "end_time": "2021-12-22T04:38:00.031476Z",
     "start_time": "2021-12-22T04:37:59.909300Z"
    }
   },
   "outputs": [
    {
     "name": "stderr",
     "output_type": "stream",
     "text": [
      "/var/folders/c0/q_ltjrb55gzc5wvhsv7s_vsh0000gn/T/ipykernel_64016/3583201296.py:1: SettingWithCopyWarning: \n",
      "A value is trying to be set on a copy of a slice from a DataFrame.\n",
      "Try using .loc[row_indexer,col_indexer] = value instead\n",
      "\n",
      "See the caveats in the documentation: https://pandas.pydata.org/pandas-docs/stable/user_guide/indexing.html#returning-a-view-versus-a-copy\n",
      "  cnt_T['delay'] = cnt_T['view_time'] - cnt_T['imp_time']\n"
     ]
    }
   ],
   "source": [
    "cnt_T['delay'] = cnt_T['view_time'] - cnt_T['imp_time']"
   ]
  },
  {
   "cell_type": "code",
   "execution_count": 120,
   "id": "05873811",
   "metadata": {
    "ExecuteTime": {
     "end_time": "2021-12-22T04:38:01.235083Z",
     "start_time": "2021-12-22T04:38:01.213654Z"
    }
   },
   "outputs": [
    {
     "data": {
      "text/html": [
       "<div>\n",
       "<style scoped>\n",
       "    .dataframe tbody tr th:only-of-type {\n",
       "        vertical-align: middle;\n",
       "    }\n",
       "\n",
       "    .dataframe tbody tr th {\n",
       "        vertical-align: top;\n",
       "    }\n",
       "\n",
       "    .dataframe thead th {\n",
       "        text-align: right;\n",
       "    }\n",
       "</style>\n",
       "<table border=\"1\" class=\"dataframe\">\n",
       "  <thead>\n",
       "    <tr style=\"text-align: right;\">\n",
       "      <th></th>\n",
       "      <th>imp_time</th>\n",
       "      <th>view_time</th>\n",
       "      <th>click</th>\n",
       "      <th>delay</th>\n",
       "    </tr>\n",
       "  </thead>\n",
       "  <tbody>\n",
       "    <tr>\n",
       "      <th>0</th>\n",
       "      <td>1900-01-01 16:48:41.780000</td>\n",
       "      <td>1900-01-01 16:56:46.013000</td>\n",
       "      <td>1</td>\n",
       "      <td>0 days 00:08:04.233000</td>\n",
       "    </tr>\n",
       "    <tr>\n",
       "      <th>1</th>\n",
       "      <td>1900-01-01 23:12:45.556000</td>\n",
       "      <td>1900-01-01 23:12:53.152000</td>\n",
       "      <td>1</td>\n",
       "      <td>0 days 00:00:07.596000</td>\n",
       "    </tr>\n",
       "    <tr>\n",
       "      <th>2</th>\n",
       "      <td>1900-01-01 23:13:11.310000</td>\n",
       "      <td>1900-01-01 23:13:05.273000</td>\n",
       "      <td>1</td>\n",
       "      <td>-1 days +23:59:53.963000</td>\n",
       "    </tr>\n",
       "    <tr>\n",
       "      <th>3</th>\n",
       "      <td>1900-01-01 16:47:01.633000</td>\n",
       "      <td>1900-01-01 16:46:55.600000</td>\n",
       "      <td>1</td>\n",
       "      <td>-1 days +23:59:53.967000</td>\n",
       "    </tr>\n",
       "    <tr>\n",
       "      <th>4</th>\n",
       "      <td>1900-01-01 10:14:09.313000</td>\n",
       "      <td>1900-01-01 10:14:16.926000</td>\n",
       "      <td>1</td>\n",
       "      <td>0 days 00:00:07.613000</td>\n",
       "    </tr>\n",
       "    <tr>\n",
       "      <th>...</th>\n",
       "      <td>...</td>\n",
       "      <td>...</td>\n",
       "      <td>...</td>\n",
       "      <td>...</td>\n",
       "    </tr>\n",
       "    <tr>\n",
       "      <th>23538</th>\n",
       "      <td>1900-01-01 08:35:49.722000</td>\n",
       "      <td>1900-01-01 08:35:48.213000</td>\n",
       "      <td>1</td>\n",
       "      <td>-1 days +23:59:58.491000</td>\n",
       "    </tr>\n",
       "    <tr>\n",
       "      <th>23539</th>\n",
       "      <td>1900-01-01 15:55:57.967000</td>\n",
       "      <td>1900-01-01 15:56:00.998000</td>\n",
       "      <td>1</td>\n",
       "      <td>0 days 00:00:03.031000</td>\n",
       "    </tr>\n",
       "    <tr>\n",
       "      <th>23540</th>\n",
       "      <td>1900-01-01 07:21:11.792000</td>\n",
       "      <td>1900-01-01 07:22:03.335000</td>\n",
       "      <td>1</td>\n",
       "      <td>0 days 00:00:51.543000</td>\n",
       "    </tr>\n",
       "    <tr>\n",
       "      <th>23541</th>\n",
       "      <td>1900-01-01 23:01:20.234000</td>\n",
       "      <td>1900-01-01 23:01:26.314000</td>\n",
       "      <td>1</td>\n",
       "      <td>0 days 00:00:06.080000</td>\n",
       "    </tr>\n",
       "    <tr>\n",
       "      <th>23542</th>\n",
       "      <td>1900-01-01 18:19:43.794000</td>\n",
       "      <td>1900-01-01 18:19:36.235000</td>\n",
       "      <td>1</td>\n",
       "      <td>-1 days +23:59:52.441000</td>\n",
       "    </tr>\n",
       "  </tbody>\n",
       "</table>\n",
       "<p>23543 rows × 4 columns</p>\n",
       "</div>"
      ],
      "text/plain": [
       "                         imp_time                   view_time  click  \\\n",
       "0      1900-01-01 16:48:41.780000  1900-01-01 16:56:46.013000      1   \n",
       "1      1900-01-01 23:12:45.556000  1900-01-01 23:12:53.152000      1   \n",
       "2      1900-01-01 23:13:11.310000  1900-01-01 23:13:05.273000      1   \n",
       "3      1900-01-01 16:47:01.633000  1900-01-01 16:46:55.600000      1   \n",
       "4      1900-01-01 10:14:09.313000  1900-01-01 10:14:16.926000      1   \n",
       "...                           ...                         ...    ...   \n",
       "23538  1900-01-01 08:35:49.722000  1900-01-01 08:35:48.213000      1   \n",
       "23539  1900-01-01 15:55:57.967000  1900-01-01 15:56:00.998000      1   \n",
       "23540  1900-01-01 07:21:11.792000  1900-01-01 07:22:03.335000      1   \n",
       "23541  1900-01-01 23:01:20.234000  1900-01-01 23:01:26.314000      1   \n",
       "23542  1900-01-01 18:19:43.794000  1900-01-01 18:19:36.235000      1   \n",
       "\n",
       "                         delay  \n",
       "0       0 days 00:08:04.233000  \n",
       "1       0 days 00:00:07.596000  \n",
       "2     -1 days +23:59:53.963000  \n",
       "3     -1 days +23:59:53.967000  \n",
       "4       0 days 00:00:07.613000  \n",
       "...                        ...  \n",
       "23538 -1 days +23:59:58.491000  \n",
       "23539   0 days 00:00:03.031000  \n",
       "23540   0 days 00:00:51.543000  \n",
       "23541   0 days 00:00:06.080000  \n",
       "23542 -1 days +23:59:52.441000  \n",
       "\n",
       "[23543 rows x 4 columns]"
      ]
     },
     "execution_count": 120,
     "metadata": {},
     "output_type": "execute_result"
    }
   ],
   "source": [
    "cnt_T"
   ]
  },
  {
   "cell_type": "code",
   "execution_count": 124,
   "id": "54384c0e",
   "metadata": {
    "ExecuteTime": {
     "end_time": "2021-12-22T04:38:50.082493Z",
     "start_time": "2021-12-22T04:38:49.914889Z"
    }
   },
   "outputs": [
    {
     "data": {
      "text/html": [
       "<div>\n",
       "<style scoped>\n",
       "    .dataframe tbody tr th:only-of-type {\n",
       "        vertical-align: middle;\n",
       "    }\n",
       "\n",
       "    .dataframe tbody tr th {\n",
       "        vertical-align: top;\n",
       "    }\n",
       "\n",
       "    .dataframe thead th {\n",
       "        text-align: right;\n",
       "    }\n",
       "</style>\n",
       "<table border=\"1\" class=\"dataframe\">\n",
       "  <thead>\n",
       "    <tr style=\"text-align: right;\">\n",
       "      <th></th>\n",
       "      <th>imp_time</th>\n",
       "      <th>view_time</th>\n",
       "      <th>click</th>\n",
       "      <th>delay</th>\n",
       "    </tr>\n",
       "  </thead>\n",
       "  <tbody>\n",
       "    <tr>\n",
       "      <th>0</th>\n",
       "      <td>1900-01-01 16:48:41.780000</td>\n",
       "      <td>1900-01-01 16:56:46.013000</td>\n",
       "      <td>1</td>\n",
       "      <td>0 days 00:08:04.233000</td>\n",
       "    </tr>\n",
       "    <tr>\n",
       "      <th>1</th>\n",
       "      <td>1900-01-01 23:12:45.556000</td>\n",
       "      <td>1900-01-01 23:12:53.152000</td>\n",
       "      <td>1</td>\n",
       "      <td>0 days 00:00:07.596000</td>\n",
       "    </tr>\n",
       "    <tr>\n",
       "      <th>2</th>\n",
       "      <td>1900-01-01 23:13:11.310000</td>\n",
       "      <td>1900-01-01 23:13:05.273000</td>\n",
       "      <td>1</td>\n",
       "      <td>-1 days +23:59:53.963000</td>\n",
       "    </tr>\n",
       "    <tr>\n",
       "      <th>3</th>\n",
       "      <td>1900-01-01 16:47:01.633000</td>\n",
       "      <td>1900-01-01 16:46:55.600000</td>\n",
       "      <td>1</td>\n",
       "      <td>-1 days +23:59:53.967000</td>\n",
       "    </tr>\n",
       "    <tr>\n",
       "      <th>4</th>\n",
       "      <td>1900-01-01 10:14:09.313000</td>\n",
       "      <td>1900-01-01 10:14:16.926000</td>\n",
       "      <td>1</td>\n",
       "      <td>0 days 00:00:07.613000</td>\n",
       "    </tr>\n",
       "    <tr>\n",
       "      <th>...</th>\n",
       "      <td>...</td>\n",
       "      <td>...</td>\n",
       "      <td>...</td>\n",
       "      <td>...</td>\n",
       "    </tr>\n",
       "    <tr>\n",
       "      <th>735689</th>\n",
       "      <td>22:01:53.052</td>\n",
       "      <td>NaN</td>\n",
       "      <td>0</td>\n",
       "      <td>0</td>\n",
       "    </tr>\n",
       "    <tr>\n",
       "      <th>735690</th>\n",
       "      <td>22:02:49.103</td>\n",
       "      <td>NaN</td>\n",
       "      <td>0</td>\n",
       "      <td>0</td>\n",
       "    </tr>\n",
       "    <tr>\n",
       "      <th>735691</th>\n",
       "      <td>23:17:30.388</td>\n",
       "      <td>NaN</td>\n",
       "      <td>0</td>\n",
       "      <td>0</td>\n",
       "    </tr>\n",
       "    <tr>\n",
       "      <th>735692</th>\n",
       "      <td>23:34:01.483</td>\n",
       "      <td>NaN</td>\n",
       "      <td>0</td>\n",
       "      <td>0</td>\n",
       "    </tr>\n",
       "    <tr>\n",
       "      <th>735693</th>\n",
       "      <td>00:00:42.694</td>\n",
       "      <td>NaN</td>\n",
       "      <td>0</td>\n",
       "      <td>0</td>\n",
       "    </tr>\n",
       "  </tbody>\n",
       "</table>\n",
       "<p>735694 rows × 4 columns</p>\n",
       "</div>"
      ],
      "text/plain": [
       "                          imp_time                   view_time  click  \\\n",
       "0       1900-01-01 16:48:41.780000  1900-01-01 16:56:46.013000      1   \n",
       "1       1900-01-01 23:12:45.556000  1900-01-01 23:12:53.152000      1   \n",
       "2       1900-01-01 23:13:11.310000  1900-01-01 23:13:05.273000      1   \n",
       "3       1900-01-01 16:47:01.633000  1900-01-01 16:46:55.600000      1   \n",
       "4       1900-01-01 10:14:09.313000  1900-01-01 10:14:16.926000      1   \n",
       "...                            ...                         ...    ...   \n",
       "735689                22:01:53.052                         NaN      0   \n",
       "735690                22:02:49.103                         NaN      0   \n",
       "735691                23:17:30.388                         NaN      0   \n",
       "735692                23:34:01.483                         NaN      0   \n",
       "735693                00:00:42.694                         NaN      0   \n",
       "\n",
       "                           delay  \n",
       "0         0 days 00:08:04.233000  \n",
       "1         0 days 00:00:07.596000  \n",
       "2       -1 days +23:59:53.963000  \n",
       "3       -1 days +23:59:53.967000  \n",
       "4         0 days 00:00:07.613000  \n",
       "...                          ...  \n",
       "735689                         0  \n",
       "735690                         0  \n",
       "735691                         0  \n",
       "735692                         0  \n",
       "735693                         0  \n",
       "\n",
       "[735694 rows x 4 columns]"
      ]
     },
     "execution_count": 124,
     "metadata": {},
     "output_type": "execute_result"
    }
   ],
   "source": [
    "cnt_time = pd.concat([cnt_T,cnt_F])\n",
    "cnt_time.index = range(len(cnt_time))\n",
    "cnt_time"
   ]
  },
  {
   "cell_type": "code",
   "execution_count": null,
   "id": "736b3d2d",
   "metadata": {},
   "outputs": [],
   "source": [
    "# cnt_time.to_csv()"
   ]
  },
  {
   "cell_type": "code",
   "execution_count": null,
   "id": "3fec4f09",
   "metadata": {},
   "outputs": [],
   "source": []
  }
 ],
 "metadata": {
  "kernelspec": {
   "display_name": "Python 3 (ipykernel)",
   "language": "python",
   "name": "python3"
  },
  "language_info": {
   "codemirror_mode": {
    "name": "ipython",
    "version": 3
   },
   "file_extension": ".py",
   "mimetype": "text/x-python",
   "name": "python",
   "nbconvert_exporter": "python",
   "pygments_lexer": "ipython3",
   "version": "3.9.7"
  },
  "toc": {
   "base_numbering": 1,
   "nav_menu": {},
   "number_sections": true,
   "sideBar": true,
   "skip_h1_title": false,
   "title_cell": "Table of Contents",
   "title_sidebar": "Contents",
   "toc_cell": false,
   "toc_position": {},
   "toc_section_display": true,
   "toc_window_display": false
  },
  "varInspector": {
   "cols": {
    "lenName": 16,
    "lenType": 16,
    "lenVar": 40
   },
   "kernels_config": {
    "python": {
     "delete_cmd_postfix": "",
     "delete_cmd_prefix": "del ",
     "library": "var_list.py",
     "varRefreshCmd": "print(var_dic_list())"
    },
    "r": {
     "delete_cmd_postfix": ") ",
     "delete_cmd_prefix": "rm(",
     "library": "var_list.r",
     "varRefreshCmd": "cat(var_dic_list()) "
    }
   },
   "types_to_exclude": [
    "module",
    "function",
    "builtin_function_or_method",
    "instance",
    "_Feature"
   ],
   "window_display": false
  }
 },
 "nbformat": 4,
 "nbformat_minor": 5
}
