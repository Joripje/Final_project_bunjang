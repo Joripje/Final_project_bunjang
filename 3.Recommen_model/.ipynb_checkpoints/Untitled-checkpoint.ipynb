{
 "cells": [
  {
   "cell_type": "code",
   "execution_count": 1,
   "id": "ef5ba061",
   "metadata": {
    "ExecuteTime": {
     "end_time": "2022-01-03T04:52:25.856261Z",
     "start_time": "2022-01-03T04:52:24.934256Z"
    }
   },
   "outputs": [],
   "source": [
    "import pandas as pd\n",
    "import numpy as np\n",
    "import matplotlib.pyplot as plt\n",
    "import seaborn as sns\n",
    "from tqdm.notebook import tqdm\n",
    "pd.options.display.max_info_columns =200\n",
    "pd.options.display.max_columns = 200\n",
    "pd.options.display.max_info_rows =100\n",
    "pd.options.display.max_rows = 100\n",
    "\n",
    "import os\n",
    "from tqdm import tqdm_notebook"
   ]
  },
  {
   "cell_type": "markdown",
   "id": "d25e246f",
   "metadata": {
    "ExecuteTime": {
     "end_time": "2022-01-03T04:52:32.120695Z",
     "start_time": "2022-01-03T04:52:32.115670Z"
    }
   },
   "source": [
    "# 작업파일 불러오기\n",
    "\n",
    "- 전체 :  ['아디다스','에어컨','에어팟','오토바이','블라우스','팔찌','카메라','코트','컴퓨터','구두','귀걸이','갤럭시', '갤럭시케이스',\n",
    "          '안경','모자','하이힐','후드','아이폰케이스','아이폰','자켓','청바지','점퍼','중고차','키보드','노트북','마우스','목도리',\n",
    "          '네일','니트','목걸이','나이키','닌텐도','원피스','패딩','바지','향수','냉장고','레고','반지','셔츠','치마','스피커','정장',\n",
    "          '선글라스','티셔츠','트레이닝','티비','지갑','세탁기','시계']\n",
    "- '아디다스 0','에어컨 1','에어팟 2','오토바이 3','블라우스 4','팔찌 5','카메라 6','코트7','컴퓨터 8','구두 9','귀걸이10','갤럭시 11'"
   ]
  },
  {
   "cell_type": "code",
   "execution_count": 3,
   "id": "a10e268b",
   "metadata": {
    "ExecuteTime": {
     "end_time": "2022-01-03T04:52:39.022116Z",
     "start_time": "2022-01-03T04:52:39.020081Z"
    }
   },
   "outputs": [],
   "source": [
    "#내 작업\n",
    "query_list = ['아디다스','에어컨','에어팟','오토바이','블라우스','팔찌','카메라','코트','컴퓨터','구두','귀걸이','갤럭시']"
   ]
  },
  {
   "cell_type": "code",
   "execution_count": 4,
   "id": "c54304cc",
   "metadata": {
    "ExecuteTime": {
     "end_time": "2022-01-03T04:52:42.654093Z",
     "start_time": "2022-01-03T04:52:42.341070Z"
    }
   },
   "outputs": [],
   "source": [
    "total_df = []\n",
    "for i in range(len(query_list)):\n",
    "    total_df.append(pd.read_csv(f'/Users/ppangppang/Desktop/ssac/Final_project/2.Processed/info/{query_list[i]}.csv'))"
   ]
  },
  {
   "cell_type": "markdown",
   "id": "3dc23a56",
   "metadata": {},
   "source": [
    "# 태그 추천 테스트\n",
    "1. 문장-단어 TF-IDF 구하기 : 한 문장(product)에 중요도가 높은 단어들 테이블\n",
    "2. 문장-문장 유사도 구하기 : 특정 문장(prodcut)기준 문장간 유사도를 통해 특정 문장과 유사한 문장 뽑기\n",
    "3. 1을 미리 구해놓음 -> 2에서 비슷한 문장 뽑음 -> 2에서 뽑힌 문장을 1에서 찾음 -> 1에서 태그 뽑기\n",
    "\n",
    "\n",
    "- 구현에 필요한 내용\n",
    " - 1,2번 구현 테스트\n",
    " - 언어 전처리 필요"
   ]
  },
  {
   "cell_type": "code",
   "execution_count": null,
   "id": "e3eac8fa",
   "metadata": {},
   "outputs": [],
   "source": []
  }
 ],
 "metadata": {
  "kernelspec": {
   "display_name": "Python 3 (ipykernel)",
   "language": "python",
   "name": "python3"
  },
  "language_info": {
   "codemirror_mode": {
    "name": "ipython",
    "version": 3
   },
   "file_extension": ".py",
   "mimetype": "text/x-python",
   "name": "python",
   "nbconvert_exporter": "python",
   "pygments_lexer": "ipython3",
   "version": "3.9.7"
  },
  "toc": {
   "base_numbering": 1,
   "nav_menu": {},
   "number_sections": true,
   "sideBar": true,
   "skip_h1_title": false,
   "title_cell": "Table of Contents",
   "title_sidebar": "Contents",
   "toc_cell": false,
   "toc_position": {},
   "toc_section_display": true,
   "toc_window_display": false
  },
  "varInspector": {
   "cols": {
    "lenName": 16,
    "lenType": 16,
    "lenVar": 40
   },
   "kernels_config": {
    "python": {
     "delete_cmd_postfix": "",
     "delete_cmd_prefix": "del ",
     "library": "var_list.py",
     "varRefreshCmd": "print(var_dic_list())"
    },
    "r": {
     "delete_cmd_postfix": ") ",
     "delete_cmd_prefix": "rm(",
     "library": "var_list.r",
     "varRefreshCmd": "cat(var_dic_list()) "
    }
   },
   "types_to_exclude": [
    "module",
    "function",
    "builtin_function_or_method",
    "instance",
    "_Feature"
   ],
   "window_display": false
  }
 },
 "nbformat": 4,
 "nbformat_minor": 5
}
