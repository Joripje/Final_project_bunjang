{
 "cells": [
  {
   "cell_type": "code",
   "execution_count": 1,
   "id": "bdab3443",
   "metadata": {
    "ExecuteTime": {
     "end_time": "2022-01-03T04:52:25.856261Z",
     "start_time": "2022-01-03T04:52:24.934256Z"
    }
   },
   "outputs": [],
   "source": [
    "import pandas as pd\n",
    "import numpy as np\n",
    "import matplotlib.pyplot as plt\n",
    "import seaborn as sns\n",
    "from tqdm.notebook import tqdm\n",
    "pd.options.display.max_info_columns =200\n",
    "pd.options.display.max_columns = 200\n",
    "pd.options.display.max_info_rows =100\n",
    "pd.options.display.max_rows = 100\n",
    "\n",
    "import os\n",
    "from tqdm import tqdm_notebook"
   ]
  },
  {
   "cell_type": "markdown",
   "id": "5570f662",
   "metadata": {
    "ExecuteTime": {
     "end_time": "2022-01-03T04:52:32.120695Z",
     "start_time": "2022-01-03T04:52:32.115670Z"
    }
   },
   "source": [
    "# 작업파일 불러오기\n",
    "\n",
    "- 전체 :  ['아디다스','에어컨','에어팟','오토바이','블라우스','팔찌','카메라','코트','컴퓨터','구두','귀걸이','갤럭시', '갤럭시케이스',\n",
    "          '안경','모자','하이힐','후드','아이폰케이스','아이폰','자켓','청바지','점퍼','중고차','키보드','노트북','마우스','목도리',\n",
    "          '네일','니트','목걸이','나이키','닌텐도','원피스','패딩','바지','향수','냉장고','레고','반지','셔츠','치마','스피커','정장',\n",
    "          '선글라스','티셔츠','트레이닝','티비','지갑','세탁기','시계']\n",
    "- '아디다스 0','에어컨 1','에어팟 2','오토바이 3','블라우스 4','팔찌 5','카메라 6','코트7','컴퓨터 8','구두 9','귀걸이10','갤럭시 11'"
   ]
  },
  {
   "cell_type": "code",
   "execution_count": 3,
   "id": "63299cdd",
   "metadata": {
    "ExecuteTime": {
     "end_time": "2022-01-03T04:52:39.022116Z",
     "start_time": "2022-01-03T04:52:39.020081Z"
    }
   },
   "outputs": [],
   "source": [
    "#내 작업\n",
    "query_list = ['아디다스','에어컨','에어팟','오토바이','블라우스','팔찌','카메라','코트','컴퓨터','구두','귀걸이','갤럭시']"
   ]
  },
  {
   "cell_type": "code",
   "execution_count": 4,
   "id": "3b00039e",
   "metadata": {
    "ExecuteTime": {
     "end_time": "2022-01-03T04:52:42.654093Z",
     "start_time": "2022-01-03T04:52:42.341070Z"
    }
   },
   "outputs": [],
   "source": [
    "total_df = []\n",
    "for i in range(len(query_list)):\n",
    "    total_df.append(pd.read_csv(f'/Users/ppangppang/Desktop/ssac/Final_project/2.Processed/info/{query_list[i]}.csv'))"
   ]
  },
  {
   "cell_type": "markdown",
   "id": "6f4d1b15",
   "metadata": {},
   "source": [
    "# 태그 추천 테스트\n",
    "1. 문장-단어 TF-IDF 구하기 : 한 문장(product)에 중요도가 높은 단어들 테이블\n",
    "2. 문장-문장 유사도 구하기 : 특정 문장(prodcut)기준 문장간 유사도를 통해 특정 문장과 유사한 문장 뽑기\n",
    "3. 1을 미리 구해놓음 -> 2에서 비슷한 문장 뽑음 -> 2에서 뽑힌 문장을 1에서 찾음 -> 1에서 태그 뽑기\n",
    "\n",
    "\n",
    "- 구현에 필요한 내용\n",
    " - 1,2번 구현 테스트\n",
    " - 언어 전처리 필요"
   ]
  },
  {
   "cell_type": "code",
   "execution_count": 5,
   "id": "d78a1ae9",
   "metadata": {
    "ExecuteTime": {
     "end_time": "2022-01-03T04:53:05.841278Z",
     "start_time": "2022-01-03T04:53:05.817660Z"
    }
   },
   "outputs": [
    {
     "data": {
      "text/html": [
       "<div>\n",
       "<style scoped>\n",
       "    .dataframe tbody tr th:only-of-type {\n",
       "        vertical-align: middle;\n",
       "    }\n",
       "\n",
       "    .dataframe tbody tr th {\n",
       "        vertical-align: top;\n",
       "    }\n",
       "\n",
       "    .dataframe thead th {\n",
       "        text-align: right;\n",
       "    }\n",
       "</style>\n",
       "<table border=\"1\" class=\"dataframe\">\n",
       "  <thead>\n",
       "    <tr style=\"text-align: right;\">\n",
       "      <th></th>\n",
       "      <th>product_id</th>\n",
       "      <th>title</th>\n",
       "      <th>keyword</th>\n",
       "      <th>cat1</th>\n",
       "      <th>cat2</th>\n",
       "      <th>cat3</th>\n",
       "      <th>view</th>\n",
       "      <th>image</th>\n",
       "      <th>merge</th>\n",
       "    </tr>\n",
       "  </thead>\n",
       "  <tbody>\n",
       "    <tr>\n",
       "      <th>0</th>\n",
       "      <td>162427299</td>\n",
       "      <td>아디다스 문디알 풋살화265m</td>\n",
       "      <td>아디다스,문디알,코파문디알,아디다스문디알,풋살화</td>\n",
       "      <td>스포츠/레저</td>\n",
       "      <td>축구</td>\n",
       "      <td>축구 용품</td>\n",
       "      <td>641</td>\n",
       "      <td>https://media.bunjang.co.kr/product/162427299_...</td>\n",
       "      <td>아디다스 문디알 풋살화265m아디다스,문디알,코파문디알,아디다스문디알,풋살화스포츠/...</td>\n",
       "    </tr>\n",
       "    <tr>\n",
       "      <th>1</th>\n",
       "      <td>172688578</td>\n",
       "      <td>아디다스 반팔티</td>\n",
       "      <td>아디다스,아디다스반팔,반팔</td>\n",
       "      <td>남성의류</td>\n",
       "      <td>티셔츠</td>\n",
       "      <td>반팔 티셔츠</td>\n",
       "      <td>12</td>\n",
       "      <td>https://media.bunjang.co.kr/product/172688578_...</td>\n",
       "      <td>아디다스 반팔티아디다스,아디다스반팔,반팔남성의류티셔츠반팔 티셔츠</td>\n",
       "    </tr>\n",
       "    <tr>\n",
       "      <th>2</th>\n",
       "      <td>174560842</td>\n",
       "      <td>아디다스 봄가을 트레이닝 1230</td>\n",
       "      <td>100</td>\n",
       "      <td>남성의류</td>\n",
       "      <td>바지</td>\n",
       "      <td>기타(바지)</td>\n",
       "      <td>4</td>\n",
       "      <td>https://media.bunjang.co.kr/product/174560842_...</td>\n",
       "      <td>아디다스 봄가을 트레이닝 1230100남성의류바지기타(바지)</td>\n",
       "    </tr>\n",
       "    <tr>\n",
       "      <th>3</th>\n",
       "      <td>171688500</td>\n",
       "      <td>아디다스 아이바 글러브 레드</td>\n",
       "      <td>복싱,복싱글러브,아이바</td>\n",
       "      <td>스포츠/레저</td>\n",
       "      <td>기타 구기 스포츠</td>\n",
       "      <td>0</td>\n",
       "      <td>101</td>\n",
       "      <td>https://media.bunjang.co.kr/product/171688500_...</td>\n",
       "      <td>아디다스 아이바 글러브 레드 복싱,복싱글러브,아이바스포츠/레저기타 구기 스포츠0</td>\n",
       "    </tr>\n",
       "    <tr>\n",
       "      <th>4</th>\n",
       "      <td>174560837</td>\n",
       "      <td>아디다스 빅로고 버건디 후드티</td>\n",
       "      <td>아디다스빅로고,아디다스후드티,빅로고후드,버건디후드</td>\n",
       "      <td>여성의류</td>\n",
       "      <td>후드티/후드집업</td>\n",
       "      <td>0</td>\n",
       "      <td>1</td>\n",
       "      <td>https://media.bunjang.co.kr/product/174560837_...</td>\n",
       "      <td>아디다스 빅로고 버건디 후드티아디다스빅로고,아디다스후드티,빅로고후드,버건디후드여성의...</td>\n",
       "    </tr>\n",
       "    <tr>\n",
       "      <th>...</th>\n",
       "      <td>...</td>\n",
       "      <td>...</td>\n",
       "      <td>...</td>\n",
       "      <td>...</td>\n",
       "      <td>...</td>\n",
       "      <td>...</td>\n",
       "      <td>...</td>\n",
       "      <td>...</td>\n",
       "      <td>...</td>\n",
       "    </tr>\n",
       "    <tr>\n",
       "      <th>5995</th>\n",
       "      <td>170889615</td>\n",
       "      <td>아디다스 x 고스티드+ 265 FG 최상급 축구화</td>\n",
       "      <td>축구화,축구,아디다스x고스티드+,x고스티드,엑스</td>\n",
       "      <td>스포츠/레저</td>\n",
       "      <td>축구</td>\n",
       "      <td>축구 용품</td>\n",
       "      <td>390</td>\n",
       "      <td>https://media.bunjang.co.kr/product/170889615_...</td>\n",
       "      <td>아디다스 x 고스티드+ 265 FG 최상급 축구화축구화,축구,아디다스x고스티드+,x...</td>\n",
       "    </tr>\n",
       "    <tr>\n",
       "      <th>5996</th>\n",
       "      <td>118288417</td>\n",
       "      <td>아디다스 유로파 핑크 하의 85</td>\n",
       "      <td>아디다스 유로파,유로파 85,유로파 핑크</td>\n",
       "      <td>여성의류</td>\n",
       "      <td>트레이닝</td>\n",
       "      <td>하의</td>\n",
       "      <td>291</td>\n",
       "      <td>https://media.bunjang.co.kr/product/118288417_...</td>\n",
       "      <td>아디다스 유로파 핑크 하의 85아디다스 유로파,유로파 85,유로파 핑크여성의류트레이닝하의</td>\n",
       "    </tr>\n",
       "    <tr>\n",
       "      <th>5997</th>\n",
       "      <td>118288210</td>\n",
       "      <td>아디다스 유로파 핑크 상의 85</td>\n",
       "      <td>아디다스 유로파,85,유로파 핑크,아디다스 여자 상</td>\n",
       "      <td>여성의류</td>\n",
       "      <td>트레이닝</td>\n",
       "      <td>상의</td>\n",
       "      <td>152</td>\n",
       "      <td>https://media.bunjang.co.kr/product/118288210_...</td>\n",
       "      <td>아디다스 유로파 핑크 상의 85아디다스 유로파,85,유로파 핑크,아디다스 여자 상여...</td>\n",
       "    </tr>\n",
       "    <tr>\n",
       "      <th>5998</th>\n",
       "      <td>174460778</td>\n",
       "      <td>&lt;240&gt;아디다스 오즈위고 스웨이드 화이트 새상품</td>\n",
       "      <td>아디다스,오즈위고,240,EG0546,화이트</td>\n",
       "      <td>신발</td>\n",
       "      <td>스니커즈</td>\n",
       "      <td>0</td>\n",
       "      <td>9</td>\n",
       "      <td>https://media.bunjang.co.kr/product/174460778_...</td>\n",
       "      <td>&lt;240&gt;아디다스 오즈위고 스웨이드 화이트 새상품아디다스,오즈위고,240,EG054...</td>\n",
       "    </tr>\n",
       "    <tr>\n",
       "      <th>5999</th>\n",
       "      <td>171198937</td>\n",
       "      <td>무배)새거)리복 진짜편한 운동화240</td>\n",
       "      <td>나이키,아디다스,스니커즈,단화,운동화</td>\n",
       "      <td>신발</td>\n",
       "      <td>여성화</td>\n",
       "      <td>단화/플랫슈즈</td>\n",
       "      <td>39</td>\n",
       "      <td>https://media.bunjang.co.kr/product/171198937_...</td>\n",
       "      <td>무배)새거)리복 진짜편한 운동화240나이키,아디다스,스니커즈,단화,운동화신발여성화단...</td>\n",
       "    </tr>\n",
       "  </tbody>\n",
       "</table>\n",
       "<p>6000 rows × 9 columns</p>\n",
       "</div>"
      ],
      "text/plain": [
       "      product_id                        title                       keyword  \\\n",
       "0      162427299             아디다스 문디알 풋살화265m    아디다스,문디알,코파문디알,아디다스문디알,풋살화   \n",
       "1      172688578                     아디다스 반팔티                아디다스,아디다스반팔,반팔   \n",
       "2      174560842           아디다스 봄가을 트레이닝 1230                           100   \n",
       "3      171688500             아디다스 아이바 글러브 레드                   복싱,복싱글러브,아이바   \n",
       "4      174560837             아디다스 빅로고 버건디 후드티   아디다스빅로고,아디다스후드티,빅로고후드,버건디후드   \n",
       "...          ...                          ...                           ...   \n",
       "5995   170889615  아디다스 x 고스티드+ 265 FG 최상급 축구화    축구화,축구,아디다스x고스티드+,x고스티드,엑스   \n",
       "5996   118288417            아디다스 유로파 핑크 하의 85        아디다스 유로파,유로파 85,유로파 핑크   \n",
       "5997   118288210            아디다스 유로파 핑크 상의 85  아디다스 유로파,85,유로파 핑크,아디다스 여자 상   \n",
       "5998   174460778  <240>아디다스 오즈위고 스웨이드 화이트 새상품      아디다스,오즈위고,240,EG0546,화이트   \n",
       "5999   171198937         무배)새거)리복 진짜편한 운동화240          나이키,아디다스,스니커즈,단화,운동화   \n",
       "\n",
       "        cat1       cat2     cat3 view  \\\n",
       "0     스포츠/레저         축구    축구 용품  641   \n",
       "1       남성의류        티셔츠   반팔 티셔츠   12   \n",
       "2       남성의류         바지   기타(바지)    4   \n",
       "3     스포츠/레저  기타 구기 스포츠        0  101   \n",
       "4       여성의류   후드티/후드집업        0    1   \n",
       "...      ...        ...      ...  ...   \n",
       "5995  스포츠/레저         축구    축구 용품  390   \n",
       "5996    여성의류       트레이닝       하의  291   \n",
       "5997    여성의류       트레이닝       상의  152   \n",
       "5998      신발       스니커즈        0    9   \n",
       "5999      신발        여성화  단화/플랫슈즈   39   \n",
       "\n",
       "                                                  image  \\\n",
       "0     https://media.bunjang.co.kr/product/162427299_...   \n",
       "1     https://media.bunjang.co.kr/product/172688578_...   \n",
       "2     https://media.bunjang.co.kr/product/174560842_...   \n",
       "3     https://media.bunjang.co.kr/product/171688500_...   \n",
       "4     https://media.bunjang.co.kr/product/174560837_...   \n",
       "...                                                 ...   \n",
       "5995  https://media.bunjang.co.kr/product/170889615_...   \n",
       "5996  https://media.bunjang.co.kr/product/118288417_...   \n",
       "5997  https://media.bunjang.co.kr/product/118288210_...   \n",
       "5998  https://media.bunjang.co.kr/product/174460778_...   \n",
       "5999  https://media.bunjang.co.kr/product/171198937_...   \n",
       "\n",
       "                                                  merge  \n",
       "0     아디다스 문디알 풋살화265m아디다스,문디알,코파문디알,아디다스문디알,풋살화스포츠/...  \n",
       "1                   아디다스 반팔티아디다스,아디다스반팔,반팔남성의류티셔츠반팔 티셔츠  \n",
       "2                     아디다스 봄가을 트레이닝 1230100남성의류바지기타(바지)  \n",
       "3          아디다스 아이바 글러브 레드 복싱,복싱글러브,아이바스포츠/레저기타 구기 스포츠0  \n",
       "4     아디다스 빅로고 버건디 후드티아디다스빅로고,아디다스후드티,빅로고후드,버건디후드여성의...  \n",
       "...                                                 ...  \n",
       "5995  아디다스 x 고스티드+ 265 FG 최상급 축구화축구화,축구,아디다스x고스티드+,x...  \n",
       "5996  아디다스 유로파 핑크 하의 85아디다스 유로파,유로파 85,유로파 핑크여성의류트레이닝하의  \n",
       "5997  아디다스 유로파 핑크 상의 85아디다스 유로파,85,유로파 핑크,아디다스 여자 상여...  \n",
       "5998  <240>아디다스 오즈위고 스웨이드 화이트 새상품아디다스,오즈위고,240,EG054...  \n",
       "5999  무배)새거)리복 진짜편한 운동화240나이키,아디다스,스니커즈,단화,운동화신발여성화단...  \n",
       "\n",
       "[6000 rows x 9 columns]"
      ]
     },
     "execution_count": 5,
     "metadata": {},
     "output_type": "execute_result"
    }
   ],
   "source": [
    "adidas = total_df[0].copy()\n",
    "adidas.fillna(0,inplace=True)\n",
    "adidas.replace(0,'',inplace=True)\n",
    "adidas['merge'] = adidas['title'] + adidas['keyword'] + adidas['cat1'] + adidas['cat2'] + adidas['cat3']\n",
    "adidas"
   ]
  },
  {
   "cell_type": "code",
   "execution_count": 6,
   "id": "168c536e",
   "metadata": {
    "ExecuteTime": {
     "end_time": "2022-01-03T04:53:33.990416Z",
     "start_time": "2022-01-03T04:53:33.979911Z"
    }
   },
   "outputs": [
    {
     "data": {
      "text/html": [
       "<div>\n",
       "<style scoped>\n",
       "    .dataframe tbody tr th:only-of-type {\n",
       "        vertical-align: middle;\n",
       "    }\n",
       "\n",
       "    .dataframe tbody tr th {\n",
       "        vertical-align: top;\n",
       "    }\n",
       "\n",
       "    .dataframe thead th {\n",
       "        text-align: right;\n",
       "    }\n",
       "</style>\n",
       "<table border=\"1\" class=\"dataframe\">\n",
       "  <thead>\n",
       "    <tr style=\"text-align: right;\">\n",
       "      <th></th>\n",
       "      <th>product_id</th>\n",
       "      <th>merge</th>\n",
       "    </tr>\n",
       "  </thead>\n",
       "  <tbody>\n",
       "    <tr>\n",
       "      <th>0</th>\n",
       "      <td>162427299</td>\n",
       "      <td>아디다스 문디알 풋살화265m아디다스,문디알,코파문디알,아디다스문디알,풋살화스포츠/...</td>\n",
       "    </tr>\n",
       "    <tr>\n",
       "      <th>1</th>\n",
       "      <td>172688578</td>\n",
       "      <td>아디다스 반팔티아디다스,아디다스반팔,반팔남성의류티셔츠반팔 티셔츠</td>\n",
       "    </tr>\n",
       "    <tr>\n",
       "      <th>2</th>\n",
       "      <td>174560842</td>\n",
       "      <td>아디다스 봄가을 트레이닝 1230100남성의류바지기타(바지)</td>\n",
       "    </tr>\n",
       "    <tr>\n",
       "      <th>3</th>\n",
       "      <td>171688500</td>\n",
       "      <td>아디다스 아이바 글러브 레드 복싱,복싱글러브,아이바스포츠/레저기타 구기 스포츠0</td>\n",
       "    </tr>\n",
       "    <tr>\n",
       "      <th>4</th>\n",
       "      <td>174560837</td>\n",
       "      <td>아디다스 빅로고 버건디 후드티아디다스빅로고,아디다스후드티,빅로고후드,버건디후드여성의...</td>\n",
       "    </tr>\n",
       "    <tr>\n",
       "      <th>...</th>\n",
       "      <td>...</td>\n",
       "      <td>...</td>\n",
       "    </tr>\n",
       "    <tr>\n",
       "      <th>5995</th>\n",
       "      <td>170889615</td>\n",
       "      <td>아디다스 x 고스티드+ 265 FG 최상급 축구화축구화,축구,아디다스x고스티드+,x...</td>\n",
       "    </tr>\n",
       "    <tr>\n",
       "      <th>5996</th>\n",
       "      <td>118288417</td>\n",
       "      <td>아디다스 유로파 핑크 하의 85아디다스 유로파,유로파 85,유로파 핑크여성의류트레이닝하의</td>\n",
       "    </tr>\n",
       "    <tr>\n",
       "      <th>5997</th>\n",
       "      <td>118288210</td>\n",
       "      <td>아디다스 유로파 핑크 상의 85아디다스 유로파,85,유로파 핑크,아디다스 여자 상여...</td>\n",
       "    </tr>\n",
       "    <tr>\n",
       "      <th>5998</th>\n",
       "      <td>174460778</td>\n",
       "      <td>&lt;240&gt;아디다스 오즈위고 스웨이드 화이트 새상품아디다스,오즈위고,240,EG054...</td>\n",
       "    </tr>\n",
       "    <tr>\n",
       "      <th>5999</th>\n",
       "      <td>171198937</td>\n",
       "      <td>무배)새거)리복 진짜편한 운동화240나이키,아디다스,스니커즈,단화,운동화신발여성화단...</td>\n",
       "    </tr>\n",
       "  </tbody>\n",
       "</table>\n",
       "<p>6000 rows × 2 columns</p>\n",
       "</div>"
      ],
      "text/plain": [
       "      product_id                                              merge\n",
       "0      162427299  아디다스 문디알 풋살화265m아디다스,문디알,코파문디알,아디다스문디알,풋살화스포츠/...\n",
       "1      172688578                아디다스 반팔티아디다스,아디다스반팔,반팔남성의류티셔츠반팔 티셔츠\n",
       "2      174560842                  아디다스 봄가을 트레이닝 1230100남성의류바지기타(바지)\n",
       "3      171688500       아디다스 아이바 글러브 레드 복싱,복싱글러브,아이바스포츠/레저기타 구기 스포츠0\n",
       "4      174560837  아디다스 빅로고 버건디 후드티아디다스빅로고,아디다스후드티,빅로고후드,버건디후드여성의...\n",
       "...          ...                                                ...\n",
       "5995   170889615  아디다스 x 고스티드+ 265 FG 최상급 축구화축구화,축구,아디다스x고스티드+,x...\n",
       "5996   118288417  아디다스 유로파 핑크 하의 85아디다스 유로파,유로파 85,유로파 핑크여성의류트레이닝하의\n",
       "5997   118288210  아디다스 유로파 핑크 상의 85아디다스 유로파,85,유로파 핑크,아디다스 여자 상여...\n",
       "5998   174460778  <240>아디다스 오즈위고 스웨이드 화이트 새상품아디다스,오즈위고,240,EG054...\n",
       "5999   171198937  무배)새거)리복 진짜편한 운동화240나이키,아디다스,스니커즈,단화,운동화신발여성화단...\n",
       "\n",
       "[6000 rows x 2 columns]"
      ]
     },
     "execution_count": 6,
     "metadata": {},
     "output_type": "execute_result"
    }
   ],
   "source": [
    "test = adidas[['product_id','merge']]\n",
    "test"
   ]
  },
  {
   "cell_type": "markdown",
   "id": "553d2770",
   "metadata": {},
   "source": [
    "## 불용어 처리"
   ]
  },
  {
   "cell_type": "code",
   "execution_count": 10,
   "id": "2480ab1c",
   "metadata": {
    "ExecuteTime": {
     "end_time": "2022-01-03T04:57:51.651237Z",
     "start_time": "2022-01-03T04:57:51.649058Z"
    }
   },
   "outputs": [],
   "source": [
    "from konlpy.tag import Okt\n",
    "import re"
   ]
  },
  {
   "cell_type": "code",
   "execution_count": 11,
   "id": "9f377e53",
   "metadata": {
    "ExecuteTime": {
     "end_time": "2022-01-03T04:58:22.590291Z",
     "start_time": "2022-01-03T04:58:22.585501Z"
    }
   },
   "outputs": [
    {
     "data": {
      "text/html": [
       "<div>\n",
       "<style scoped>\n",
       "    .dataframe tbody tr th:only-of-type {\n",
       "        vertical-align: middle;\n",
       "    }\n",
       "\n",
       "    .dataframe tbody tr th {\n",
       "        vertical-align: top;\n",
       "    }\n",
       "\n",
       "    .dataframe thead th {\n",
       "        text-align: right;\n",
       "    }\n",
       "</style>\n",
       "<table border=\"1\" class=\"dataframe\">\n",
       "  <thead>\n",
       "    <tr style=\"text-align: right;\">\n",
       "      <th></th>\n",
       "      <th>product_id</th>\n",
       "      <th>merge</th>\n",
       "    </tr>\n",
       "  </thead>\n",
       "  <tbody>\n",
       "    <tr>\n",
       "      <th>0</th>\n",
       "      <td>162427299</td>\n",
       "      <td>아디다스 문디알 풋살화265m아디다스,문디알,코파문디알,아디다스문디알,풋살화스포츠/...</td>\n",
       "    </tr>\n",
       "    <tr>\n",
       "      <th>1</th>\n",
       "      <td>172688578</td>\n",
       "      <td>아디다스 반팔티아디다스,아디다스반팔,반팔남성의류티셔츠반팔 티셔츠</td>\n",
       "    </tr>\n",
       "    <tr>\n",
       "      <th>2</th>\n",
       "      <td>174560842</td>\n",
       "      <td>아디다스 봄가을 트레이닝 1230100남성의류바지기타(바지)</td>\n",
       "    </tr>\n",
       "  </tbody>\n",
       "</table>\n",
       "</div>"
      ],
      "text/plain": [
       "   product_id                                              merge\n",
       "0   162427299  아디다스 문디알 풋살화265m아디다스,문디알,코파문디알,아디다스문디알,풋살화스포츠/...\n",
       "1   172688578                아디다스 반팔티아디다스,아디다스반팔,반팔남성의류티셔츠반팔 티셔츠\n",
       "2   174560842                  아디다스 봄가을 트레이닝 1230100남성의류바지기타(바지)"
      ]
     },
     "execution_count": 11,
     "metadata": {},
     "output_type": "execute_result"
    }
   ],
   "source": [
    "test2=test.copy()\n",
    "test2= test2[:3]\n",
    "test2"
   ]
  },
  {
   "cell_type": "code",
   "execution_count": 8,
   "id": "81150a7d",
   "metadata": {
    "ExecuteTime": {
     "end_time": "2022-01-03T04:54:23.972514Z",
     "start_time": "2022-01-03T04:54:23.968321Z"
    }
   },
   "outputs": [],
   "source": [
    "def preprocessing(review, okt, remove_stopwords = False, stop_words = [], test = False):\n",
    "    # 함수의 인자는 다음과 같다.\n",
    "    # review : 전처리할 텍스트\n",
    "    # okt : okt 객체를 반복적으로 생성하지 않고 미리 생성후 인자로 받는다.\n",
    "    # remove_stopword : 불용어를 제거할지 선택 기본값은 False\n",
    "    # stop_word : 불용어 사전은 사용자가 직접 입력해야함 기본값은 비어있는 리스트\n",
    "    \n",
    "    # 1. 한글 및 공백을 제외한 문자 모두 제거.\n",
    "    review_text = re.sub(\"[^가-힣ㄱ-ㅎㅏ-ㅣ\\\\s]\", \"\", review)\n",
    "    \n",
    "    # 2. okt 객체를 활용해서 형태소 단위로 나눈다.\n",
    "    word_review = okt.morphs(review_text, stem=True)\n",
    "    \n",
    "    if test:\n",
    "        print(review_text)\n",
    "        print(word_review)\n",
    "\n",
    "    if remove_stopwords:\n",
    "        \n",
    "        # 불용어 제거(선택적)\n",
    "        word_review = [token for token in word_review if not token in stop_words]\n",
    "\n",
    "    return word_review"
   ]
  },
  {
   "cell_type": "code",
   "execution_count": 9,
   "id": "70e0f82d",
   "metadata": {
    "ExecuteTime": {
     "end_time": "2022-01-03T04:55:36.945328Z",
     "start_time": "2022-01-03T04:55:36.942577Z"
    }
   },
   "outputs": [],
   "source": [
    "stop_words = [ '은', '는', '이', '가', '하', '아', '것', '들','의', '있', '되', '수', '보', '주', '등', '한']"
   ]
  },
  {
   "cell_type": "code",
   "execution_count": 12,
   "id": "1a39a489",
   "metadata": {
    "ExecuteTime": {
     "end_time": "2022-01-03T04:59:27.812925Z",
     "start_time": "2022-01-03T04:58:35.775149Z"
    }
   },
   "outputs": [
    {
     "name": "stderr",
     "output_type": "stream",
     "text": [
      "/var/folders/c0/q_ltjrb55gzc5wvhsv7s_vsh0000gn/T/ipykernel_870/1835991182.py:3: TqdmDeprecationWarning: This function will be removed in tqdm==5.0.0\n",
      "Please use `tqdm.notebook.tqdm` instead of `tqdm.tqdm_notebook`\n",
      "  for word in tqdm_notebook(test2['merge']):\n"
     ]
    },
    {
     "data": {
      "application/vnd.jupyter.widget-view+json": {
       "model_id": "a5d099439d3344be941d60ec063ff5ac",
       "version_major": 2,
       "version_minor": 0
      },
      "text/plain": [
       "  0%|          | 0/3 [00:00<?, ?it/s]"
      ]
     },
     "metadata": {},
     "output_type": "display_data"
    }
   ],
   "source": [
    "okt = Okt()\n",
    "info=[]\n",
    "for word in tqdm_notebook(test2['merge']):\n",
    "    info.append(preprocessing(word, okt, remove_stopwords = True, stop_words=stop_words))"
   ]
  },
  {
   "cell_type": "code",
   "execution_count": 13,
   "id": "e89865f1",
   "metadata": {
    "ExecuteTime": {
     "end_time": "2022-01-03T04:59:53.197358Z",
     "start_time": "2022-01-03T04:59:53.193363Z"
    }
   },
   "outputs": [
    {
     "data": {
      "text/plain": [
       "3"
      ]
     },
     "execution_count": 13,
     "metadata": {},
     "output_type": "execute_result"
    }
   ],
   "source": [
    "len(info)"
   ]
  },
  {
   "cell_type": "code",
   "execution_count": 14,
   "id": "c1f69c78",
   "metadata": {
    "ExecuteTime": {
     "end_time": "2022-01-03T04:59:55.607585Z",
     "start_time": "2022-01-03T04:59:55.604595Z"
    }
   },
   "outputs": [
    {
     "data": {
      "text/plain": [
       "[['아디다스',\n",
       "  '문디알',\n",
       "  '풋살',\n",
       "  '화',\n",
       "  '아디다스',\n",
       "  '문디알',\n",
       "  '코파',\n",
       "  '문디알',\n",
       "  '아디다스',\n",
       "  '문디알',\n",
       "  '풋살',\n",
       "  '화',\n",
       "  '스포츠',\n",
       "  '레저',\n",
       "  '축구',\n",
       "  '축구',\n",
       "  '용품'],\n",
       " ['아디다스',\n",
       "  '반',\n",
       "  '팔',\n",
       "  '티',\n",
       "  '아디다스',\n",
       "  '아디다스',\n",
       "  '반',\n",
       "  '팔',\n",
       "  '반',\n",
       "  '팔',\n",
       "  '남성',\n",
       "  '의류',\n",
       "  '티셔츠',\n",
       "  '반',\n",
       "  '팔',\n",
       "  '티셔츠'],\n",
       " ['아디다스', '봄', '가을', '트레이닝', '남성', '의류', '바지', '기타', '바지']]"
      ]
     },
     "execution_count": 14,
     "metadata": {},
     "output_type": "execute_result"
    }
   ],
   "source": [
    "info"
   ]
  },
  {
   "cell_type": "code",
   "execution_count": 15,
   "id": "a3c34294",
   "metadata": {
    "ExecuteTime": {
     "end_time": "2022-01-03T05:00:53.364747Z",
     "start_time": "2022-01-03T05:00:53.109309Z"
    }
   },
   "outputs": [
    {
     "ename": "AttributeError",
     "evalue": "'list' object has no attribute 'lower'",
     "output_type": "error",
     "traceback": [
      "\u001b[0;31m---------------------------------------------------------------------------\u001b[0m",
      "\u001b[0;31mAttributeError\u001b[0m                            Traceback (most recent call last)",
      "\u001b[0;32m/var/folders/c0/q_ltjrb55gzc5wvhsv7s_vsh0000gn/T/ipykernel_870/780448563.py\u001b[0m in \u001b[0;36m<module>\u001b[0;34m\u001b[0m\n\u001b[1;32m      1\u001b[0m \u001b[0;32mfrom\u001b[0m \u001b[0msklearn\u001b[0m\u001b[0;34m.\u001b[0m\u001b[0mfeature_extraction\u001b[0m\u001b[0;34m.\u001b[0m\u001b[0mtext\u001b[0m \u001b[0;32mimport\u001b[0m \u001b[0mCountVectorizer\u001b[0m\u001b[0;34m\u001b[0m\u001b[0;34m\u001b[0m\u001b[0m\n\u001b[1;32m      2\u001b[0m \u001b[0mvect\u001b[0m \u001b[0;34m=\u001b[0m \u001b[0mCountVectorizer\u001b[0m\u001b[0;34m(\u001b[0m\u001b[0;34m)\u001b[0m\u001b[0;34m\u001b[0m\u001b[0;34m\u001b[0m\u001b[0m\n\u001b[0;32m----> 3\u001b[0;31m \u001b[0mcountvect\u001b[0m \u001b[0;34m=\u001b[0m \u001b[0mvect\u001b[0m\u001b[0;34m.\u001b[0m\u001b[0mfit_transform\u001b[0m\u001b[0;34m(\u001b[0m\u001b[0minfo\u001b[0m\u001b[0;34m)\u001b[0m\u001b[0;34m\u001b[0m\u001b[0;34m\u001b[0m\u001b[0m\n\u001b[0m\u001b[1;32m      4\u001b[0m \u001b[0mcountvect\u001b[0m\u001b[0;34m.\u001b[0m\u001b[0mtoarray\u001b[0m\u001b[0;34m(\u001b[0m\u001b[0;34m)\u001b[0m\u001b[0;34m\u001b[0m\u001b[0;34m\u001b[0m\u001b[0m\n",
      "\u001b[0;32m~/opt/anaconda3/envs/ppangppang/lib/python3.9/site-packages/sklearn/feature_extraction/text.py\u001b[0m in \u001b[0;36mfit_transform\u001b[0;34m(self, raw_documents, y)\u001b[0m\n\u001b[1;32m   1328\u001b[0m                     \u001b[0;32mbreak\u001b[0m\u001b[0;34m\u001b[0m\u001b[0;34m\u001b[0m\u001b[0m\n\u001b[1;32m   1329\u001b[0m \u001b[0;34m\u001b[0m\u001b[0m\n\u001b[0;32m-> 1330\u001b[0;31m         \u001b[0mvocabulary\u001b[0m\u001b[0;34m,\u001b[0m \u001b[0mX\u001b[0m \u001b[0;34m=\u001b[0m \u001b[0mself\u001b[0m\u001b[0;34m.\u001b[0m\u001b[0m_count_vocab\u001b[0m\u001b[0;34m(\u001b[0m\u001b[0mraw_documents\u001b[0m\u001b[0;34m,\u001b[0m \u001b[0mself\u001b[0m\u001b[0;34m.\u001b[0m\u001b[0mfixed_vocabulary_\u001b[0m\u001b[0;34m)\u001b[0m\u001b[0;34m\u001b[0m\u001b[0;34m\u001b[0m\u001b[0m\n\u001b[0m\u001b[1;32m   1331\u001b[0m \u001b[0;34m\u001b[0m\u001b[0m\n\u001b[1;32m   1332\u001b[0m         \u001b[0;32mif\u001b[0m \u001b[0mself\u001b[0m\u001b[0;34m.\u001b[0m\u001b[0mbinary\u001b[0m\u001b[0;34m:\u001b[0m\u001b[0;34m\u001b[0m\u001b[0;34m\u001b[0m\u001b[0m\n",
      "\u001b[0;32m~/opt/anaconda3/envs/ppangppang/lib/python3.9/site-packages/sklearn/feature_extraction/text.py\u001b[0m in \u001b[0;36m_count_vocab\u001b[0;34m(self, raw_documents, fixed_vocab)\u001b[0m\n\u001b[1;32m   1199\u001b[0m         \u001b[0;32mfor\u001b[0m \u001b[0mdoc\u001b[0m \u001b[0;32min\u001b[0m \u001b[0mraw_documents\u001b[0m\u001b[0;34m:\u001b[0m\u001b[0;34m\u001b[0m\u001b[0;34m\u001b[0m\u001b[0m\n\u001b[1;32m   1200\u001b[0m             \u001b[0mfeature_counter\u001b[0m \u001b[0;34m=\u001b[0m \u001b[0;34m{\u001b[0m\u001b[0;34m}\u001b[0m\u001b[0;34m\u001b[0m\u001b[0;34m\u001b[0m\u001b[0m\n\u001b[0;32m-> 1201\u001b[0;31m             \u001b[0;32mfor\u001b[0m \u001b[0mfeature\u001b[0m \u001b[0;32min\u001b[0m \u001b[0manalyze\u001b[0m\u001b[0;34m(\u001b[0m\u001b[0mdoc\u001b[0m\u001b[0;34m)\u001b[0m\u001b[0;34m:\u001b[0m\u001b[0;34m\u001b[0m\u001b[0;34m\u001b[0m\u001b[0m\n\u001b[0m\u001b[1;32m   1202\u001b[0m                 \u001b[0;32mtry\u001b[0m\u001b[0;34m:\u001b[0m\u001b[0;34m\u001b[0m\u001b[0;34m\u001b[0m\u001b[0m\n\u001b[1;32m   1203\u001b[0m                     \u001b[0mfeature_idx\u001b[0m \u001b[0;34m=\u001b[0m \u001b[0mvocabulary\u001b[0m\u001b[0;34m[\u001b[0m\u001b[0mfeature\u001b[0m\u001b[0;34m]\u001b[0m\u001b[0;34m\u001b[0m\u001b[0;34m\u001b[0m\u001b[0m\n",
      "\u001b[0;32m~/opt/anaconda3/envs/ppangppang/lib/python3.9/site-packages/sklearn/feature_extraction/text.py\u001b[0m in \u001b[0;36m_analyze\u001b[0;34m(doc, analyzer, tokenizer, ngrams, preprocessor, decoder, stop_words)\u001b[0m\n\u001b[1;32m    111\u001b[0m     \u001b[0;32melse\u001b[0m\u001b[0;34m:\u001b[0m\u001b[0;34m\u001b[0m\u001b[0;34m\u001b[0m\u001b[0m\n\u001b[1;32m    112\u001b[0m         \u001b[0;32mif\u001b[0m \u001b[0mpreprocessor\u001b[0m \u001b[0;32mis\u001b[0m \u001b[0;32mnot\u001b[0m \u001b[0;32mNone\u001b[0m\u001b[0;34m:\u001b[0m\u001b[0;34m\u001b[0m\u001b[0;34m\u001b[0m\u001b[0m\n\u001b[0;32m--> 113\u001b[0;31m             \u001b[0mdoc\u001b[0m \u001b[0;34m=\u001b[0m \u001b[0mpreprocessor\u001b[0m\u001b[0;34m(\u001b[0m\u001b[0mdoc\u001b[0m\u001b[0;34m)\u001b[0m\u001b[0;34m\u001b[0m\u001b[0;34m\u001b[0m\u001b[0m\n\u001b[0m\u001b[1;32m    114\u001b[0m         \u001b[0;32mif\u001b[0m \u001b[0mtokenizer\u001b[0m \u001b[0;32mis\u001b[0m \u001b[0;32mnot\u001b[0m \u001b[0;32mNone\u001b[0m\u001b[0;34m:\u001b[0m\u001b[0;34m\u001b[0m\u001b[0;34m\u001b[0m\u001b[0m\n\u001b[1;32m    115\u001b[0m             \u001b[0mdoc\u001b[0m \u001b[0;34m=\u001b[0m \u001b[0mtokenizer\u001b[0m\u001b[0;34m(\u001b[0m\u001b[0mdoc\u001b[0m\u001b[0;34m)\u001b[0m\u001b[0;34m\u001b[0m\u001b[0;34m\u001b[0m\u001b[0m\n",
      "\u001b[0;32m~/opt/anaconda3/envs/ppangppang/lib/python3.9/site-packages/sklearn/feature_extraction/text.py\u001b[0m in \u001b[0;36m_preprocess\u001b[0;34m(doc, accent_function, lower)\u001b[0m\n\u001b[1;32m     69\u001b[0m     \"\"\"\n\u001b[1;32m     70\u001b[0m     \u001b[0;32mif\u001b[0m \u001b[0mlower\u001b[0m\u001b[0;34m:\u001b[0m\u001b[0;34m\u001b[0m\u001b[0;34m\u001b[0m\u001b[0m\n\u001b[0;32m---> 71\u001b[0;31m         \u001b[0mdoc\u001b[0m \u001b[0;34m=\u001b[0m \u001b[0mdoc\u001b[0m\u001b[0;34m.\u001b[0m\u001b[0mlower\u001b[0m\u001b[0;34m(\u001b[0m\u001b[0;34m)\u001b[0m\u001b[0;34m\u001b[0m\u001b[0;34m\u001b[0m\u001b[0m\n\u001b[0m\u001b[1;32m     72\u001b[0m     \u001b[0;32mif\u001b[0m \u001b[0maccent_function\u001b[0m \u001b[0;32mis\u001b[0m \u001b[0;32mnot\u001b[0m \u001b[0;32mNone\u001b[0m\u001b[0;34m:\u001b[0m\u001b[0;34m\u001b[0m\u001b[0;34m\u001b[0m\u001b[0m\n\u001b[1;32m     73\u001b[0m         \u001b[0mdoc\u001b[0m \u001b[0;34m=\u001b[0m \u001b[0maccent_function\u001b[0m\u001b[0;34m(\u001b[0m\u001b[0mdoc\u001b[0m\u001b[0;34m)\u001b[0m\u001b[0;34m\u001b[0m\u001b[0;34m\u001b[0m\u001b[0m\n",
      "\u001b[0;31mAttributeError\u001b[0m: 'list' object has no attribute 'lower'"
     ]
    }
   ],
   "source": [
    "from sklearn.feature_extraction.text import CountVectorizer\n",
    "vect = CountVectorizer()\n",
    "countvect = vect.fit_transform(info)\n",
    "countvect.toarray()"
   ]
  },
  {
   "cell_type": "code",
   "execution_count": null,
   "id": "c6bda443",
   "metadata": {},
   "outputs": [],
   "source": []
  }
 ],
 "metadata": {
  "kernelspec": {
   "display_name": "Python 3 (ipykernel)",
   "language": "python",
   "name": "python3"
  },
  "language_info": {
   "codemirror_mode": {
    "name": "ipython",
    "version": 3
   },
   "file_extension": ".py",
   "mimetype": "text/x-python",
   "name": "python",
   "nbconvert_exporter": "python",
   "pygments_lexer": "ipython3",
   "version": "3.9.7"
  },
  "toc": {
   "base_numbering": 1,
   "nav_menu": {},
   "number_sections": true,
   "sideBar": true,
   "skip_h1_title": false,
   "title_cell": "Table of Contents",
   "title_sidebar": "Contents",
   "toc_cell": false,
   "toc_position": {},
   "toc_section_display": true,
   "toc_window_display": false
  },
  "varInspector": {
   "cols": {
    "lenName": 16,
    "lenType": 16,
    "lenVar": 40
   },
   "kernels_config": {
    "python": {
     "delete_cmd_postfix": "",
     "delete_cmd_prefix": "del ",
     "library": "var_list.py",
     "varRefreshCmd": "print(var_dic_list())"
    },
    "r": {
     "delete_cmd_postfix": ") ",
     "delete_cmd_prefix": "rm(",
     "library": "var_list.r",
     "varRefreshCmd": "cat(var_dic_list()) "
    }
   },
   "types_to_exclude": [
    "module",
    "function",
    "builtin_function_or_method",
    "instance",
    "_Feature"
   ],
   "window_display": false
  }
 },
 "nbformat": 4,
 "nbformat_minor": 5
}
