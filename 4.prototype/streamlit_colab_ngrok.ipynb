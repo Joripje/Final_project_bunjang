{
  "cells": [
    {
      "cell_type": "markdown",
      "metadata": {
        "id": "AHMwOJusIZSm"
      },
      "source": [
        "## 드라이브 연결 및 패키지 설치"
      ]
    },
    {
      "cell_type": "code",
      "execution_count": null,
      "metadata": {
        "id": "IJ_NShN0W7BM"
      },
      "outputs": [],
      "source": [
        "from google.colab import drive\n",
        "drive.mount('/content/drive')"
      ]
    },
    {
      "cell_type": "code",
      "execution_count": null,
      "metadata": {
        "id": "dwSUXMSGd6Aw"
      },
      "outputs": [],
      "source": [
        "!sudo apt-get install -y fonts-nanum\n",
        "!sudo fc-cache -fv\n",
        "!rm ~/.cache/matplotlib -rf"
      ]
    },
    {
      "cell_type": "code",
      "execution_count": null,
      "metadata": {
        "id": "6bKt5LR4Iv2-"
      },
      "outputs": [],
      "source": [
        "!pip install streamlit"
      ]
    },
    {
      "cell_type": "code",
      "execution_count": null,
      "metadata": {
        "id": "9YNFZwJwI0zs"
      },
      "outputs": [],
      "source": [
        "!pip install pyngrok"
      ]
    },
    {
      "cell_type": "markdown",
      "metadata": {
        "id": "yju9Bg5tI6yb"
      },
      "source": [
        "설치 후 런타임 재시작"
      ]
    },
    {
      "cell_type": "markdown",
      "metadata": {
        "id": "IVuX7d23JBfm"
      },
      "source": [
        "## ngrok 불러오기"
      ]
    },
    {
      "cell_type": "code",
      "execution_count": 1,
      "metadata": {
        "id": "929ghZ8tI9Tb"
      },
      "outputs": [],
      "source": [
        "from pyngrok import ngrok"
      ]
    },
    {
      "cell_type": "code",
      "source": [
        "token = ''\n",
        "!ngrok authtoken token"
      ],
      "metadata": {
        "id": "lBg4Ym0ewx0V"
      },
      "execution_count": null,
      "outputs": []
    },
    {
      "cell_type": "markdown",
      "metadata": {
        "id": "bnOSSrRYJP2m"
      },
      "source": [
        "## ngrok & streamlit 실행"
      ]
    },
    {
      "cell_type": "code",
      "execution_count": 3,
      "metadata": {
        "id": "GLGr_r0yJMRU"
      },
      "outputs": [],
      "source": [
        "publ_url = ngrok.connect(addr = '8501')"
      ]
    },
    {
      "cell_type": "code",
      "execution_count": null,
      "metadata": {
        "id": "cOIenuzHJaPa"
      },
      "outputs": [],
      "source": [
        "publ_url"
      ]
    },
    {
      "cell_type": "code",
      "source": [
        "path = ''\n",
        "!streamlit run path"
      ],
      "metadata": {
        "id": "gjPBg8W4ww3d"
      },
      "execution_count": null,
      "outputs": []
    },
    {
      "cell_type": "markdown",
      "metadata": {
        "id": "_crUnncJJiyg"
      },
      "source": [
        "## 완료 후 종료"
      ]
    },
    {
      "cell_type": "code",
      "execution_count": null,
      "metadata": {
        "id": "ztI1X0QiJes2"
      },
      "outputs": [],
      "source": [
        "ngrok.kill()"
      ]
    }
  ],
  "metadata": {
    "accelerator": "GPU",
    "colab": {
      "machine_shape": "hm",
      "name": "스트림-릿",
      "provenance": []
    },
    "kernelspec": {
      "display_name": "Python 3",
      "name": "python3"
    },
    "language_info": {
      "name": "python"
    }
  },
  "nbformat": 4,
  "nbformat_minor": 0
}