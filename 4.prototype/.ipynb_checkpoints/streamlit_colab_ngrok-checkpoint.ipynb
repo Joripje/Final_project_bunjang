{
 "cells": [
  {
   "cell_type": "markdown",
   "metadata": {
    "id": "AHMwOJusIZSm"
   },
   "source": [
    "## 드라이브 연결 및 패키지 설치"
   ]
  },
  {
   "cell_type": "code",
   "execution_count": null,
   "metadata": {
    "id": "IJ_NShN0W7BM"
   },
   "outputs": [],
   "source": [
    "from google.colab import drive\n",
    "drive.mount('/content/drive')"
   ]
  },
  {
   "cell_type": "code",
   "execution_count": null,
   "metadata": {
    "id": "dwSUXMSGd6Aw"
   },
   "outputs": [],
   "source": [
    "!sudo apt-get install -y fonts-nanum\n",
    "!sudo fc-cache -fv\n",
    "!rm ~/.cache/matplotlib -rf"
   ]
  },
  {
   "cell_type": "code",
   "execution_count": null,
   "metadata": {
    "id": "6bKt5LR4Iv2-"
   },
   "outputs": [],
   "source": [
    "!pip install streamlit"
   ]
  },
  {
   "cell_type": "code",
   "execution_count": null,
   "metadata": {
    "id": "9YNFZwJwI0zs"
   },
   "outputs": [],
   "source": [
    "!pip install pyngrok"
   ]
  },
  {
   "cell_type": "markdown",
   "metadata": {
    "id": "yju9Bg5tI6yb"
   },
   "source": [
    "설치 후 런타임 재시작"
   ]
  },
  {
   "cell_type": "markdown",
   "metadata": {
    "id": "IVuX7d23JBfm"
   },
   "source": [
    "## ngrok 불러오기"
   ]
  },
  {
   "cell_type": "code",
   "execution_count": 1,
   "metadata": {
    "id": "929ghZ8tI9Tb"
   },
   "outputs": [],
   "source": [
    "from pyngrok import ngrok"
   ]
  },
  {
   "cell_type": "code",
   "execution_count": null,
   "metadata": {
    "id": "lBg4Ym0ewx0V"
   },
   "outputs": [],
   "source": [
    "token = '' # 개인 토큰 받아서 실행\n",
    "!ngrok authtoken token"
   ]
  },
  {
   "cell_type": "markdown",
   "metadata": {
    "id": "bnOSSrRYJP2m"
   },
   "source": [
    "## ngrok & streamlit 실행"
   ]
  },
  {
   "cell_type": "code",
   "execution_count": 3,
   "metadata": {
    "id": "GLGr_r0yJMRU"
   },
   "outputs": [],
   "source": [
    "publ_url = ngrok.connect(addr = '8501')"
   ]
  },
  {
   "cell_type": "code",
   "execution_count": null,
   "metadata": {
    "id": "cOIenuzHJaPa"
   },
   "outputs": [],
   "source": [
    "publ_url"
   ]
  },
  {
   "cell_type": "code",
   "execution_count": null,
   "metadata": {
    "id": "gjPBg8W4ww3d"
   },
   "outputs": [],
   "source": [
    "path = ''\n",
    "!streamlit run path"
   ]
  },
  {
   "cell_type": "markdown",
   "metadata": {
    "id": "_crUnncJJiyg"
   },
   "source": [
    "## 완료 후 종료"
   ]
  },
  {
   "cell_type": "code",
   "execution_count": null,
   "metadata": {
    "id": "ztI1X0QiJes2"
   },
   "outputs": [],
   "source": [
    "ngrok.kill()"
   ]
  }
 ],
 "metadata": {
  "accelerator": "GPU",
  "colab": {
   "machine_shape": "hm",
   "name": "스트림-릿",
   "provenance": []
  },
  "kernelspec": {
   "display_name": "Python 3 (ipykernel)",
   "language": "python",
   "name": "python3"
  },
  "language_info": {
   "codemirror_mode": {
    "name": "ipython",
    "version": 3
   },
   "file_extension": ".py",
   "mimetype": "text/x-python",
   "name": "python",
   "nbconvert_exporter": "python",
   "pygments_lexer": "ipython3",
   "version": "3.9.7"
  },
  "toc": {
   "base_numbering": 1,
   "nav_menu": {},
   "number_sections": true,
   "sideBar": true,
   "skip_h1_title": false,
   "title_cell": "Table of Contents",
   "title_sidebar": "Contents",
   "toc_cell": false,
   "toc_position": {},
   "toc_section_display": true,
   "toc_window_display": false
  },
  "varInspector": {
   "cols": {
    "lenName": 16,
    "lenType": 16,
    "lenVar": 40
   },
   "kernels_config": {
    "python": {
     "delete_cmd_postfix": "",
     "delete_cmd_prefix": "del ",
     "library": "var_list.py",
     "varRefreshCmd": "print(var_dic_list())"
    },
    "r": {
     "delete_cmd_postfix": ") ",
     "delete_cmd_prefix": "rm(",
     "library": "var_list.r",
     "varRefreshCmd": "cat(var_dic_list()) "
    }
   },
   "types_to_exclude": [
    "module",
    "function",
    "builtin_function_or_method",
    "instance",
    "_Feature"
   ],
   "window_display": false
  }
 },
 "nbformat": 4,
 "nbformat_minor": 1
}
