{
 "cells": [
  {
   "cell_type": "code",
   "execution_count": 7,
   "id": "dff2176f",
   "metadata": {
    "ExecuteTime": {
     "end_time": "2021-12-23T09:37:32.367122Z",
     "start_time": "2021-12-23T09:37:32.362137Z"
    }
   },
   "outputs": [],
   "source": [
    "from glob import glob"
   ]
  },
  {
   "cell_type": "code",
   "execution_count": 8,
   "id": "dcc00636",
   "metadata": {
    "ExecuteTime": {
     "end_time": "2021-12-23T09:37:32.838072Z",
     "start_time": "2021-12-23T09:37:32.819102Z"
    }
   },
   "outputs": [],
   "source": [
    "train_app_list = glob('./test/train_raw/app/*')"
   ]
  },
  {
   "cell_type": "code",
   "execution_count": 9,
   "id": "a7ce7525",
   "metadata": {
    "ExecuteTime": {
     "end_time": "2021-12-23T09:37:33.338058Z",
     "start_time": "2021-12-23T09:37:33.299133Z"
    },
    "scrolled": true
   },
   "outputs": [
    {
     "data": {
      "text/plain": [
       "['./test/train_raw/app\\\\app (1).jpg',\n",
       " './test/train_raw/app\\\\app (10).jpg',\n",
       " './test/train_raw/app\\\\app (100).jpg',\n",
       " './test/train_raw/app\\\\app (1000).jpg',\n",
       " './test/train_raw/app\\\\app (1001).jpg',\n",
       " './test/train_raw/app\\\\app (1002).jpg',\n",
       " './test/train_raw/app\\\\app (1003).jpg',\n",
       " './test/train_raw/app\\\\app (1004).jpg',\n",
       " './test/train_raw/app\\\\app (1005).jpg',\n",
       " './test/train_raw/app\\\\app (1006).jpg',\n",
       " './test/train_raw/app\\\\app (1007).jpg',\n",
       " './test/train_raw/app\\\\app (1008).jpg',\n",
       " './test/train_raw/app\\\\app (1009).jpg',\n",
       " './test/train_raw/app\\\\app (101).jpg',\n",
       " './test/train_raw/app\\\\app (1010).jpg',\n",
       " './test/train_raw/app\\\\app (1011).jpg',\n",
       " './test/train_raw/app\\\\app (1012).jpg',\n",
       " './test/train_raw/app\\\\app (1013).jpg',\n",
       " './test/train_raw/app\\\\app (1014).jpg',\n",
       " './test/train_raw/app\\\\app (1015).jpg',\n",
       " './test/train_raw/app\\\\app (1016).jpg',\n",
       " './test/train_raw/app\\\\app (1017).jpg',\n",
       " './test/train_raw/app\\\\app (1018).jpg',\n",
       " './test/train_raw/app\\\\app (1019).jpg',\n",
       " './test/train_raw/app\\\\app (102).jpg',\n",
       " './test/train_raw/app\\\\app (1020).jpg',\n",
       " './test/train_raw/app\\\\app (1021).jpg',\n",
       " './test/train_raw/app\\\\app (1022).jpg',\n",
       " './test/train_raw/app\\\\app (1023).jpg',\n",
       " './test/train_raw/app\\\\app (1024).jpg',\n",
       " './test/train_raw/app\\\\app (1025).jpg',\n",
       " './test/train_raw/app\\\\app (1026).jpg',\n",
       " './test/train_raw/app\\\\app (1027).jpg',\n",
       " './test/train_raw/app\\\\app (1028).jpg',\n",
       " './test/train_raw/app\\\\app (1029).jpg',\n",
       " './test/train_raw/app\\\\app (103).jpg',\n",
       " './test/train_raw/app\\\\app (1030).jpg',\n",
       " './test/train_raw/app\\\\app (1031).jpg',\n",
       " './test/train_raw/app\\\\app (1032).jpg',\n",
       " './test/train_raw/app\\\\app (1033).jpg',\n",
       " './test/train_raw/app\\\\app (1034).jpg',\n",
       " './test/train_raw/app\\\\app (1035).jpg',\n",
       " './test/train_raw/app\\\\app (1036).jpg',\n",
       " './test/train_raw/app\\\\app (1037).jpg',\n",
       " './test/train_raw/app\\\\app (1038).jpg',\n",
       " './test/train_raw/app\\\\app (1039).jpg',\n",
       " './test/train_raw/app\\\\app (104).jpg',\n",
       " './test/train_raw/app\\\\app (1040).jpg',\n",
       " './test/train_raw/app\\\\app (1041).jpg',\n",
       " './test/train_raw/app\\\\app (1042).jpg',\n",
       " './test/train_raw/app\\\\app (1043).jpg',\n",
       " './test/train_raw/app\\\\app (1044).jpg',\n",
       " './test/train_raw/app\\\\app (1045).jpg',\n",
       " './test/train_raw/app\\\\app (1046).jpg',\n",
       " './test/train_raw/app\\\\app (1047).jpg',\n",
       " './test/train_raw/app\\\\app (1048).jpg',\n",
       " './test/train_raw/app\\\\app (1049).jpg',\n",
       " './test/train_raw/app\\\\app (105).jpg',\n",
       " './test/train_raw/app\\\\app (1050).jpg',\n",
       " './test/train_raw/app\\\\app (1051).jpg',\n",
       " './test/train_raw/app\\\\app (1052).jpg',\n",
       " './test/train_raw/app\\\\app (1053).jpg',\n",
       " './test/train_raw/app\\\\app (1054).jpg',\n",
       " './test/train_raw/app\\\\app (1055).jpg',\n",
       " './test/train_raw/app\\\\app (1056).jpg',\n",
       " './test/train_raw/app\\\\app (1057).jpg',\n",
       " './test/train_raw/app\\\\app (1058).jpg',\n",
       " './test/train_raw/app\\\\app (1059).jpg',\n",
       " './test/train_raw/app\\\\app (106).jpg',\n",
       " './test/train_raw/app\\\\app (1060).jpg',\n",
       " './test/train_raw/app\\\\app (1061).jpg',\n",
       " './test/train_raw/app\\\\app (1062).jpg',\n",
       " './test/train_raw/app\\\\app (1063).jpg',\n",
       " './test/train_raw/app\\\\app (1064).jpg',\n",
       " './test/train_raw/app\\\\app (1065).jpg',\n",
       " './test/train_raw/app\\\\app (1066).jpg',\n",
       " './test/train_raw/app\\\\app (1067).jpg',\n",
       " './test/train_raw/app\\\\app (1068).jpg',\n",
       " './test/train_raw/app\\\\app (1069).jpg',\n",
       " './test/train_raw/app\\\\app (107).jpg',\n",
       " './test/train_raw/app\\\\app (1070).jpg',\n",
       " './test/train_raw/app\\\\app (1071).jpg',\n",
       " './test/train_raw/app\\\\app (1072).jpg',\n",
       " './test/train_raw/app\\\\app (1073).jpg',\n",
       " './test/train_raw/app\\\\app (1074).jpg',\n",
       " './test/train_raw/app\\\\app (1075).jpg',\n",
       " './test/train_raw/app\\\\app (1076).jpg',\n",
       " './test/train_raw/app\\\\app (1077).jpg',\n",
       " './test/train_raw/app\\\\app (1078).jpg',\n",
       " './test/train_raw/app\\\\app (1079).jpg',\n",
       " './test/train_raw/app\\\\app (108).jpg',\n",
       " './test/train_raw/app\\\\app (1080).jpg',\n",
       " './test/train_raw/app\\\\app (1081).jpg',\n",
       " './test/train_raw/app\\\\app (1082).jpg',\n",
       " './test/train_raw/app\\\\app (1083).jpg',\n",
       " './test/train_raw/app\\\\app (1084).jpg',\n",
       " './test/train_raw/app\\\\app (1085).jpg',\n",
       " './test/train_raw/app\\\\app (1086).jpg',\n",
       " './test/train_raw/app\\\\app (1087).jpg',\n",
       " './test/train_raw/app\\\\app (1088).jpg',\n",
       " './test/train_raw/app\\\\app (1089).jpg',\n",
       " './test/train_raw/app\\\\app (109).jpg',\n",
       " './test/train_raw/app\\\\app (1090).jpg',\n",
       " './test/train_raw/app\\\\app (1091).jpg',\n",
       " './test/train_raw/app\\\\app (1092).jpg',\n",
       " './test/train_raw/app\\\\app (1093).jpg',\n",
       " './test/train_raw/app\\\\app (1094).jpg',\n",
       " './test/train_raw/app\\\\app (1095).jpg',\n",
       " './test/train_raw/app\\\\app (1096).jpg',\n",
       " './test/train_raw/app\\\\app (1097).jpg',\n",
       " './test/train_raw/app\\\\app (1098).jpg',\n",
       " './test/train_raw/app\\\\app (1099).jpg',\n",
       " './test/train_raw/app\\\\app (11).jpg',\n",
       " './test/train_raw/app\\\\app (110).jpg',\n",
       " './test/train_raw/app\\\\app (1100).jpg',\n",
       " './test/train_raw/app\\\\app (1101).jpg',\n",
       " './test/train_raw/app\\\\app (1102).jpg',\n",
       " './test/train_raw/app\\\\app (1103).jpg',\n",
       " './test/train_raw/app\\\\app (1104).jpg',\n",
       " './test/train_raw/app\\\\app (1105).jpg',\n",
       " './test/train_raw/app\\\\app (1106).jpg',\n",
       " './test/train_raw/app\\\\app (1107).jpg',\n",
       " './test/train_raw/app\\\\app (1108).jpg',\n",
       " './test/train_raw/app\\\\app (1109).jpg',\n",
       " './test/train_raw/app\\\\app (111).jpg',\n",
       " './test/train_raw/app\\\\app (1110).jpg',\n",
       " './test/train_raw/app\\\\app (1111).jpg',\n",
       " './test/train_raw/app\\\\app (1112).jpg',\n",
       " './test/train_raw/app\\\\app (1113).jpg',\n",
       " './test/train_raw/app\\\\app (1114).jpg',\n",
       " './test/train_raw/app\\\\app (1115).jpg',\n",
       " './test/train_raw/app\\\\app (1116).jpg',\n",
       " './test/train_raw/app\\\\app (1117).jpg',\n",
       " './test/train_raw/app\\\\app (1118).jpg',\n",
       " './test/train_raw/app\\\\app (1119).jpg',\n",
       " './test/train_raw/app\\\\app (112).jpg',\n",
       " './test/train_raw/app\\\\app (1120).jpg',\n",
       " './test/train_raw/app\\\\app (1121).jpg',\n",
       " './test/train_raw/app\\\\app (1122).jpg',\n",
       " './test/train_raw/app\\\\app (1123).jpg',\n",
       " './test/train_raw/app\\\\app (1124).jpg',\n",
       " './test/train_raw/app\\\\app (1125).jpg',\n",
       " './test/train_raw/app\\\\app (1126).jpg',\n",
       " './test/train_raw/app\\\\app (1127).jpg',\n",
       " './test/train_raw/app\\\\app (1128).jpg',\n",
       " './test/train_raw/app\\\\app (1129).jpg',\n",
       " './test/train_raw/app\\\\app (113).jpg',\n",
       " './test/train_raw/app\\\\app (1130).jpg',\n",
       " './test/train_raw/app\\\\app (1131).jpg',\n",
       " './test/train_raw/app\\\\app (1132).jpg',\n",
       " './test/train_raw/app\\\\app (1133).jpg',\n",
       " './test/train_raw/app\\\\app (1134).jpg',\n",
       " './test/train_raw/app\\\\app (1135).jpg',\n",
       " './test/train_raw/app\\\\app (1136).jpg',\n",
       " './test/train_raw/app\\\\app (1137).jpg',\n",
       " './test/train_raw/app\\\\app (1138).jpg',\n",
       " './test/train_raw/app\\\\app (1139).jpg',\n",
       " './test/train_raw/app\\\\app (114).jpg',\n",
       " './test/train_raw/app\\\\app (1140).jpg',\n",
       " './test/train_raw/app\\\\app (1141).jpg',\n",
       " './test/train_raw/app\\\\app (1142).jpg',\n",
       " './test/train_raw/app\\\\app (1143).jpg',\n",
       " './test/train_raw/app\\\\app (1144).jpg',\n",
       " './test/train_raw/app\\\\app (1145).jpg',\n",
       " './test/train_raw/app\\\\app (1146).jpg',\n",
       " './test/train_raw/app\\\\app (1147).jpg',\n",
       " './test/train_raw/app\\\\app (1148).jpg',\n",
       " './test/train_raw/app\\\\app (1149).jpg',\n",
       " './test/train_raw/app\\\\app (115).jpg',\n",
       " './test/train_raw/app\\\\app (1150).jpg',\n",
       " './test/train_raw/app\\\\app (1151).jpg',\n",
       " './test/train_raw/app\\\\app (1152).jpg',\n",
       " './test/train_raw/app\\\\app (1153).jpg',\n",
       " './test/train_raw/app\\\\app (1154).jpg',\n",
       " './test/train_raw/app\\\\app (1155).jpg',\n",
       " './test/train_raw/app\\\\app (1156).jpg',\n",
       " './test/train_raw/app\\\\app (1157).jpg',\n",
       " './test/train_raw/app\\\\app (1158).jpg',\n",
       " './test/train_raw/app\\\\app (1159).jpg',\n",
       " './test/train_raw/app\\\\app (116).jpg',\n",
       " './test/train_raw/app\\\\app (1160).jpg',\n",
       " './test/train_raw/app\\\\app (1161).jpg',\n",
       " './test/train_raw/app\\\\app (1162).jpg',\n",
       " './test/train_raw/app\\\\app (1163).jpg',\n",
       " './test/train_raw/app\\\\app (1164).jpg',\n",
       " './test/train_raw/app\\\\app (1165).jpg',\n",
       " './test/train_raw/app\\\\app (1166).jpg',\n",
       " './test/train_raw/app\\\\app (1167).jpg',\n",
       " './test/train_raw/app\\\\app (1168).jpg',\n",
       " './test/train_raw/app\\\\app (1169).jpg',\n",
       " './test/train_raw/app\\\\app (117).jpg',\n",
       " './test/train_raw/app\\\\app (1170).jpg',\n",
       " './test/train_raw/app\\\\app (1171).jpg',\n",
       " './test/train_raw/app\\\\app (1172).jpg',\n",
       " './test/train_raw/app\\\\app (1173).jpg',\n",
       " './test/train_raw/app\\\\app (1174).jpg',\n",
       " './test/train_raw/app\\\\app (1175).jpg',\n",
       " './test/train_raw/app\\\\app (1176).jpg',\n",
       " './test/train_raw/app\\\\app (1177).jpg',\n",
       " './test/train_raw/app\\\\app (1178).jpg',\n",
       " './test/train_raw/app\\\\app (1179).jpg',\n",
       " './test/train_raw/app\\\\app (118).jpg',\n",
       " './test/train_raw/app\\\\app (1180).jpg',\n",
       " './test/train_raw/app\\\\app (1181).jpg',\n",
       " './test/train_raw/app\\\\app (1182).jpg',\n",
       " './test/train_raw/app\\\\app (1183).jpg',\n",
       " './test/train_raw/app\\\\app (1184).jpg',\n",
       " './test/train_raw/app\\\\app (1185).jpg',\n",
       " './test/train_raw/app\\\\app (1186).jpg',\n",
       " './test/train_raw/app\\\\app (1187).jpg',\n",
       " './test/train_raw/app\\\\app (1188).jpg',\n",
       " './test/train_raw/app\\\\app (1189).jpg',\n",
       " './test/train_raw/app\\\\app (119).jpg',\n",
       " './test/train_raw/app\\\\app (1190).jpg',\n",
       " './test/train_raw/app\\\\app (1191).jpg',\n",
       " './test/train_raw/app\\\\app (1192).jpg',\n",
       " './test/train_raw/app\\\\app (1193).jpg',\n",
       " './test/train_raw/app\\\\app (1194).jpg',\n",
       " './test/train_raw/app\\\\app (1195).jpg',\n",
       " './test/train_raw/app\\\\app (1196).jpg',\n",
       " './test/train_raw/app\\\\app (1197).jpg',\n",
       " './test/train_raw/app\\\\app (1198).jpg',\n",
       " './test/train_raw/app\\\\app (1199).jpg',\n",
       " './test/train_raw/app\\\\app (12).jpg',\n",
       " './test/train_raw/app\\\\app (120).jpg',\n",
       " './test/train_raw/app\\\\app (1200).jpg',\n",
       " './test/train_raw/app\\\\app (121).jpg',\n",
       " './test/train_raw/app\\\\app (122).jpg',\n",
       " './test/train_raw/app\\\\app (123).jpg',\n",
       " './test/train_raw/app\\\\app (124).jpg',\n",
       " './test/train_raw/app\\\\app (125).jpg',\n",
       " './test/train_raw/app\\\\app (126).jpg',\n",
       " './test/train_raw/app\\\\app (127).jpg',\n",
       " './test/train_raw/app\\\\app (128).jpg',\n",
       " './test/train_raw/app\\\\app (129).jpg',\n",
       " './test/train_raw/app\\\\app (13).jpg',\n",
       " './test/train_raw/app\\\\app (130).jpg',\n",
       " './test/train_raw/app\\\\app (131).jpg',\n",
       " './test/train_raw/app\\\\app (132).jpg',\n",
       " './test/train_raw/app\\\\app (133).jpg',\n",
       " './test/train_raw/app\\\\app (134).jpg',\n",
       " './test/train_raw/app\\\\app (135).jpg',\n",
       " './test/train_raw/app\\\\app (136).jpg',\n",
       " './test/train_raw/app\\\\app (137).jpg',\n",
       " './test/train_raw/app\\\\app (138).jpg',\n",
       " './test/train_raw/app\\\\app (139).jpg',\n",
       " './test/train_raw/app\\\\app (14).jpg',\n",
       " './test/train_raw/app\\\\app (140).jpg',\n",
       " './test/train_raw/app\\\\app (141).jpg',\n",
       " './test/train_raw/app\\\\app (142).jpg',\n",
       " './test/train_raw/app\\\\app (143).jpg',\n",
       " './test/train_raw/app\\\\app (144).jpg',\n",
       " './test/train_raw/app\\\\app (145).jpg',\n",
       " './test/train_raw/app\\\\app (146).jpg',\n",
       " './test/train_raw/app\\\\app (147).jpg',\n",
       " './test/train_raw/app\\\\app (148).jpg',\n",
       " './test/train_raw/app\\\\app (149).jpg',\n",
       " './test/train_raw/app\\\\app (15).jpg',\n",
       " './test/train_raw/app\\\\app (150).jpg',\n",
       " './test/train_raw/app\\\\app (151).jpg',\n",
       " './test/train_raw/app\\\\app (152).jpg',\n",
       " './test/train_raw/app\\\\app (153).jpg',\n",
       " './test/train_raw/app\\\\app (154).jpg',\n",
       " './test/train_raw/app\\\\app (155).jpg',\n",
       " './test/train_raw/app\\\\app (156).jpg',\n",
       " './test/train_raw/app\\\\app (157).jpg',\n",
       " './test/train_raw/app\\\\app (158).jpg',\n",
       " './test/train_raw/app\\\\app (159).jpg',\n",
       " './test/train_raw/app\\\\app (16).jpg',\n",
       " './test/train_raw/app\\\\app (160).jpg',\n",
       " './test/train_raw/app\\\\app (161).jpg',\n",
       " './test/train_raw/app\\\\app (162).jpg',\n",
       " './test/train_raw/app\\\\app (163).jpg',\n",
       " './test/train_raw/app\\\\app (164).jpg',\n",
       " './test/train_raw/app\\\\app (165).jpg',\n",
       " './test/train_raw/app\\\\app (166).jpg',\n",
       " './test/train_raw/app\\\\app (167).jpg',\n",
       " './test/train_raw/app\\\\app (168).jpg',\n",
       " './test/train_raw/app\\\\app (169).jpg',\n",
       " './test/train_raw/app\\\\app (17).jpg',\n",
       " './test/train_raw/app\\\\app (170).jpg',\n",
       " './test/train_raw/app\\\\app (171).jpg',\n",
       " './test/train_raw/app\\\\app (172).jpg',\n",
       " './test/train_raw/app\\\\app (173).jpg',\n",
       " './test/train_raw/app\\\\app (174).jpg',\n",
       " './test/train_raw/app\\\\app (175).jpg',\n",
       " './test/train_raw/app\\\\app (176).jpg',\n",
       " './test/train_raw/app\\\\app (177).jpg',\n",
       " './test/train_raw/app\\\\app (178).jpg',\n",
       " './test/train_raw/app\\\\app (179).jpg',\n",
       " './test/train_raw/app\\\\app (18).jpg',\n",
       " './test/train_raw/app\\\\app (180).jpg',\n",
       " './test/train_raw/app\\\\app (181).jpg',\n",
       " './test/train_raw/app\\\\app (182).jpg',\n",
       " './test/train_raw/app\\\\app (183).jpg',\n",
       " './test/train_raw/app\\\\app (184).jpg',\n",
       " './test/train_raw/app\\\\app (185).jpg',\n",
       " './test/train_raw/app\\\\app (186).jpg',\n",
       " './test/train_raw/app\\\\app (187).jpg',\n",
       " './test/train_raw/app\\\\app (188).jpg',\n",
       " './test/train_raw/app\\\\app (189).jpg',\n",
       " './test/train_raw/app\\\\app (19).jpg',\n",
       " './test/train_raw/app\\\\app (190).jpg',\n",
       " './test/train_raw/app\\\\app (191).jpg',\n",
       " './test/train_raw/app\\\\app (192).jpg',\n",
       " './test/train_raw/app\\\\app (193).jpg',\n",
       " './test/train_raw/app\\\\app (194).jpg',\n",
       " './test/train_raw/app\\\\app (195).jpg',\n",
       " './test/train_raw/app\\\\app (196).jpg',\n",
       " './test/train_raw/app\\\\app (197).jpg',\n",
       " './test/train_raw/app\\\\app (198).jpg',\n",
       " './test/train_raw/app\\\\app (199).jpg',\n",
       " './test/train_raw/app\\\\app (2).jpg',\n",
       " './test/train_raw/app\\\\app (20).jpg',\n",
       " './test/train_raw/app\\\\app (200).jpg',\n",
       " './test/train_raw/app\\\\app (201).jpg',\n",
       " './test/train_raw/app\\\\app (202).jpg',\n",
       " './test/train_raw/app\\\\app (203).jpg',\n",
       " './test/train_raw/app\\\\app (204).jpg',\n",
       " './test/train_raw/app\\\\app (205).jpg',\n",
       " './test/train_raw/app\\\\app (206).jpg',\n",
       " './test/train_raw/app\\\\app (207).jpg',\n",
       " './test/train_raw/app\\\\app (208).jpg',\n",
       " './test/train_raw/app\\\\app (209).jpg',\n",
       " './test/train_raw/app\\\\app (21).jpg',\n",
       " './test/train_raw/app\\\\app (210).jpg',\n",
       " './test/train_raw/app\\\\app (211).jpg',\n",
       " './test/train_raw/app\\\\app (212).jpg',\n",
       " './test/train_raw/app\\\\app (213).jpg',\n",
       " './test/train_raw/app\\\\app (214).jpg',\n",
       " './test/train_raw/app\\\\app (215).jpg',\n",
       " './test/train_raw/app\\\\app (216).jpg',\n",
       " './test/train_raw/app\\\\app (217).jpg',\n",
       " './test/train_raw/app\\\\app (218).jpg',\n",
       " './test/train_raw/app\\\\app (219).jpg',\n",
       " './test/train_raw/app\\\\app (22).jpg',\n",
       " './test/train_raw/app\\\\app (220).jpg',\n",
       " './test/train_raw/app\\\\app (221).jpg',\n",
       " './test/train_raw/app\\\\app (222).jpg',\n",
       " './test/train_raw/app\\\\app (223).jpg',\n",
       " './test/train_raw/app\\\\app (224).jpg',\n",
       " './test/train_raw/app\\\\app (225).jpg',\n",
       " './test/train_raw/app\\\\app (226).jpg',\n",
       " './test/train_raw/app\\\\app (227).jpg',\n",
       " './test/train_raw/app\\\\app (228).jpg',\n",
       " './test/train_raw/app\\\\app (229).jpg',\n",
       " './test/train_raw/app\\\\app (23).jpg',\n",
       " './test/train_raw/app\\\\app (230).jpg',\n",
       " './test/train_raw/app\\\\app (231).jpg',\n",
       " './test/train_raw/app\\\\app (232).jpg',\n",
       " './test/train_raw/app\\\\app (233).jpg',\n",
       " './test/train_raw/app\\\\app (234).jpg',\n",
       " './test/train_raw/app\\\\app (235).jpg',\n",
       " './test/train_raw/app\\\\app (236).jpg',\n",
       " './test/train_raw/app\\\\app (237).jpg',\n",
       " './test/train_raw/app\\\\app (238).jpg',\n",
       " './test/train_raw/app\\\\app (239).jpg',\n",
       " './test/train_raw/app\\\\app (24).jpg',\n",
       " './test/train_raw/app\\\\app (240).jpg',\n",
       " './test/train_raw/app\\\\app (241).jpg',\n",
       " './test/train_raw/app\\\\app (242).jpg',\n",
       " './test/train_raw/app\\\\app (243).jpg',\n",
       " './test/train_raw/app\\\\app (244).jpg',\n",
       " './test/train_raw/app\\\\app (245).jpg',\n",
       " './test/train_raw/app\\\\app (246).jpg',\n",
       " './test/train_raw/app\\\\app (247).jpg',\n",
       " './test/train_raw/app\\\\app (248).jpg',\n",
       " './test/train_raw/app\\\\app (249).jpg',\n",
       " './test/train_raw/app\\\\app (25).jpg',\n",
       " './test/train_raw/app\\\\app (250).jpg',\n",
       " './test/train_raw/app\\\\app (251).jpg',\n",
       " './test/train_raw/app\\\\app (252).jpg',\n",
       " './test/train_raw/app\\\\app (253).jpg',\n",
       " './test/train_raw/app\\\\app (254).jpg',\n",
       " './test/train_raw/app\\\\app (255).jpg',\n",
       " './test/train_raw/app\\\\app (256).jpg',\n",
       " './test/train_raw/app\\\\app (257).jpg',\n",
       " './test/train_raw/app\\\\app (258).jpg',\n",
       " './test/train_raw/app\\\\app (259).jpg',\n",
       " './test/train_raw/app\\\\app (26).jpg',\n",
       " './test/train_raw/app\\\\app (260).jpg',\n",
       " './test/train_raw/app\\\\app (261).jpg',\n",
       " './test/train_raw/app\\\\app (262).jpg',\n",
       " './test/train_raw/app\\\\app (263).jpg',\n",
       " './test/train_raw/app\\\\app (264).jpg',\n",
       " './test/train_raw/app\\\\app (265).jpg',\n",
       " './test/train_raw/app\\\\app (266).jpg',\n",
       " './test/train_raw/app\\\\app (267).jpg',\n",
       " './test/train_raw/app\\\\app (268).jpg',\n",
       " './test/train_raw/app\\\\app (269).jpg',\n",
       " './test/train_raw/app\\\\app (27).jpg',\n",
       " './test/train_raw/app\\\\app (270).jpg',\n",
       " './test/train_raw/app\\\\app (271).jpg',\n",
       " './test/train_raw/app\\\\app (272).jpg',\n",
       " './test/train_raw/app\\\\app (273).jpg',\n",
       " './test/train_raw/app\\\\app (274).jpg',\n",
       " './test/train_raw/app\\\\app (275).jpg',\n",
       " './test/train_raw/app\\\\app (276).jpg',\n",
       " './test/train_raw/app\\\\app (277).jpg',\n",
       " './test/train_raw/app\\\\app (278).jpg',\n",
       " './test/train_raw/app\\\\app (279).jpg',\n",
       " './test/train_raw/app\\\\app (28).jpg',\n",
       " './test/train_raw/app\\\\app (280).jpg',\n",
       " './test/train_raw/app\\\\app (281).jpg',\n",
       " './test/train_raw/app\\\\app (282).jpg',\n",
       " './test/train_raw/app\\\\app (283).jpg',\n",
       " './test/train_raw/app\\\\app (284).jpg',\n",
       " './test/train_raw/app\\\\app (285).jpg',\n",
       " './test/train_raw/app\\\\app (286).jpg',\n",
       " './test/train_raw/app\\\\app (287).jpg',\n",
       " './test/train_raw/app\\\\app (288).jpg',\n",
       " './test/train_raw/app\\\\app (289).jpg',\n",
       " './test/train_raw/app\\\\app (29).jpg',\n",
       " './test/train_raw/app\\\\app (290).jpg',\n",
       " './test/train_raw/app\\\\app (291).jpg',\n",
       " './test/train_raw/app\\\\app (292).jpg',\n",
       " './test/train_raw/app\\\\app (293).jpg',\n",
       " './test/train_raw/app\\\\app (294).jpg',\n",
       " './test/train_raw/app\\\\app (295).jpg',\n",
       " './test/train_raw/app\\\\app (296).jpg',\n",
       " './test/train_raw/app\\\\app (297).jpg',\n",
       " './test/train_raw/app\\\\app (298).jpg',\n",
       " './test/train_raw/app\\\\app (299).jpg',\n",
       " './test/train_raw/app\\\\app (3).jpg',\n",
       " './test/train_raw/app\\\\app (30).jpg',\n",
       " './test/train_raw/app\\\\app (300).jpg',\n",
       " './test/train_raw/app\\\\app (301).jpg',\n",
       " './test/train_raw/app\\\\app (302).jpg',\n",
       " './test/train_raw/app\\\\app (303).jpg',\n",
       " './test/train_raw/app\\\\app (304).jpg',\n",
       " './test/train_raw/app\\\\app (305).jpg',\n",
       " './test/train_raw/app\\\\app (306).jpg',\n",
       " './test/train_raw/app\\\\app (307).jpg',\n",
       " './test/train_raw/app\\\\app (308).jpg',\n",
       " './test/train_raw/app\\\\app (309).jpg',\n",
       " './test/train_raw/app\\\\app (31).jpg',\n",
       " './test/train_raw/app\\\\app (310).jpg',\n",
       " './test/train_raw/app\\\\app (311).jpg',\n",
       " './test/train_raw/app\\\\app (312).jpg',\n",
       " './test/train_raw/app\\\\app (313).jpg',\n",
       " './test/train_raw/app\\\\app (314).jpg',\n",
       " './test/train_raw/app\\\\app (315).jpg',\n",
       " './test/train_raw/app\\\\app (316).jpg',\n",
       " './test/train_raw/app\\\\app (317).jpg',\n",
       " './test/train_raw/app\\\\app (318).jpg',\n",
       " './test/train_raw/app\\\\app (319).jpg',\n",
       " './test/train_raw/app\\\\app (32).jpg',\n",
       " './test/train_raw/app\\\\app (320).jpg',\n",
       " './test/train_raw/app\\\\app (321).jpg',\n",
       " './test/train_raw/app\\\\app (322).jpg',\n",
       " './test/train_raw/app\\\\app (323).jpg',\n",
       " './test/train_raw/app\\\\app (324).jpg',\n",
       " './test/train_raw/app\\\\app (325).jpg',\n",
       " './test/train_raw/app\\\\app (326).jpg',\n",
       " './test/train_raw/app\\\\app (327).jpg',\n",
       " './test/train_raw/app\\\\app (328).jpg',\n",
       " './test/train_raw/app\\\\app (329).jpg',\n",
       " './test/train_raw/app\\\\app (33).jpg',\n",
       " './test/train_raw/app\\\\app (330).jpg',\n",
       " './test/train_raw/app\\\\app (331).jpg',\n",
       " './test/train_raw/app\\\\app (332).jpg',\n",
       " './test/train_raw/app\\\\app (333).jpg',\n",
       " './test/train_raw/app\\\\app (334).jpg',\n",
       " './test/train_raw/app\\\\app (335).jpg',\n",
       " './test/train_raw/app\\\\app (336).jpg',\n",
       " './test/train_raw/app\\\\app (337).jpg',\n",
       " './test/train_raw/app\\\\app (338).jpg',\n",
       " './test/train_raw/app\\\\app (339).jpg',\n",
       " './test/train_raw/app\\\\app (34).jpg',\n",
       " './test/train_raw/app\\\\app (340).jpg',\n",
       " './test/train_raw/app\\\\app (341).jpg',\n",
       " './test/train_raw/app\\\\app (342).jpg',\n",
       " './test/train_raw/app\\\\app (343).jpg',\n",
       " './test/train_raw/app\\\\app (344).jpg',\n",
       " './test/train_raw/app\\\\app (345).jpg',\n",
       " './test/train_raw/app\\\\app (346).jpg',\n",
       " './test/train_raw/app\\\\app (347).jpg',\n",
       " './test/train_raw/app\\\\app (348).jpg',\n",
       " './test/train_raw/app\\\\app (349).jpg',\n",
       " './test/train_raw/app\\\\app (35).jpg',\n",
       " './test/train_raw/app\\\\app (350).jpg',\n",
       " './test/train_raw/app\\\\app (351).jpg',\n",
       " './test/train_raw/app\\\\app (352).jpg',\n",
       " './test/train_raw/app\\\\app (353).jpg',\n",
       " './test/train_raw/app\\\\app (354).jpg',\n",
       " './test/train_raw/app\\\\app (355).jpg',\n",
       " './test/train_raw/app\\\\app (356).jpg',\n",
       " './test/train_raw/app\\\\app (357).jpg',\n",
       " './test/train_raw/app\\\\app (358).jpg',\n",
       " './test/train_raw/app\\\\app (359).jpg',\n",
       " './test/train_raw/app\\\\app (36).jpg',\n",
       " './test/train_raw/app\\\\app (360).jpg',\n",
       " './test/train_raw/app\\\\app (361).jpg',\n",
       " './test/train_raw/app\\\\app (362).jpg',\n",
       " './test/train_raw/app\\\\app (363).jpg',\n",
       " './test/train_raw/app\\\\app (364).jpg',\n",
       " './test/train_raw/app\\\\app (365).jpg',\n",
       " './test/train_raw/app\\\\app (366).jpg',\n",
       " './test/train_raw/app\\\\app (367).jpg',\n",
       " './test/train_raw/app\\\\app (368).jpg',\n",
       " './test/train_raw/app\\\\app (369).jpg',\n",
       " './test/train_raw/app\\\\app (37).jpg',\n",
       " './test/train_raw/app\\\\app (370).jpg',\n",
       " './test/train_raw/app\\\\app (371).jpg',\n",
       " './test/train_raw/app\\\\app (372).jpg',\n",
       " './test/train_raw/app\\\\app (373).jpg',\n",
       " './test/train_raw/app\\\\app (374).jpg',\n",
       " './test/train_raw/app\\\\app (375).jpg',\n",
       " './test/train_raw/app\\\\app (376).jpg',\n",
       " './test/train_raw/app\\\\app (377).jpg',\n",
       " './test/train_raw/app\\\\app (378).jpg',\n",
       " './test/train_raw/app\\\\app (379).jpg',\n",
       " './test/train_raw/app\\\\app (38).jpg',\n",
       " './test/train_raw/app\\\\app (380).jpg',\n",
       " './test/train_raw/app\\\\app (381).jpg',\n",
       " './test/train_raw/app\\\\app (382).jpg',\n",
       " './test/train_raw/app\\\\app (383).jpg',\n",
       " './test/train_raw/app\\\\app (384).jpg',\n",
       " './test/train_raw/app\\\\app (385).jpg',\n",
       " './test/train_raw/app\\\\app (386).jpg',\n",
       " './test/train_raw/app\\\\app (387).jpg',\n",
       " './test/train_raw/app\\\\app (388).jpg',\n",
       " './test/train_raw/app\\\\app (389).jpg',\n",
       " './test/train_raw/app\\\\app (39).jpg',\n",
       " './test/train_raw/app\\\\app (390).jpg',\n",
       " './test/train_raw/app\\\\app (391).jpg',\n",
       " './test/train_raw/app\\\\app (392).jpg',\n",
       " './test/train_raw/app\\\\app (393).jpg',\n",
       " './test/train_raw/app\\\\app (394).jpg',\n",
       " './test/train_raw/app\\\\app (395).jpg',\n",
       " './test/train_raw/app\\\\app (396).jpg',\n",
       " './test/train_raw/app\\\\app (397).jpg',\n",
       " './test/train_raw/app\\\\app (398).jpg',\n",
       " './test/train_raw/app\\\\app (399).jpg',\n",
       " './test/train_raw/app\\\\app (4).jpg',\n",
       " './test/train_raw/app\\\\app (40).jpg',\n",
       " './test/train_raw/app\\\\app (400).jpg',\n",
       " './test/train_raw/app\\\\app (401).jpg',\n",
       " './test/train_raw/app\\\\app (402).jpg',\n",
       " './test/train_raw/app\\\\app (403).jpg',\n",
       " './test/train_raw/app\\\\app (404).jpg',\n",
       " './test/train_raw/app\\\\app (405).jpg',\n",
       " './test/train_raw/app\\\\app (406).jpg',\n",
       " './test/train_raw/app\\\\app (407).jpg',\n",
       " './test/train_raw/app\\\\app (408).jpg',\n",
       " './test/train_raw/app\\\\app (409).jpg',\n",
       " './test/train_raw/app\\\\app (41).jpg',\n",
       " './test/train_raw/app\\\\app (410).jpg',\n",
       " './test/train_raw/app\\\\app (411).jpg',\n",
       " './test/train_raw/app\\\\app (412).jpg',\n",
       " './test/train_raw/app\\\\app (413).jpg',\n",
       " './test/train_raw/app\\\\app (414).jpg',\n",
       " './test/train_raw/app\\\\app (415).jpg',\n",
       " './test/train_raw/app\\\\app (416).jpg',\n",
       " './test/train_raw/app\\\\app (417).jpg',\n",
       " './test/train_raw/app\\\\app (418).jpg',\n",
       " './test/train_raw/app\\\\app (419).jpg',\n",
       " './test/train_raw/app\\\\app (42).jpg',\n",
       " './test/train_raw/app\\\\app (420).jpg',\n",
       " './test/train_raw/app\\\\app (421).jpg',\n",
       " './test/train_raw/app\\\\app (422).jpg',\n",
       " './test/train_raw/app\\\\app (423).jpg',\n",
       " './test/train_raw/app\\\\app (424).jpg',\n",
       " './test/train_raw/app\\\\app (425).jpg',\n",
       " './test/train_raw/app\\\\app (426).jpg',\n",
       " './test/train_raw/app\\\\app (427).jpg',\n",
       " './test/train_raw/app\\\\app (428).jpg',\n",
       " './test/train_raw/app\\\\app (429).jpg',\n",
       " './test/train_raw/app\\\\app (43).jpg',\n",
       " './test/train_raw/app\\\\app (430).jpg',\n",
       " './test/train_raw/app\\\\app (431).jpg',\n",
       " './test/train_raw/app\\\\app (432).jpg',\n",
       " './test/train_raw/app\\\\app (433).jpg',\n",
       " './test/train_raw/app\\\\app (434).jpg',\n",
       " './test/train_raw/app\\\\app (435).jpg',\n",
       " './test/train_raw/app\\\\app (436).jpg',\n",
       " './test/train_raw/app\\\\app (437).jpg',\n",
       " './test/train_raw/app\\\\app (438).jpg',\n",
       " './test/train_raw/app\\\\app (439).jpg',\n",
       " './test/train_raw/app\\\\app (44).jpg',\n",
       " './test/train_raw/app\\\\app (440).jpg',\n",
       " './test/train_raw/app\\\\app (441).jpg',\n",
       " './test/train_raw/app\\\\app (442).jpg',\n",
       " './test/train_raw/app\\\\app (443).jpg',\n",
       " './test/train_raw/app\\\\app (444).jpg',\n",
       " './test/train_raw/app\\\\app (445).jpg',\n",
       " './test/train_raw/app\\\\app (446).jpg',\n",
       " './test/train_raw/app\\\\app (447).jpg',\n",
       " './test/train_raw/app\\\\app (448).jpg',\n",
       " './test/train_raw/app\\\\app (449).jpg',\n",
       " './test/train_raw/app\\\\app (45).jpg',\n",
       " './test/train_raw/app\\\\app (450).jpg',\n",
       " './test/train_raw/app\\\\app (451).jpg',\n",
       " './test/train_raw/app\\\\app (452).jpg',\n",
       " './test/train_raw/app\\\\app (453).jpg',\n",
       " './test/train_raw/app\\\\app (454).jpg',\n",
       " './test/train_raw/app\\\\app (455).jpg',\n",
       " './test/train_raw/app\\\\app (456).jpg',\n",
       " './test/train_raw/app\\\\app (457).jpg',\n",
       " './test/train_raw/app\\\\app (458).jpg',\n",
       " './test/train_raw/app\\\\app (459).jpg',\n",
       " './test/train_raw/app\\\\app (46).jpg',\n",
       " './test/train_raw/app\\\\app (460).jpg',\n",
       " './test/train_raw/app\\\\app (461).jpg',\n",
       " './test/train_raw/app\\\\app (462).jpg',\n",
       " './test/train_raw/app\\\\app (463).jpg',\n",
       " './test/train_raw/app\\\\app (464).jpg',\n",
       " './test/train_raw/app\\\\app (465).jpg',\n",
       " './test/train_raw/app\\\\app (466).jpg',\n",
       " './test/train_raw/app\\\\app (467).jpg',\n",
       " './test/train_raw/app\\\\app (468).jpg',\n",
       " './test/train_raw/app\\\\app (469).jpg',\n",
       " './test/train_raw/app\\\\app (47).jpg',\n",
       " './test/train_raw/app\\\\app (470).jpg',\n",
       " './test/train_raw/app\\\\app (471).jpg',\n",
       " './test/train_raw/app\\\\app (472).jpg',\n",
       " './test/train_raw/app\\\\app (473).jpg',\n",
       " './test/train_raw/app\\\\app (474).jpg',\n",
       " './test/train_raw/app\\\\app (475).jpg',\n",
       " './test/train_raw/app\\\\app (476).jpg',\n",
       " './test/train_raw/app\\\\app (477).jpg',\n",
       " './test/train_raw/app\\\\app (478).jpg',\n",
       " './test/train_raw/app\\\\app (479).jpg',\n",
       " './test/train_raw/app\\\\app (48).jpg',\n",
       " './test/train_raw/app\\\\app (480).jpg',\n",
       " './test/train_raw/app\\\\app (481).jpg',\n",
       " './test/train_raw/app\\\\app (482).jpg',\n",
       " './test/train_raw/app\\\\app (483).jpg',\n",
       " './test/train_raw/app\\\\app (484).jpg',\n",
       " './test/train_raw/app\\\\app (485).jpg',\n",
       " './test/train_raw/app\\\\app (486).jpg',\n",
       " './test/train_raw/app\\\\app (487).jpg',\n",
       " './test/train_raw/app\\\\app (488).jpg',\n",
       " './test/train_raw/app\\\\app (489).jpg',\n",
       " './test/train_raw/app\\\\app (49).jpg',\n",
       " './test/train_raw/app\\\\app (490).jpg',\n",
       " './test/train_raw/app\\\\app (491).jpg',\n",
       " './test/train_raw/app\\\\app (492).jpg',\n",
       " './test/train_raw/app\\\\app (493).jpg',\n",
       " './test/train_raw/app\\\\app (494).jpg',\n",
       " './test/train_raw/app\\\\app (495).jpg',\n",
       " './test/train_raw/app\\\\app (496).jpg',\n",
       " './test/train_raw/app\\\\app (497).jpg',\n",
       " './test/train_raw/app\\\\app (498).jpg',\n",
       " './test/train_raw/app\\\\app (499).jpg',\n",
       " './test/train_raw/app\\\\app (5).jpg',\n",
       " './test/train_raw/app\\\\app (50).jpg',\n",
       " './test/train_raw/app\\\\app (500).jpg',\n",
       " './test/train_raw/app\\\\app (501).jpg',\n",
       " './test/train_raw/app\\\\app (502).jpg',\n",
       " './test/train_raw/app\\\\app (503).jpg',\n",
       " './test/train_raw/app\\\\app (504).jpg',\n",
       " './test/train_raw/app\\\\app (505).jpg',\n",
       " './test/train_raw/app\\\\app (506).jpg',\n",
       " './test/train_raw/app\\\\app (507).jpg',\n",
       " './test/train_raw/app\\\\app (508).jpg',\n",
       " './test/train_raw/app\\\\app (509).jpg',\n",
       " './test/train_raw/app\\\\app (51).jpg',\n",
       " './test/train_raw/app\\\\app (510).jpg',\n",
       " './test/train_raw/app\\\\app (511).jpg',\n",
       " './test/train_raw/app\\\\app (512).jpg',\n",
       " './test/train_raw/app\\\\app (513).jpg',\n",
       " './test/train_raw/app\\\\app (514).jpg',\n",
       " './test/train_raw/app\\\\app (515).jpg',\n",
       " './test/train_raw/app\\\\app (516).jpg',\n",
       " './test/train_raw/app\\\\app (517).jpg',\n",
       " './test/train_raw/app\\\\app (518).jpg',\n",
       " './test/train_raw/app\\\\app (519).jpg',\n",
       " './test/train_raw/app\\\\app (52).jpg',\n",
       " './test/train_raw/app\\\\app (520).jpg',\n",
       " './test/train_raw/app\\\\app (521).jpg',\n",
       " './test/train_raw/app\\\\app (522).jpg',\n",
       " './test/train_raw/app\\\\app (523).jpg',\n",
       " './test/train_raw/app\\\\app (524).jpg',\n",
       " './test/train_raw/app\\\\app (525).jpg',\n",
       " './test/train_raw/app\\\\app (526).jpg',\n",
       " './test/train_raw/app\\\\app (527).jpg',\n",
       " './test/train_raw/app\\\\app (528).jpg',\n",
       " './test/train_raw/app\\\\app (529).jpg',\n",
       " './test/train_raw/app\\\\app (53).jpg',\n",
       " './test/train_raw/app\\\\app (530).jpg',\n",
       " './test/train_raw/app\\\\app (531).jpg',\n",
       " './test/train_raw/app\\\\app (532).jpg',\n",
       " './test/train_raw/app\\\\app (533).jpg',\n",
       " './test/train_raw/app\\\\app (534).jpg',\n",
       " './test/train_raw/app\\\\app (535).jpg',\n",
       " './test/train_raw/app\\\\app (536).jpg',\n",
       " './test/train_raw/app\\\\app (537).jpg',\n",
       " './test/train_raw/app\\\\app (538).jpg',\n",
       " './test/train_raw/app\\\\app (539).jpg',\n",
       " './test/train_raw/app\\\\app (54).jpg',\n",
       " './test/train_raw/app\\\\app (540).jpg',\n",
       " './test/train_raw/app\\\\app (541).jpg',\n",
       " './test/train_raw/app\\\\app (542).jpg',\n",
       " './test/train_raw/app\\\\app (543).jpg',\n",
       " './test/train_raw/app\\\\app (544).jpg',\n",
       " './test/train_raw/app\\\\app (545).jpg',\n",
       " './test/train_raw/app\\\\app (546).jpg',\n",
       " './test/train_raw/app\\\\app (547).jpg',\n",
       " './test/train_raw/app\\\\app (548).jpg',\n",
       " './test/train_raw/app\\\\app (549).jpg',\n",
       " './test/train_raw/app\\\\app (55).jpg',\n",
       " './test/train_raw/app\\\\app (550).jpg',\n",
       " './test/train_raw/app\\\\app (551).jpg',\n",
       " './test/train_raw/app\\\\app (552).jpg',\n",
       " './test/train_raw/app\\\\app (553).jpg',\n",
       " './test/train_raw/app\\\\app (554).jpg',\n",
       " './test/train_raw/app\\\\app (555).jpg',\n",
       " './test/train_raw/app\\\\app (556).jpg',\n",
       " './test/train_raw/app\\\\app (557).jpg',\n",
       " './test/train_raw/app\\\\app (558).jpg',\n",
       " './test/train_raw/app\\\\app (559).jpg',\n",
       " './test/train_raw/app\\\\app (56).jpg',\n",
       " './test/train_raw/app\\\\app (560).jpg',\n",
       " './test/train_raw/app\\\\app (561).jpg',\n",
       " './test/train_raw/app\\\\app (562).jpg',\n",
       " './test/train_raw/app\\\\app (563).jpg',\n",
       " './test/train_raw/app\\\\app (564).jpg',\n",
       " './test/train_raw/app\\\\app (565).jpg',\n",
       " './test/train_raw/app\\\\app (566).jpg',\n",
       " './test/train_raw/app\\\\app (567).jpg',\n",
       " './test/train_raw/app\\\\app (568).jpg',\n",
       " './test/train_raw/app\\\\app (569).jpg',\n",
       " './test/train_raw/app\\\\app (57).jpg',\n",
       " './test/train_raw/app\\\\app (570).jpg',\n",
       " './test/train_raw/app\\\\app (571).jpg',\n",
       " './test/train_raw/app\\\\app (572).jpg',\n",
       " './test/train_raw/app\\\\app (573).jpg',\n",
       " './test/train_raw/app\\\\app (574).jpg',\n",
       " './test/train_raw/app\\\\app (575).jpg',\n",
       " './test/train_raw/app\\\\app (576).jpg',\n",
       " './test/train_raw/app\\\\app (577).jpg',\n",
       " './test/train_raw/app\\\\app (578).jpg',\n",
       " './test/train_raw/app\\\\app (579).jpg',\n",
       " './test/train_raw/app\\\\app (58).jpg',\n",
       " './test/train_raw/app\\\\app (580).jpg',\n",
       " './test/train_raw/app\\\\app (581).jpg',\n",
       " './test/train_raw/app\\\\app (582).jpg',\n",
       " './test/train_raw/app\\\\app (583).jpg',\n",
       " './test/train_raw/app\\\\app (584).jpg',\n",
       " './test/train_raw/app\\\\app (585).jpg',\n",
       " './test/train_raw/app\\\\app (586).jpg',\n",
       " './test/train_raw/app\\\\app (587).jpg',\n",
       " './test/train_raw/app\\\\app (588).jpg',\n",
       " './test/train_raw/app\\\\app (589).jpg',\n",
       " './test/train_raw/app\\\\app (59).jpg',\n",
       " './test/train_raw/app\\\\app (590).jpg',\n",
       " './test/train_raw/app\\\\app (591).jpg',\n",
       " './test/train_raw/app\\\\app (592).jpg',\n",
       " './test/train_raw/app\\\\app (593).jpg',\n",
       " './test/train_raw/app\\\\app (594).jpg',\n",
       " './test/train_raw/app\\\\app (595).jpg',\n",
       " './test/train_raw/app\\\\app (596).jpg',\n",
       " './test/train_raw/app\\\\app (597).jpg',\n",
       " './test/train_raw/app\\\\app (598).jpg',\n",
       " './test/train_raw/app\\\\app (599).jpg',\n",
       " './test/train_raw/app\\\\app (6).jpg',\n",
       " './test/train_raw/app\\\\app (60).jpg',\n",
       " './test/train_raw/app\\\\app (600).jpg',\n",
       " './test/train_raw/app\\\\app (601).jpg',\n",
       " './test/train_raw/app\\\\app (602).jpg',\n",
       " './test/train_raw/app\\\\app (603).jpg',\n",
       " './test/train_raw/app\\\\app (604).jpg',\n",
       " './test/train_raw/app\\\\app (605).jpg',\n",
       " './test/train_raw/app\\\\app (606).jpg',\n",
       " './test/train_raw/app\\\\app (607).jpg',\n",
       " './test/train_raw/app\\\\app (608).jpg',\n",
       " './test/train_raw/app\\\\app (609).jpg',\n",
       " './test/train_raw/app\\\\app (61).jpg',\n",
       " './test/train_raw/app\\\\app (610).jpg',\n",
       " './test/train_raw/app\\\\app (611).jpg',\n",
       " './test/train_raw/app\\\\app (612).jpg',\n",
       " './test/train_raw/app\\\\app (613).jpg',\n",
       " './test/train_raw/app\\\\app (614).jpg',\n",
       " './test/train_raw/app\\\\app (615).jpg',\n",
       " './test/train_raw/app\\\\app (616).jpg',\n",
       " './test/train_raw/app\\\\app (617).jpg',\n",
       " './test/train_raw/app\\\\app (618).jpg',\n",
       " './test/train_raw/app\\\\app (619).jpg',\n",
       " './test/train_raw/app\\\\app (62).jpg',\n",
       " './test/train_raw/app\\\\app (620).jpg',\n",
       " './test/train_raw/app\\\\app (621).jpg',\n",
       " './test/train_raw/app\\\\app (622).jpg',\n",
       " './test/train_raw/app\\\\app (623).jpg',\n",
       " './test/train_raw/app\\\\app (624).jpg',\n",
       " './test/train_raw/app\\\\app (625).jpg',\n",
       " './test/train_raw/app\\\\app (626).jpg',\n",
       " './test/train_raw/app\\\\app (627).jpg',\n",
       " './test/train_raw/app\\\\app (628).jpg',\n",
       " './test/train_raw/app\\\\app (629).jpg',\n",
       " './test/train_raw/app\\\\app (63).jpg',\n",
       " './test/train_raw/app\\\\app (630).jpg',\n",
       " './test/train_raw/app\\\\app (631).jpg',\n",
       " './test/train_raw/app\\\\app (632).jpg',\n",
       " './test/train_raw/app\\\\app (633).jpg',\n",
       " './test/train_raw/app\\\\app (634).jpg',\n",
       " './test/train_raw/app\\\\app (635).jpg',\n",
       " './test/train_raw/app\\\\app (636).jpg',\n",
       " './test/train_raw/app\\\\app (637).jpg',\n",
       " './test/train_raw/app\\\\app (638).jpg',\n",
       " './test/train_raw/app\\\\app (639).jpg',\n",
       " './test/train_raw/app\\\\app (64).jpg',\n",
       " './test/train_raw/app\\\\app (640).jpg',\n",
       " './test/train_raw/app\\\\app (641).jpg',\n",
       " './test/train_raw/app\\\\app (642).jpg',\n",
       " './test/train_raw/app\\\\app (643).jpg',\n",
       " './test/train_raw/app\\\\app (644).jpg',\n",
       " './test/train_raw/app\\\\app (645).jpg',\n",
       " './test/train_raw/app\\\\app (646).jpg',\n",
       " './test/train_raw/app\\\\app (647).jpg',\n",
       " './test/train_raw/app\\\\app (648).jpg',\n",
       " './test/train_raw/app\\\\app (649).jpg',\n",
       " './test/train_raw/app\\\\app (65).jpg',\n",
       " './test/train_raw/app\\\\app (650).jpg',\n",
       " './test/train_raw/app\\\\app (651).jpg',\n",
       " './test/train_raw/app\\\\app (652).jpg',\n",
       " './test/train_raw/app\\\\app (653).jpg',\n",
       " './test/train_raw/app\\\\app (654).jpg',\n",
       " './test/train_raw/app\\\\app (655).jpg',\n",
       " './test/train_raw/app\\\\app (656).jpg',\n",
       " './test/train_raw/app\\\\app (657).jpg',\n",
       " './test/train_raw/app\\\\app (658).jpg',\n",
       " './test/train_raw/app\\\\app (659).jpg',\n",
       " './test/train_raw/app\\\\app (66).jpg',\n",
       " './test/train_raw/app\\\\app (660).jpg',\n",
       " './test/train_raw/app\\\\app (661).jpg',\n",
       " './test/train_raw/app\\\\app (662).jpg',\n",
       " './test/train_raw/app\\\\app (663).jpg',\n",
       " './test/train_raw/app\\\\app (664).jpg',\n",
       " './test/train_raw/app\\\\app (665).jpg',\n",
       " './test/train_raw/app\\\\app (666).jpg',\n",
       " './test/train_raw/app\\\\app (667).jpg',\n",
       " './test/train_raw/app\\\\app (668).jpg',\n",
       " './test/train_raw/app\\\\app (669).jpg',\n",
       " './test/train_raw/app\\\\app (67).jpg',\n",
       " './test/train_raw/app\\\\app (670).jpg',\n",
       " './test/train_raw/app\\\\app (671).jpg',\n",
       " './test/train_raw/app\\\\app (672).jpg',\n",
       " './test/train_raw/app\\\\app (673).jpg',\n",
       " './test/train_raw/app\\\\app (674).jpg',\n",
       " './test/train_raw/app\\\\app (675).jpg',\n",
       " './test/train_raw/app\\\\app (676).jpg',\n",
       " './test/train_raw/app\\\\app (677).jpg',\n",
       " './test/train_raw/app\\\\app (678).jpg',\n",
       " './test/train_raw/app\\\\app (679).jpg',\n",
       " './test/train_raw/app\\\\app (68).jpg',\n",
       " './test/train_raw/app\\\\app (680).jpg',\n",
       " './test/train_raw/app\\\\app (681).jpg',\n",
       " './test/train_raw/app\\\\app (682).jpg',\n",
       " './test/train_raw/app\\\\app (683).jpg',\n",
       " './test/train_raw/app\\\\app (684).jpg',\n",
       " './test/train_raw/app\\\\app (685).jpg',\n",
       " './test/train_raw/app\\\\app (686).jpg',\n",
       " './test/train_raw/app\\\\app (687).jpg',\n",
       " './test/train_raw/app\\\\app (688).jpg',\n",
       " './test/train_raw/app\\\\app (689).jpg',\n",
       " './test/train_raw/app\\\\app (69).jpg',\n",
       " './test/train_raw/app\\\\app (690).jpg',\n",
       " './test/train_raw/app\\\\app (691).jpg',\n",
       " './test/train_raw/app\\\\app (692).jpg',\n",
       " './test/train_raw/app\\\\app (693).jpg',\n",
       " './test/train_raw/app\\\\app (694).jpg',\n",
       " './test/train_raw/app\\\\app (695).jpg',\n",
       " './test/train_raw/app\\\\app (696).jpg',\n",
       " './test/train_raw/app\\\\app (697).jpg',\n",
       " './test/train_raw/app\\\\app (698).jpg',\n",
       " './test/train_raw/app\\\\app (699).jpg',\n",
       " './test/train_raw/app\\\\app (7).jpg',\n",
       " './test/train_raw/app\\\\app (70).jpg',\n",
       " './test/train_raw/app\\\\app (700).jpg',\n",
       " './test/train_raw/app\\\\app (701).jpg',\n",
       " './test/train_raw/app\\\\app (702).jpg',\n",
       " './test/train_raw/app\\\\app (703).jpg',\n",
       " './test/train_raw/app\\\\app (704).jpg',\n",
       " './test/train_raw/app\\\\app (705).jpg',\n",
       " './test/train_raw/app\\\\app (706).jpg',\n",
       " './test/train_raw/app\\\\app (707).jpg',\n",
       " './test/train_raw/app\\\\app (708).jpg',\n",
       " './test/train_raw/app\\\\app (709).jpg',\n",
       " './test/train_raw/app\\\\app (71).jpg',\n",
       " './test/train_raw/app\\\\app (710).jpg',\n",
       " './test/train_raw/app\\\\app (711).jpg',\n",
       " './test/train_raw/app\\\\app (712).jpg',\n",
       " './test/train_raw/app\\\\app (713).jpg',\n",
       " './test/train_raw/app\\\\app (714).jpg',\n",
       " './test/train_raw/app\\\\app (715).jpg',\n",
       " './test/train_raw/app\\\\app (716).jpg',\n",
       " './test/train_raw/app\\\\app (717).jpg',\n",
       " './test/train_raw/app\\\\app (718).jpg',\n",
       " './test/train_raw/app\\\\app (719).jpg',\n",
       " './test/train_raw/app\\\\app (72).jpg',\n",
       " './test/train_raw/app\\\\app (720).jpg',\n",
       " './test/train_raw/app\\\\app (721).jpg',\n",
       " './test/train_raw/app\\\\app (722).jpg',\n",
       " './test/train_raw/app\\\\app (723).jpg',\n",
       " './test/train_raw/app\\\\app (724).jpg',\n",
       " './test/train_raw/app\\\\app (725).jpg',\n",
       " './test/train_raw/app\\\\app (726).jpg',\n",
       " './test/train_raw/app\\\\app (727).jpg',\n",
       " './test/train_raw/app\\\\app (728).jpg',\n",
       " './test/train_raw/app\\\\app (729).jpg',\n",
       " './test/train_raw/app\\\\app (73).jpg',\n",
       " './test/train_raw/app\\\\app (730).jpg',\n",
       " './test/train_raw/app\\\\app (731).jpg',\n",
       " './test/train_raw/app\\\\app (732).jpg',\n",
       " './test/train_raw/app\\\\app (733).jpg',\n",
       " './test/train_raw/app\\\\app (734).jpg',\n",
       " './test/train_raw/app\\\\app (735).jpg',\n",
       " './test/train_raw/app\\\\app (736).jpg',\n",
       " './test/train_raw/app\\\\app (737).jpg',\n",
       " './test/train_raw/app\\\\app (738).jpg',\n",
       " './test/train_raw/app\\\\app (739).jpg',\n",
       " './test/train_raw/app\\\\app (74).jpg',\n",
       " './test/train_raw/app\\\\app (740).jpg',\n",
       " './test/train_raw/app\\\\app (741).jpg',\n",
       " './test/train_raw/app\\\\app (742).jpg',\n",
       " './test/train_raw/app\\\\app (743).jpg',\n",
       " './test/train_raw/app\\\\app (744).jpg',\n",
       " './test/train_raw/app\\\\app (745).jpg',\n",
       " './test/train_raw/app\\\\app (746).jpg',\n",
       " './test/train_raw/app\\\\app (747).jpg',\n",
       " './test/train_raw/app\\\\app (748).jpg',\n",
       " './test/train_raw/app\\\\app (749).jpg',\n",
       " './test/train_raw/app\\\\app (75).jpg',\n",
       " './test/train_raw/app\\\\app (750).jpg',\n",
       " './test/train_raw/app\\\\app (751).jpg',\n",
       " './test/train_raw/app\\\\app (752).jpg',\n",
       " './test/train_raw/app\\\\app (753).jpg',\n",
       " './test/train_raw/app\\\\app (754).jpg',\n",
       " './test/train_raw/app\\\\app (755).jpg',\n",
       " './test/train_raw/app\\\\app (756).jpg',\n",
       " './test/train_raw/app\\\\app (757).jpg',\n",
       " './test/train_raw/app\\\\app (758).jpg',\n",
       " './test/train_raw/app\\\\app (759).jpg',\n",
       " './test/train_raw/app\\\\app (76).jpg',\n",
       " './test/train_raw/app\\\\app (760).jpg',\n",
       " './test/train_raw/app\\\\app (761).jpg',\n",
       " './test/train_raw/app\\\\app (762).jpg',\n",
       " './test/train_raw/app\\\\app (763).jpg',\n",
       " './test/train_raw/app\\\\app (764).jpg',\n",
       " './test/train_raw/app\\\\app (765).jpg',\n",
       " './test/train_raw/app\\\\app (766).jpg',\n",
       " './test/train_raw/app\\\\app (767).jpg',\n",
       " './test/train_raw/app\\\\app (768).jpg',\n",
       " './test/train_raw/app\\\\app (769).jpg',\n",
       " './test/train_raw/app\\\\app (77).jpg',\n",
       " './test/train_raw/app\\\\app (770).jpg',\n",
       " './test/train_raw/app\\\\app (771).jpg',\n",
       " './test/train_raw/app\\\\app (772).jpg',\n",
       " './test/train_raw/app\\\\app (773).jpg',\n",
       " './test/train_raw/app\\\\app (774).jpg',\n",
       " './test/train_raw/app\\\\app (775).jpg',\n",
       " './test/train_raw/app\\\\app (776).jpg',\n",
       " './test/train_raw/app\\\\app (777).jpg',\n",
       " './test/train_raw/app\\\\app (778).jpg',\n",
       " './test/train_raw/app\\\\app (779).jpg',\n",
       " './test/train_raw/app\\\\app (78).jpg',\n",
       " './test/train_raw/app\\\\app (780).jpg',\n",
       " './test/train_raw/app\\\\app (781).jpg',\n",
       " './test/train_raw/app\\\\app (782).jpg',\n",
       " './test/train_raw/app\\\\app (783).jpg',\n",
       " './test/train_raw/app\\\\app (784).jpg',\n",
       " './test/train_raw/app\\\\app (785).jpg',\n",
       " './test/train_raw/app\\\\app (786).jpg',\n",
       " './test/train_raw/app\\\\app (787).jpg',\n",
       " './test/train_raw/app\\\\app (788).jpg',\n",
       " './test/train_raw/app\\\\app (789).jpg',\n",
       " './test/train_raw/app\\\\app (79).jpg',\n",
       " './test/train_raw/app\\\\app (790).jpg',\n",
       " './test/train_raw/app\\\\app (791).jpg',\n",
       " './test/train_raw/app\\\\app (792).jpg',\n",
       " './test/train_raw/app\\\\app (793).jpg',\n",
       " './test/train_raw/app\\\\app (794).jpg',\n",
       " './test/train_raw/app\\\\app (795).jpg',\n",
       " './test/train_raw/app\\\\app (796).jpg',\n",
       " './test/train_raw/app\\\\app (797).jpg',\n",
       " './test/train_raw/app\\\\app (798).jpg',\n",
       " './test/train_raw/app\\\\app (799).jpg',\n",
       " './test/train_raw/app\\\\app (8).jpg',\n",
       " './test/train_raw/app\\\\app (80).jpg',\n",
       " './test/train_raw/app\\\\app (800).jpg',\n",
       " './test/train_raw/app\\\\app (801).jpg',\n",
       " './test/train_raw/app\\\\app (802).jpg',\n",
       " './test/train_raw/app\\\\app (803).jpg',\n",
       " './test/train_raw/app\\\\app (804).jpg',\n",
       " './test/train_raw/app\\\\app (805).jpg',\n",
       " './test/train_raw/app\\\\app (806).jpg',\n",
       " './test/train_raw/app\\\\app (807).jpg',\n",
       " './test/train_raw/app\\\\app (808).jpg',\n",
       " './test/train_raw/app\\\\app (809).jpg',\n",
       " './test/train_raw/app\\\\app (81).jpg',\n",
       " './test/train_raw/app\\\\app (810).jpg',\n",
       " './test/train_raw/app\\\\app (811).jpg',\n",
       " './test/train_raw/app\\\\app (812).jpg',\n",
       " './test/train_raw/app\\\\app (813).jpg',\n",
       " './test/train_raw/app\\\\app (814).jpg',\n",
       " './test/train_raw/app\\\\app (815).jpg',\n",
       " './test/train_raw/app\\\\app (816).jpg',\n",
       " './test/train_raw/app\\\\app (817).jpg',\n",
       " './test/train_raw/app\\\\app (818).jpg',\n",
       " ...]"
      ]
     },
     "execution_count": 9,
     "metadata": {},
     "output_type": "execute_result"
    }
   ],
   "source": [
    "train_app_list"
   ]
  },
  {
   "cell_type": "code",
   "execution_count": 36,
   "id": "32ebaca5",
   "metadata": {
    "ExecuteTime": {
     "end_time": "2021-12-23T09:49:20.824691Z",
     "start_time": "2021-12-23T09:49:20.811713Z"
    }
   },
   "outputs": [],
   "source": [
    "from skimage.transform import rescale, resize\n",
    "from skimage import color\n",
    "from skimage.io import imread, imsave\n",
    "import matplotlib.pyplot as plt\n",
    "\n",
    "plt.style.use('ggplot')"
   ]
  },
  {
   "cell_type": "code",
   "execution_count": 11,
   "id": "e7af6ef9",
   "metadata": {
    "ExecuteTime": {
     "end_time": "2021-12-23T09:37:35.194410Z",
     "start_time": "2021-12-23T09:37:34.992068Z"
    }
   },
   "outputs": [
    {
     "data": {
      "text/plain": [
       "<matplotlib.image.AxesImage at 0x2284d43aee0>"
      ]
     },
     "execution_count": 11,
     "metadata": {},
     "output_type": "execute_result"
    },
    {
     "data": {
      "image/png": "[encoded data removed]",
      "text/plain": [
       "<Figure size 432x288 with 1 Axes>"
      ]
     },
     "metadata": {
      "needs_background": "light"
     },
     "output_type": "display_data"
    }
   ],
   "source": [
    "image = imread(train_app_list[0])\n",
    "image = color.rgb2gray(image)\n",
    "plt.imshow(image, cmap = 'gray')"
   ]
  },
  {
   "cell_type": "code",
   "execution_count": 12,
   "id": "b8f68d8b",
   "metadata": {
    "ExecuteTime": {
     "end_time": "2021-12-23T09:37:38.260585Z",
     "start_time": "2021-12-23T09:37:38.256638Z"
    }
   },
   "outputs": [],
   "source": [
    "import numpy as np"
   ]
  },
  {
   "cell_type": "code",
   "execution_count": 13,
   "id": "67763db5",
   "metadata": {
    "ExecuteTime": {
     "end_time": "2021-12-23T09:37:38.637924Z",
     "start_time": "2021-12-23T09:37:38.560466Z"
    }
   },
   "outputs": [],
   "source": [
    "imsave('./tmp.png', np.round(image * 255).astype(np.uint8))"
   ]
  },
  {
   "cell_type": "code",
   "execution_count": 14,
   "id": "2fc031e3",
   "metadata": {
    "ExecuteTime": {
     "end_time": "2021-12-23T09:37:39.328560Z",
     "start_time": "2021-12-23T09:37:39.175978Z"
    }
   },
   "outputs": [
    {
     "name": "stdout",
     "output_type": "stream",
     "text": [
      "(292, 292)\n"
     ]
    },
    {
     "data": {
      "text/plain": [
       "<matplotlib.image.AxesImage at 0x2284e4adf70>"
      ]
     },
     "execution_count": 14,
     "metadata": {},
     "output_type": "execute_result"
    },
    {
     "data": {
      "image/png": "[encoded data removed]",
      "text/plain": [
       "<Figure size 432x288 with 1 Axes>"
      ]
     },
     "metadata": {
      "needs_background": "light"
     },
     "output_type": "display_data"
    }
   ],
   "source": [
    "tmp = imread('tmp.png')\n",
    "print(tmp.shape)\n",
    "plt.imshow(tmp, cmap = 'gray')"
   ]
  },
  {
   "cell_type": "code",
   "execution_count": 15,
   "id": "3f389206",
   "metadata": {
    "ExecuteTime": {
     "end_time": "2021-12-23T09:37:42.029677Z",
     "start_time": "2021-12-23T09:37:42.009748Z"
    }
   },
   "outputs": [
    {
     "data": {
      "text/plain": [
       "'app\\\\app (1)'"
      ]
     },
     "execution_count": 15,
     "metadata": {},
     "output_type": "execute_result"
    }
   ],
   "source": [
    "train_app_list[0].split('/')[-1][:-4]"
   ]
  },
  {
   "cell_type": "code",
   "execution_count": 16,
   "id": "e55a380b",
   "metadata": {
    "ExecuteTime": {
     "end_time": "2021-12-23T09:37:43.450193Z",
     "start_time": "2021-12-23T09:37:43.440135Z"
    }
   },
   "outputs": [],
   "source": [
    "def img_load(img):\n",
    "    img = color.rgb2gray(img)\n",
    "    return img"
   ]
  },
  {
   "cell_type": "code",
   "execution_count": 17,
   "id": "8d5c6857",
   "metadata": {
    "ExecuteTime": {
     "end_time": "2021-12-23T09:39:04.100239Z",
     "start_time": "2021-12-23T09:37:49.760576Z"
    }
   },
   "outputs": [
    {
     "data": {
      "application/vnd.jupyter.widget-view+json": {
       "model_id": "463d90b647d34d83b55d05820ab7721b",
       "version_major": 2,
       "version_minor": 0
      },
      "text/plain": [
       "  0%|          | 0/1200 [00:00<?, ?it/s]"
      ]
     },
     "metadata": {},
     "output_type": "display_data"
    },
    {
     "name": "stderr",
     "output_type": "stream",
     "text": [
      "<ipython-input-16-79aa9c0c631f>:2: FutureWarning: Non RGB image conversion is now deprecated. For RGBA images, please use rgb2gray(rgba2rgb(rgb)) instead. In version 0.19, a ValueError will be raised if input image last dimension length is not 3.\n",
      "  img = color.rgb2gray(img)\n",
      "<ipython-input-17-ec92522fa5c9>:9: UserWarning: ./test/train/app\\app (447).png is a low contrast image\n",
      "  imsave(save_name, np.round(img_loaded * 255).astype(np.uint8))\n",
      "<ipython-input-17-ec92522fa5c9>:9: UserWarning: ./test/train/app\\app (488).png is a low contrast image\n",
      "  imsave(save_name, np.round(img_loaded * 255).astype(np.uint8))\n"
     ]
    }
   ],
   "source": [
    "from tqdm.notebook import tqdm\n",
    "\n",
    "def convert_train_app():\n",
    "    train_app_list = glob('./test/train_raw/app/*')\n",
    "    for each in tqdm(train_app_list):\n",
    "        img = imread(each)\n",
    "        img_loaded = img_load(img)\n",
    "        save_name = './test/train/' + each.split('/')[-1][:-4] + '.png'\n",
    "        imsave(save_name, np.round(img_loaded * 255).astype(np.uint8))\n",
    "convert_train_app()"
   ]
  },
  {
   "cell_type": "code",
   "execution_count": 18,
   "id": "eb488c71",
   "metadata": {
    "ExecuteTime": {
     "end_time": "2021-12-23T09:41:15.982230Z",
     "start_time": "2021-12-23T09:39:32.449718Z"
    }
   },
   "outputs": [
    {
     "data": {
      "application/vnd.jupyter.widget-view+json": {
       "model_id": "0903bef5d55f48b4aec4150d26430d86",
       "version_major": 2,
       "version_minor": 0
      },
      "text/plain": [
       "  0%|          | 0/1200 [00:00<?, ?it/s]"
      ]
     },
     "metadata": {},
     "output_type": "display_data"
    }
   ],
   "source": [
    "def convert_train_sam():\n",
    "    train_sam_list = glob('./test/train_raw/sam/*')\n",
    "    for each in tqdm(train_sam_list):\n",
    "        img = imread(each)\n",
    "        img_loaded = img_load(img)\n",
    "        save_name = './test/train/' + each.split('/')[-1][:-4] + '.png'\n",
    "        imsave(save_name, np.round(img_loaded * 255).astype(np.uint8))\n",
    "convert_train_sam()"
   ]
  },
  {
   "cell_type": "code",
   "execution_count": 19,
   "id": "714ea38d",
   "metadata": {
    "ExecuteTime": {
     "end_time": "2021-12-23T09:41:36.431384Z",
     "start_time": "2021-12-23T09:41:16.014378Z"
    }
   },
   "outputs": [
    {
     "data": {
      "application/vnd.jupyter.widget-view+json": {
       "model_id": "3e16fa48c17747279d22785a181b1d1b",
       "version_major": 2,
       "version_minor": 0
      },
      "text/plain": [
       "  0%|          | 0/300 [00:00<?, ?it/s]"
      ]
     },
     "metadata": {},
     "output_type": "display_data"
    }
   ],
   "source": [
    "def convert_test_app():\n",
    "    test_app_list = glob('./test/test_raw/app/*')\n",
    "    for each in tqdm(test_app_list):\n",
    "        img = imread(each)\n",
    "        img_loaded = img_load(img)\n",
    "        save_name = './test/test/' + each.split('/')[-1][:-4] + '.png'\n",
    "        imsave(save_name, np.round(img_loaded * 255).astype(np.uint8))\n",
    "convert_test_app()"
   ]
  },
  {
   "cell_type": "code",
   "execution_count": 20,
   "id": "11d3d43f",
   "metadata": {
    "ExecuteTime": {
     "end_time": "2021-12-23T09:41:57.164123Z",
     "start_time": "2021-12-23T09:41:36.462783Z"
    }
   },
   "outputs": [
    {
     "data": {
      "application/vnd.jupyter.widget-view+json": {
       "model_id": "6dc588637b454011a0c413daa8a7bc98",
       "version_major": 2,
       "version_minor": 0
      },
      "text/plain": [
       "  0%|          | 0/300 [00:00<?, ?it/s]"
      ]
     },
     "metadata": {},
     "output_type": "display_data"
    },
    {
     "name": "stderr",
     "output_type": "stream",
     "text": [
      "<ipython-input-16-79aa9c0c631f>:2: FutureWarning: Non RGB image conversion is now deprecated. For RGBA images, please use rgb2gray(rgba2rgb(rgb)) instead. In version 0.19, a ValueError will be raised if input image last dimension length is not 3.\n",
      "  img = color.rgb2gray(img)\n",
      "<ipython-input-20-8a2b4af0d34c>:7: UserWarning: ./test/test/sam\\sam (1296).png is a low contrast image\n",
      "  imsave(save_name, np.round(img_loaded * 255).astype(np.uint8))\n"
     ]
    }
   ],
   "source": [
    "def convert_test_sam():\n",
    "    test_sam_list = glob('./test/test_raw/sam/*')\n",
    "    for each in tqdm(test_sam_list):\n",
    "        img = imread(each)\n",
    "        img_loaded = img_load(img)\n",
    "        save_name = './test/test/' + each.split('/')[-1][:-4] + '.png'\n",
    "        imsave(save_name, np.round(img_loaded * 255).astype(np.uint8))\n",
    "convert_test_sam()"
   ]
  },
  {
   "cell_type": "code",
   "execution_count": 21,
   "id": "fe61c303",
   "metadata": {
    "ExecuteTime": {
     "end_time": "2021-12-23T09:42:08.840489Z",
     "start_time": "2021-12-23T09:42:03.010709Z"
    }
   },
   "outputs": [],
   "source": [
    "import numpy as np\n",
    "from keras.models import Sequential\n",
    "from keras.layers import Dense\n",
    "from keras.layers import Flatten\n",
    "from keras.layers.convolutional import Conv2D\n",
    "from keras.layers.convolutional import MaxPooling2D\n",
    "from keras.preprocessing.image import ImageDataGenerator\n",
    "import keras\n",
    "\n",
    "np.random.seed(42)"
   ]
  },
  {
   "cell_type": "code",
   "execution_count": 22,
   "id": "06406b0d",
   "metadata": {
    "ExecuteTime": {
     "end_time": "2021-12-23T09:42:16.019341Z",
     "start_time": "2021-12-23T09:42:16.003389Z"
    }
   },
   "outputs": [
    {
     "data": {
      "text/plain": [
       "'2.7.0'"
      ]
     },
     "execution_count": 22,
     "metadata": {},
     "output_type": "execute_result"
    }
   ],
   "source": [
    "keras.__version__"
   ]
  },
  {
   "cell_type": "code",
   "execution_count": 23,
   "id": "68751f64",
   "metadata": {
    "ExecuteTime": {
     "end_time": "2021-12-23T09:42:17.037191Z",
     "start_time": "2021-12-23T09:42:16.682312Z"
    }
   },
   "outputs": [
    {
     "name": "stdout",
     "output_type": "stream",
     "text": [
      "Found 2400 images belonging to 2 classes.\n",
      "Found 600 images belonging to 2 classes.\n"
     ]
    }
   ],
   "source": [
    "train_datagen = ImageDataGenerator(rescale = 1./255)\n",
    "\n",
    "train_generator = train_datagen.flow_from_directory(\n",
    "                    './test/train'\n",
    "                    , target_size = (292, 292)\n",
    "                    , batch_size = 3\n",
    "                    , class_mode = 'categorical')\n",
    "\n",
    "test_datagen = ImageDataGenerator(rescale = 1./255)\n",
    "\n",
    "test_generator = test_datagen.flow_from_directory(\n",
    "                    './test/test'\n",
    "                    , target_size = (292, 292)\n",
    "                    , batch_size = 3\n",
    "                    , class_mode = 'categorical')"
   ]
  },
  {
   "cell_type": "code",
   "execution_count": 24,
   "id": "ad0bbf96",
   "metadata": {
    "ExecuteTime": {
     "end_time": "2021-12-23T09:42:20.969751Z",
     "start_time": "2021-12-23T09:42:17.939198Z"
    }
   },
   "outputs": [],
   "source": [
    "model = Sequential()\n",
    "model.add(Conv2D(32, kernel_size = (3,3)\n",
    "                , activation = 'relu'\n",
    "                , input_shape = (292, 292, 3)))\n",
    "model.add(Conv2D(64, (3, 3), activation = 'relu'))\n",
    "model.add(MaxPooling2D(pool_size = (2, 2)))\n",
    "model.add(Flatten())\n",
    "model.add(Dense(128, activation = 'relu'))\n",
    "model.add(Dense(2, activation = 'softmax'))"
   ]
  },
  {
   "cell_type": "code",
   "execution_count": 25,
   "id": "1232bfab",
   "metadata": {
    "ExecuteTime": {
     "end_time": "2021-12-23T09:42:21.636618Z",
     "start_time": "2021-12-23T09:42:21.624650Z"
    }
   },
   "outputs": [
    {
     "name": "stdout",
     "output_type": "stream",
     "text": [
      "Model: \"sequential\"\n",
      "_________________________________________________________________\n",
      " Layer (type)                Output Shape              Param #   \n",
      "=================================================================\n",
      " conv2d (Conv2D)             (None, 290, 290, 32)      896       \n",
      "                                                                 \n",
      " conv2d_1 (Conv2D)           (None, 288, 288, 64)      18496     \n",
      "                                                                 \n",
      " max_pooling2d (MaxPooling2D  (None, 144, 144, 64)     0         \n",
      " )                                                               \n",
      "                                                                 \n",
      " flatten (Flatten)           (None, 1327104)           0         \n",
      "                                                                 \n",
      " dense (Dense)               (None, 128)               169869440 \n",
      "                                                                 \n",
      " dense_1 (Dense)             (None, 2)                 258       \n",
      "                                                                 \n",
      "=================================================================\n",
      "Total params: 169,889,090\n",
      "Trainable params: 169,889,090\n",
      "Non-trainable params: 0\n",
      "_________________________________________________________________\n"
     ]
    }
   ],
   "source": [
    "model.summary()"
   ]
  },
  {
   "cell_type": "code",
   "execution_count": 26,
   "id": "871fc4b5",
   "metadata": {
    "ExecuteTime": {
     "end_time": "2021-12-23T09:42:24.441883Z",
     "start_time": "2021-12-23T09:42:24.411159Z"
    }
   },
   "outputs": [],
   "source": [
    "model.compile(loss = 'categorical_crossentropy'\n",
    "            , optimizer = 'adam'\n",
    "            , metrics = ['accuracy'])"
   ]
  },
  {
   "cell_type": "code",
   "execution_count": 27,
   "id": "4bccc80d",
   "metadata": {
    "ExecuteTime": {
     "end_time": "2021-12-23T09:45:46.480187Z",
     "start_time": "2021-12-23T09:42:27.842297Z"
    }
   },
   "outputs": [
    {
     "name": "stderr",
     "output_type": "stream",
     "text": [
      "<ipython-input-27-94221fc337d2>:1: UserWarning: `Model.fit_generator` is deprecated and will be removed in a future version. Please use `Model.fit`, which supports generators.\n",
      "  hist = model.fit_generator(\n"
     ]
    },
    {
     "name": "stdout",
     "output_type": "stream",
     "text": [
      "Epoch 1/20\n",
      "5/5 [==============================] - 24s 4s/step - loss: 45.6709 - accuracy: 0.5333 - val_loss: 31.4962 - val_accuracy: 0.5333\n",
      "Epoch 2/20\n",
      "5/5 [==============================] - 11s 2s/step - loss: 16.6789 - accuracy: 0.4000 - val_loss: 3.2700 - val_accuracy: 0.6000\n",
      "Epoch 3/20\n",
      "5/5 [==============================] - 9s 2s/step - loss: 3.2185 - accuracy: 0.5333 - val_loss: 2.7319 - val_accuracy: 0.3333\n",
      "Epoch 4/20\n",
      "5/5 [==============================] - 10s 2s/step - loss: 1.7487 - accuracy: 0.5333 - val_loss: 1.2427 - val_accuracy: 0.5333\n",
      "Epoch 5/20\n",
      "5/5 [==============================] - 10s 2s/step - loss: 0.5729 - accuracy: 0.7333 - val_loss: 0.9664 - val_accuracy: 0.3333\n",
      "Epoch 6/20\n",
      "5/5 [==============================] - 9s 2s/step - loss: 0.6661 - accuracy: 0.5333 - val_loss: 0.5797 - val_accuracy: 0.7333\n",
      "Epoch 7/20\n",
      "5/5 [==============================] - 9s 2s/step - loss: 0.8777 - accuracy: 0.4000 - val_loss: 0.9483 - val_accuracy: 0.4667\n",
      "Epoch 8/20\n",
      "5/5 [==============================] - 9s 2s/step - loss: 0.9876 - accuracy: 0.4000 - val_loss: 0.8197 - val_accuracy: 0.4000\n",
      "Epoch 9/20\n",
      "5/5 [==============================] - 9s 2s/step - loss: 0.7714 - accuracy: 0.2667 - val_loss: 0.6612 - val_accuracy: 0.6667\n",
      "Epoch 10/20\n",
      "5/5 [==============================] - 9s 2s/step - loss: 0.6954 - accuracy: 0.4000 - val_loss: 0.6855 - val_accuracy: 0.5333\n",
      "Epoch 11/20\n",
      "5/5 [==============================] - 9s 2s/step - loss: 0.6887 - accuracy: 0.4667 - val_loss: 0.6927 - val_accuracy: 0.3333\n",
      "Epoch 12/20\n",
      "5/5 [==============================] - 10s 2s/step - loss: 0.6747 - accuracy: 0.6000 - val_loss: 0.6431 - val_accuracy: 0.6667\n",
      "Epoch 13/20\n",
      "5/5 [==============================] - 10s 2s/step - loss: 1.8451 - accuracy: 0.6000 - val_loss: 0.6274 - val_accuracy: 0.8000\n",
      "Epoch 14/20\n",
      "5/5 [==============================] - 10s 2s/step - loss: 0.6639 - accuracy: 0.6000 - val_loss: 0.7898 - val_accuracy: 0.4000\n",
      "Epoch 15/20\n",
      "5/5 [==============================] - 9s 2s/step - loss: 0.9361 - accuracy: 0.6000 - val_loss: 0.6989 - val_accuracy: 0.4667\n",
      "Epoch 16/20\n",
      "5/5 [==============================] - 8s 2s/step - loss: 0.6938 - accuracy: 0.4667 - val_loss: 0.6529 - val_accuracy: 0.6000\n",
      "Epoch 17/20\n",
      "5/5 [==============================] - 8s 2s/step - loss: 0.7021 - accuracy: 0.4000 - val_loss: 0.6756 - val_accuracy: 0.6000\n",
      "Epoch 18/20\n",
      "5/5 [==============================] - 8s 2s/step - loss: 0.9873 - accuracy: 0.6667 - val_loss: 0.9552 - val_accuracy: 0.3333\n",
      "Epoch 19/20\n",
      "5/5 [==============================] - 8s 2s/step - loss: 0.6889 - accuracy: 0.5333 - val_loss: 0.6850 - val_accuracy: 0.4000\n",
      "Epoch 20/20\n",
      "5/5 [==============================] - 8s 2s/step - loss: 0.5187 - accuracy: 0.6667 - val_loss: 7.0044 - val_accuracy: 0.4667\n"
     ]
    }
   ],
   "source": [
    "hist = model.fit_generator(\n",
    "        train_generator\n",
    "        , steps_per_epoch = 5\n",
    "        , epochs = 20\n",
    "        , validation_data = test_generator\n",
    "        , validation_steps = 5)"
   ]
  },
  {
   "cell_type": "code",
   "execution_count": 37,
   "id": "55e6ba01",
   "metadata": {
    "ExecuteTime": {
     "end_time": "2021-12-23T09:49:25.594632Z",
     "start_time": "2021-12-23T09:49:25.403359Z"
    }
   },
   "outputs": [
    {
     "data": {
      "image/png": "[encoded data removed]",
      "text/plain": [
       "<Figure size 864x432 with 1 Axes>"
      ]
     },
     "metadata": {},
     "output_type": "display_data"
    }
   ],
   "source": [
    "plt.figure(figsize = (12,6))\n",
    "plt.plot(hist.history['loss'], label = 'loss')\n",
    "plt.plot(hist.history['val_loss'], label = 'val_loss')\n",
    "plt.plot(hist.history['accuracy'], label = 'acc')\n",
    "plt.plot(hist.history['val_accuracy'], label = 'val_acc')\n",
    "plt.legend()\n",
    "plt.show()"
   ]
  },
  {
   "cell_type": "code",
   "execution_count": 29,
   "id": "4e0b9159",
   "metadata": {
    "ExecuteTime": {
     "end_time": "2021-12-23T09:46:59.248549Z",
     "start_time": "2021-12-23T09:46:58.104913Z"
    }
   },
   "outputs": [
    {
     "name": "stdout",
     "output_type": "stream",
     "text": [
      "5/5 [==============================] - 1s 193ms/step - loss: 5.2451 - accuracy: 0.6000\n",
      "accuracy: 60.00%\n"
     ]
    }
   ],
   "source": [
    "scores = model.evaluate(test_generator, steps = 5)\n",
    "print('%s: %.2f%%' %(model.metrics_names[1], scores[1] * 100))"
   ]
  },
  {
   "cell_type": "code",
   "execution_count": 30,
   "id": "b4a0893c",
   "metadata": {
    "ExecuteTime": {
     "end_time": "2021-12-23T09:47:40.131123Z",
     "start_time": "2021-12-23T09:47:02.535660Z"
    }
   },
   "outputs": [
    {
     "data": {
      "text/plain": [
       "array([[9.9999952e-01, 5.1042736e-07],\n",
       "       [9.9999988e-01, 7.2820491e-08],\n",
       "       [9.9999475e-01, 5.2040750e-06],\n",
       "       ...,\n",
       "       [9.9999070e-01, 9.2540422e-06],\n",
       "       [1.0000000e+00, 3.0985952e-08],\n",
       "       [9.9999988e-01, 1.7034050e-07]], dtype=float32)"
      ]
     },
     "execution_count": 30,
     "metadata": {},
     "output_type": "execute_result"
    }
   ],
   "source": [
    "model.predict(test_generator)"
   ]
  },
  {
   "cell_type": "code",
   "execution_count": 38,
   "id": "dd800c8f",
   "metadata": {
    "ExecuteTime": {
     "end_time": "2021-12-23T09:49:28.654628Z",
     "start_time": "2021-12-23T09:49:28.330278Z"
    }
   },
   "outputs": [
    {
     "data": {
      "image/png": "[encoded data removed]",
      "text/plain": [
       "<Figure size 432x288 with 1 Axes>"
      ]
     },
     "metadata": {},
     "output_type": "display_data"
    }
   ],
   "source": [
    "n = 1\n",
    "def show_prediction_result(n):\n",
    "    img = imread(test_generator.filepaths[n])\n",
    "    pred = model.predict(np.expand_dims(color.gray2rgb(img), axis = 0))\n",
    "    title = 'Predict :' + str(np.argmax(pred))\n",
    "    plt.imshow(img/255, cmap = 'gray')\n",
    "    plt.title(title)\n",
    "    plt.show()\n",
    "    \n",
    "show_prediction_result(n)"
   ]
  },
  {
   "cell_type": "code",
   "execution_count": 39,
   "id": "6536c946",
   "metadata": {
    "ExecuteTime": {
     "end_time": "2021-12-23T09:49:30.684338Z",
     "start_time": "2021-12-23T09:49:30.377821Z"
    }
   },
   "outputs": [
    {
     "data": {
      "image/png": "[encoded data removed]",
      "text/plain": [
       "<Figure size 432x288 with 1 Axes>"
      ]
     },
     "metadata": {},
     "output_type": "display_data"
    }
   ],
   "source": [
    "show_prediction_result(456)"
   ]
  },
  {
   "cell_type": "code",
   "execution_count": null,
   "id": "89ec9745",
   "metadata": {},
   "outputs": [],
   "source": []
  }
 ],
 "metadata": {
  "kernelspec": {
   "display_name": "Python 3",
   "language": "python",
   "name": "python3"
  },
  "language_info": {
   "codemirror_mode": {
    "name": "ipython",
    "version": 3
   },
   "file_extension": ".py",
   "mimetype": "text/x-python",
   "name": "python",
   "nbconvert_exporter": "python",
   "pygments_lexer": "ipython3",
   "version": "3.8.8"
  },
  "toc": {
   "base_numbering": 1,
   "nav_menu": {},
   "number_sections": true,
   "sideBar": true,
   "skip_h1_title": false,
   "title_cell": "Table of Contents",
   "title_sidebar": "Contents",
   "toc_cell": false,
   "toc_position": {},
   "toc_section_display": true,
   "toc_window_display": false
  },
  "varInspector": {
   "cols": {
    "lenName": 16,
    "lenType": 16,
    "lenVar": 40
   },
   "kernels_config": {
    "python": {
     "delete_cmd_postfix": "",
     "delete_cmd_prefix": "del ",
     "library": "var_list.py",
     "varRefreshCmd": "print(var_dic_list())"
    },
    "r": {
     "delete_cmd_postfix": ") ",
     "delete_cmd_prefix": "rm(",
     "library": "var_list.r",
     "varRefreshCmd": "cat(var_dic_list()) "
    }
   },
   "types_to_exclude": [
    "module",
    "function",
    "builtin_function_or_method",
    "instance",
    "_Feature"
   ],
   "window_display": false
  }
 },
 "nbformat": 4,
 "nbformat_minor": 5
}
